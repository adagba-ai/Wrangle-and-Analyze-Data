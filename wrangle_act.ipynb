{
 "cells": [
  {
   "cell_type": "markdown",
   "metadata": {},
   "source": [
    "# Project 2 Wrangling And Analyzing Data "
   ]
  },
  {
   "cell_type": "markdown",
   "metadata": {},
   "source": [
    "## Table of Contents\n",
    "<ul>\n",
    "<li><a href=\"#intro\">Introduction</a></li>\n",
    "<li><a href=\"#gather\">Gather</a></li>\n",
    "<li><a href=\"#assess\">Assess</a></li>\n",
    "<li><a href=\"#qissues\">Data Quality Issues</a></li> \n",
    "<li><a href=\"#clean\">Clean</a></li>\n",
    "<li><a href=\"#storing\">Storing</a></li>    \n",
    "<li><a href=\"#analyzing\">Analyzing, and visualizing Data</a></li> \n",
    "<li><a href=\"#reporting\">Reporting</a></li>    \n",
    "<li><a href=\"#conclusions\">Conclusions And Recommendations</a></li>\n",
    "</ul>"
   ]
  },
  {
   "cell_type": "markdown",
   "metadata": {},
   "source": [
    "<a id='intro'></a>\n",
    "## Introduction\n",
    "* In this project we use real world data to gather, assess, and clean data, a process which is called Data Wrangling. We then apply analysis with visualizations to get insight from the data. \n",
    "* There are three pieces of data that will be gathered, assessed, cleaned, and then tranform into pandas Datafram in order to analyze.\n",
    "* The project data was gotten from the Twitter account called ‘WeRateDogs’ (@dog_rates) which “rates people's dogs with a humorous comments about the dog. These ratings almost always have a denominator of 10. The numerators, though? Almost always greater than 10. 11/10, 12/10, 13/10, etc.” \n",
    "* The following are steps taken to achieve this project."
   ]
  },
  {
   "cell_type": "code",
   "execution_count": 120,
   "metadata": {},
   "outputs": [],
   "source": [
    "# Python libraries\n",
    "import pandas as pd\n",
    "import matplotlib.pyplot as plt\n",
    "import numpy as np\n",
    "import seaborn as sns\n",
    "import requests\n",
    "import json\n",
    "import os\n",
    "import re\n",
    "import warnings\n",
    "warnings.simplefilter('ignore')\n",
    "import tweepy\n",
    "from timeit import default_timer as timer\n",
    "import random\n",
    "import datetime\n",
    "from wordcloud import WordCloud, STOPWORDS, ImageColorGenerator\n",
    "from PIL import Image\n",
    "import dataframe_image as dfi"
   ]
  },
  {
   "cell_type": "markdown",
   "metadata": {},
   "source": [
    "<a id='gather'></a>\n",
    "\n",
    "## Gather"
   ]
  },
  {
   "cell_type": "code",
   "execution_count": 121,
   "metadata": {},
   "outputs": [],
   "source": [
    "# The WeRateDogs Twitter archive\n",
    "# Using the pandas read_csv() we import the WeRateDogs Twitter archive data in pandas dataframe\n",
    "twitter_archive_data = pd.read_csv('twitter-archive-enhanced.csv')"
   ]
  },
  {
   "cell_type": "code",
   "execution_count": 3,
   "metadata": {},
   "outputs": [],
   "source": [
    "# The tweet image predictions data\n",
    "# This data is programmatically downloaded from the Udacity servers and stored in a folder image_prediction, \n",
    "# We then written it to file in our computer and loaded into a pandas DataFrame.\n",
    "folder_name = 'image_prediction'\n",
    "if not os.path.exists(folder_name):\n",
    "    os.makedirs(folder_name)\n",
    "    \n",
    "url = 'https://d17h27t6h515a5.cloudfront.net/topher/2017/August/599fd2ad_image-predictions/image-predictions.tsv'\n",
    "response = requests.get(url)"
   ]
  },
  {
   "cell_type": "code",
   "execution_count": 4,
   "metadata": {},
   "outputs": [],
   "source": [
    "# Reading data to file\n",
    "with open(os.path.join(folder_name, url.split('/')[-1]), mode = 'wb') as file:\n",
    "    file.write(response.content)"
   ]
  },
  {
   "cell_type": "code",
   "execution_count": 5,
   "metadata": {},
   "outputs": [],
   "source": [
    "df_image_prediction = pd.read_csv(folder_name +'/image-predictions.tsv', sep='\\t')"
   ]
  },
  {
   "cell_type": "code",
   "execution_count": 6,
   "metadata": {},
   "outputs": [
    {
     "data": {
      "text/plain": [
       "2356"
      ]
     },
     "execution_count": 6,
     "metadata": {},
     "output_type": "execute_result"
    }
   ],
   "source": [
    "#Second table tweet_count downloaded programmatically from twitter's API using tweepy, then saved \n",
    "# to a JSON file, stored in a dictionary, \n",
    "# then loaded into a pandas DataFrame.\n",
    "# Using Twitter API to Query tweet count in the Twitter archive and save it as a JSON file\n",
    "\n",
    "consumer_key = 'XBg7FTubuIpd4Tgksm5YqENev'\n",
    "consumer_secret = '0MXoq8YmErK5x0eMTUXcXjUNKOck0QBgzokQNO6vWqurN1loTu'\n",
    "access_token = '777789422-ljMVrsUiySoZaZLn3kaQrG6d1iNvvh1kT8NCftzg'\n",
    "access_secret = 'CizYZZft1IvfWXx9ilqiTDNbs5WRMlAFdRljFAfZ15yqA'\n",
    "\n",
    "auth = tweepy.OAuthHandler(consumer_key, consumer_secret)\n",
    "auth.set_access_token(access_token, access_secret)\n",
    "\n",
    "api = tweepy.API(auth, wait_on_rate_limit=True)\n",
    "\n",
    "# Using Tweet IDs to gather additional data via Twitter's API\n",
    "tweet_ids = twitter_archive_data.tweet_id.values\n",
    "len(tweet_ids)"
   ]
  },
  {
   "cell_type": "code",
   "execution_count": 7,
   "metadata": {},
   "outputs": [],
   "source": [
    "# Using Code template provided by Udacity\n",
    "# We define a function to extract tweet\n",
    "\n",
    "def extract_tweet():\n",
    "    count = 0\n",
    "    fails_dict = {}\n",
    "    start = timer()\n",
    "    with open('tweet_json.txt', 'w') as outfile:\n",
    "        for tweet_id in tweet_ids:\n",
    "            count += 1\n",
    "            print(str(count) + \": \" + str(tweet_id))\n",
    "            try:\n",
    "                tweet = api.get_status(tweet_id, tweet_mode='extended')\n",
    "                print(\"Success\")\n",
    "                json.dump(tweet._json, outfile)\n",
    "                outfile.write('\\n')\n",
    "            except tweepy.errors.TweepyException as e:\n",
    "                print(\"Fail\")\n",
    "                fails_dict[tweet_id] = e\n",
    "                pass\n",
    "    end = timer()\n",
    "    print(end - start)\n",
    "    print(fails_dict)\n",
    "    \n",
    "#extract_tweet()    \n"
   ]
  },
  {
   "cell_type": "code",
   "execution_count": 8,
   "metadata": {},
   "outputs": [],
   "source": [
    "# We extract data from tweet_json.txt file\n",
    "tweet_list = []\n",
    "with open('tweet_json.txt', 'r', encoding = 'utf8') as tweet_file:\n",
    "    for file in tweet_file:\n",
    "        files = json.loads(file)\n",
    "        tweet_list.append({'tweet_id': files['id'],\n",
    "                        'favorites': files['favorite_count'],\n",
    "                        'retweets': files['retweet_count'],\n",
    "                        'timestamp': files['created_at']})\n",
    "        \n",
    "tweet_df = pd.DataFrame(tweet_list, columns=['tweet_id','favorites','retweets']) "
   ]
  },
  {
   "cell_type": "code",
   "execution_count": 9,
   "metadata": {},
   "outputs": [],
   "source": [
    "# Writing json file to pandas\n",
    "tweet_count_df = pd.read_json('tweet_json.txt', lines=True)"
   ]
  },
  {
   "cell_type": "markdown",
   "metadata": {},
   "source": [
    "<a id='assess'></a>\n",
    "## Assess\n",
    "* Programmatically Visualization"
   ]
  },
  {
   "cell_type": "markdown",
   "metadata": {},
   "source": [
    "We first look at the visualization of the Twitter Archive data."
   ]
  },
  {
   "cell_type": "code",
   "execution_count": 10,
   "metadata": {},
   "outputs": [
    {
     "data": {
      "text/html": [
       "<div>\n",
       "<style scoped>\n",
       "    .dataframe tbody tr th:only-of-type {\n",
       "        vertical-align: middle;\n",
       "    }\n",
       "\n",
       "    .dataframe tbody tr th {\n",
       "        vertical-align: top;\n",
       "    }\n",
       "\n",
       "    .dataframe thead th {\n",
       "        text-align: right;\n",
       "    }\n",
       "</style>\n",
       "<table border=\"1\" class=\"dataframe\">\n",
       "  <thead>\n",
       "    <tr style=\"text-align: right;\">\n",
       "      <th></th>\n",
       "      <th>tweet_id</th>\n",
       "      <th>in_reply_to_status_id</th>\n",
       "      <th>in_reply_to_user_id</th>\n",
       "      <th>timestamp</th>\n",
       "      <th>source</th>\n",
       "      <th>text</th>\n",
       "      <th>retweeted_status_id</th>\n",
       "      <th>retweeted_status_user_id</th>\n",
       "      <th>retweeted_status_timestamp</th>\n",
       "      <th>expanded_urls</th>\n",
       "      <th>rating_numerator</th>\n",
       "      <th>rating_denominator</th>\n",
       "      <th>name</th>\n",
       "      <th>doggo</th>\n",
       "      <th>floofer</th>\n",
       "      <th>pupper</th>\n",
       "      <th>puppo</th>\n",
       "    </tr>\n",
       "  </thead>\n",
       "  <tbody>\n",
       "    <tr>\n",
       "      <th>0</th>\n",
       "      <td>892420643555336193</td>\n",
       "      <td>NaN</td>\n",
       "      <td>NaN</td>\n",
       "      <td>2017-08-01 16:23:56 +0000</td>\n",
       "      <td>&lt;a href=\"http://twitter.com/download/iphone\" r...</td>\n",
       "      <td>This is Phineas. He's a mystical boy. Only eve...</td>\n",
       "      <td>NaN</td>\n",
       "      <td>NaN</td>\n",
       "      <td>NaN</td>\n",
       "      <td>https://twitter.com/dog_rates/status/892420643...</td>\n",
       "      <td>13</td>\n",
       "      <td>10</td>\n",
       "      <td>Phineas</td>\n",
       "      <td>None</td>\n",
       "      <td>None</td>\n",
       "      <td>None</td>\n",
       "      <td>None</td>\n",
       "    </tr>\n",
       "    <tr>\n",
       "      <th>1</th>\n",
       "      <td>892177421306343426</td>\n",
       "      <td>NaN</td>\n",
       "      <td>NaN</td>\n",
       "      <td>2017-08-01 00:17:27 +0000</td>\n",
       "      <td>&lt;a href=\"http://twitter.com/download/iphone\" r...</td>\n",
       "      <td>This is Tilly. She's just checking pup on you....</td>\n",
       "      <td>NaN</td>\n",
       "      <td>NaN</td>\n",
       "      <td>NaN</td>\n",
       "      <td>https://twitter.com/dog_rates/status/892177421...</td>\n",
       "      <td>13</td>\n",
       "      <td>10</td>\n",
       "      <td>Tilly</td>\n",
       "      <td>None</td>\n",
       "      <td>None</td>\n",
       "      <td>None</td>\n",
       "      <td>None</td>\n",
       "    </tr>\n",
       "    <tr>\n",
       "      <th>2</th>\n",
       "      <td>891815181378084864</td>\n",
       "      <td>NaN</td>\n",
       "      <td>NaN</td>\n",
       "      <td>2017-07-31 00:18:03 +0000</td>\n",
       "      <td>&lt;a href=\"http://twitter.com/download/iphone\" r...</td>\n",
       "      <td>This is Archie. He is a rare Norwegian Pouncin...</td>\n",
       "      <td>NaN</td>\n",
       "      <td>NaN</td>\n",
       "      <td>NaN</td>\n",
       "      <td>https://twitter.com/dog_rates/status/891815181...</td>\n",
       "      <td>12</td>\n",
       "      <td>10</td>\n",
       "      <td>Archie</td>\n",
       "      <td>None</td>\n",
       "      <td>None</td>\n",
       "      <td>None</td>\n",
       "      <td>None</td>\n",
       "    </tr>\n",
       "    <tr>\n",
       "      <th>3</th>\n",
       "      <td>891689557279858688</td>\n",
       "      <td>NaN</td>\n",
       "      <td>NaN</td>\n",
       "      <td>2017-07-30 15:58:51 +0000</td>\n",
       "      <td>&lt;a href=\"http://twitter.com/download/iphone\" r...</td>\n",
       "      <td>This is Darla. She commenced a snooze mid meal...</td>\n",
       "      <td>NaN</td>\n",
       "      <td>NaN</td>\n",
       "      <td>NaN</td>\n",
       "      <td>https://twitter.com/dog_rates/status/891689557...</td>\n",
       "      <td>13</td>\n",
       "      <td>10</td>\n",
       "      <td>Darla</td>\n",
       "      <td>None</td>\n",
       "      <td>None</td>\n",
       "      <td>None</td>\n",
       "      <td>None</td>\n",
       "    </tr>\n",
       "    <tr>\n",
       "      <th>4</th>\n",
       "      <td>891327558926688256</td>\n",
       "      <td>NaN</td>\n",
       "      <td>NaN</td>\n",
       "      <td>2017-07-29 16:00:24 +0000</td>\n",
       "      <td>&lt;a href=\"http://twitter.com/download/iphone\" r...</td>\n",
       "      <td>This is Franklin. He would like you to stop ca...</td>\n",
       "      <td>NaN</td>\n",
       "      <td>NaN</td>\n",
       "      <td>NaN</td>\n",
       "      <td>https://twitter.com/dog_rates/status/891327558...</td>\n",
       "      <td>12</td>\n",
       "      <td>10</td>\n",
       "      <td>Franklin</td>\n",
       "      <td>None</td>\n",
       "      <td>None</td>\n",
       "      <td>None</td>\n",
       "      <td>None</td>\n",
       "    </tr>\n",
       "  </tbody>\n",
       "</table>\n",
       "</div>"
      ],
      "text/plain": [
       "             tweet_id  in_reply_to_status_id  in_reply_to_user_id  \\\n",
       "0  892420643555336193                    NaN                  NaN   \n",
       "1  892177421306343426                    NaN                  NaN   \n",
       "2  891815181378084864                    NaN                  NaN   \n",
       "3  891689557279858688                    NaN                  NaN   \n",
       "4  891327558926688256                    NaN                  NaN   \n",
       "\n",
       "                   timestamp  \\\n",
       "0  2017-08-01 16:23:56 +0000   \n",
       "1  2017-08-01 00:17:27 +0000   \n",
       "2  2017-07-31 00:18:03 +0000   \n",
       "3  2017-07-30 15:58:51 +0000   \n",
       "4  2017-07-29 16:00:24 +0000   \n",
       "\n",
       "                                              source  \\\n",
       "0  <a href=\"http://twitter.com/download/iphone\" r...   \n",
       "1  <a href=\"http://twitter.com/download/iphone\" r...   \n",
       "2  <a href=\"http://twitter.com/download/iphone\" r...   \n",
       "3  <a href=\"http://twitter.com/download/iphone\" r...   \n",
       "4  <a href=\"http://twitter.com/download/iphone\" r...   \n",
       "\n",
       "                                                text  retweeted_status_id  \\\n",
       "0  This is Phineas. He's a mystical boy. Only eve...                  NaN   \n",
       "1  This is Tilly. She's just checking pup on you....                  NaN   \n",
       "2  This is Archie. He is a rare Norwegian Pouncin...                  NaN   \n",
       "3  This is Darla. She commenced a snooze mid meal...                  NaN   \n",
       "4  This is Franklin. He would like you to stop ca...                  NaN   \n",
       "\n",
       "   retweeted_status_user_id retweeted_status_timestamp  \\\n",
       "0                       NaN                        NaN   \n",
       "1                       NaN                        NaN   \n",
       "2                       NaN                        NaN   \n",
       "3                       NaN                        NaN   \n",
       "4                       NaN                        NaN   \n",
       "\n",
       "                                       expanded_urls  rating_numerator  \\\n",
       "0  https://twitter.com/dog_rates/status/892420643...                13   \n",
       "1  https://twitter.com/dog_rates/status/892177421...                13   \n",
       "2  https://twitter.com/dog_rates/status/891815181...                12   \n",
       "3  https://twitter.com/dog_rates/status/891689557...                13   \n",
       "4  https://twitter.com/dog_rates/status/891327558...                12   \n",
       "\n",
       "   rating_denominator      name doggo floofer pupper puppo  \n",
       "0                  10   Phineas  None    None   None  None  \n",
       "1                  10     Tilly  None    None   None  None  \n",
       "2                  10    Archie  None    None   None  None  \n",
       "3                  10     Darla  None    None   None  None  \n",
       "4                  10  Franklin  None    None   None  None  "
      ]
     },
     "execution_count": 10,
     "metadata": {},
     "output_type": "execute_result"
    }
   ],
   "source": [
    "twitter_archive_data.head()"
   ]
  },
  {
   "cell_type": "code",
   "execution_count": 11,
   "metadata": {},
   "outputs": [
    {
     "data": {
      "text/plain": [
       "310     RT @dog_rates: So this just changed my life. 1...\n",
       "957     This is Max. She has one ear that's always sli...\n",
       "961     This is Cooper. He's just so damn happy. 10/10...\n",
       "94      This is Sebastian. He can't see all the colors...\n",
       "1712    Here we have uncovered an entire battalion of ...\n",
       "1308    This is Cassie. She can go from sweet to scary...\n",
       "739     Meet Hercules. He can have whatever he wants f...\n",
       "305     This is Lucy. She spent all morning overseeing...\n",
       "304     This is Ava. She just blasted off. Streamline ...\n",
       "1846    🎶 HELLO FROM THE OTHER SIIIIIIIIDE 🎶 10/10s ht...\n",
       "Name: text, dtype: object"
      ]
     },
     "execution_count": 11,
     "metadata": {},
     "output_type": "execute_result"
    }
   ],
   "source": [
    "twitter_archive_data.text.sample(10)"
   ]
  },
  {
   "cell_type": "code",
   "execution_count": 12,
   "metadata": {},
   "outputs": [
    {
     "name": "stdout",
     "output_type": "stream",
     "text": [
      "<class 'pandas.core.frame.DataFrame'>\n",
      "RangeIndex: 2356 entries, 0 to 2355\n",
      "Data columns (total 17 columns):\n",
      " #   Column                      Non-Null Count  Dtype  \n",
      "---  ------                      --------------  -----  \n",
      " 0   tweet_id                    2356 non-null   int64  \n",
      " 1   in_reply_to_status_id       78 non-null     float64\n",
      " 2   in_reply_to_user_id         78 non-null     float64\n",
      " 3   timestamp                   2356 non-null   object \n",
      " 4   source                      2356 non-null   object \n",
      " 5   text                        2356 non-null   object \n",
      " 6   retweeted_status_id         181 non-null    float64\n",
      " 7   retweeted_status_user_id    181 non-null    float64\n",
      " 8   retweeted_status_timestamp  181 non-null    object \n",
      " 9   expanded_urls               2297 non-null   object \n",
      " 10  rating_numerator            2356 non-null   int64  \n",
      " 11  rating_denominator          2356 non-null   int64  \n",
      " 12  name                        2356 non-null   object \n",
      " 13  doggo                       2356 non-null   object \n",
      " 14  floofer                     2356 non-null   object \n",
      " 15  pupper                      2356 non-null   object \n",
      " 16  puppo                       2356 non-null   object \n",
      "dtypes: float64(4), int64(3), object(10)\n",
      "memory usage: 313.0+ KB\n"
     ]
    }
   ],
   "source": [
    "twitter_archive_data.info()"
   ]
  },
  {
   "cell_type": "code",
   "execution_count": 13,
   "metadata": {},
   "outputs": [
    {
     "data": {
      "text/html": [
       "<div>\n",
       "<style scoped>\n",
       "    .dataframe tbody tr th:only-of-type {\n",
       "        vertical-align: middle;\n",
       "    }\n",
       "\n",
       "    .dataframe tbody tr th {\n",
       "        vertical-align: top;\n",
       "    }\n",
       "\n",
       "    .dataframe thead th {\n",
       "        text-align: right;\n",
       "    }\n",
       "</style>\n",
       "<table border=\"1\" class=\"dataframe\">\n",
       "  <thead>\n",
       "    <tr style=\"text-align: right;\">\n",
       "      <th></th>\n",
       "      <th>tweet_id</th>\n",
       "      <th>in_reply_to_status_id</th>\n",
       "      <th>in_reply_to_user_id</th>\n",
       "      <th>retweeted_status_id</th>\n",
       "      <th>retweeted_status_user_id</th>\n",
       "      <th>rating_numerator</th>\n",
       "      <th>rating_denominator</th>\n",
       "    </tr>\n",
       "  </thead>\n",
       "  <tbody>\n",
       "    <tr>\n",
       "      <th>count</th>\n",
       "      <td>2.356000e+03</td>\n",
       "      <td>7.800000e+01</td>\n",
       "      <td>7.800000e+01</td>\n",
       "      <td>1.810000e+02</td>\n",
       "      <td>1.810000e+02</td>\n",
       "      <td>2356.000000</td>\n",
       "      <td>2356.000000</td>\n",
       "    </tr>\n",
       "    <tr>\n",
       "      <th>mean</th>\n",
       "      <td>7.427716e+17</td>\n",
       "      <td>7.455079e+17</td>\n",
       "      <td>2.014171e+16</td>\n",
       "      <td>7.720400e+17</td>\n",
       "      <td>1.241698e+16</td>\n",
       "      <td>13.126486</td>\n",
       "      <td>10.455433</td>\n",
       "    </tr>\n",
       "    <tr>\n",
       "      <th>std</th>\n",
       "      <td>6.856705e+16</td>\n",
       "      <td>7.582492e+16</td>\n",
       "      <td>1.252797e+17</td>\n",
       "      <td>6.236928e+16</td>\n",
       "      <td>9.599254e+16</td>\n",
       "      <td>45.876648</td>\n",
       "      <td>6.745237</td>\n",
       "    </tr>\n",
       "    <tr>\n",
       "      <th>min</th>\n",
       "      <td>6.660209e+17</td>\n",
       "      <td>6.658147e+17</td>\n",
       "      <td>1.185634e+07</td>\n",
       "      <td>6.661041e+17</td>\n",
       "      <td>7.832140e+05</td>\n",
       "      <td>0.000000</td>\n",
       "      <td>0.000000</td>\n",
       "    </tr>\n",
       "    <tr>\n",
       "      <th>25%</th>\n",
       "      <td>6.783989e+17</td>\n",
       "      <td>6.757419e+17</td>\n",
       "      <td>3.086374e+08</td>\n",
       "      <td>7.186315e+17</td>\n",
       "      <td>4.196984e+09</td>\n",
       "      <td>10.000000</td>\n",
       "      <td>10.000000</td>\n",
       "    </tr>\n",
       "    <tr>\n",
       "      <th>50%</th>\n",
       "      <td>7.196279e+17</td>\n",
       "      <td>7.038708e+17</td>\n",
       "      <td>4.196984e+09</td>\n",
       "      <td>7.804657e+17</td>\n",
       "      <td>4.196984e+09</td>\n",
       "      <td>11.000000</td>\n",
       "      <td>10.000000</td>\n",
       "    </tr>\n",
       "    <tr>\n",
       "      <th>75%</th>\n",
       "      <td>7.993373e+17</td>\n",
       "      <td>8.257804e+17</td>\n",
       "      <td>4.196984e+09</td>\n",
       "      <td>8.203146e+17</td>\n",
       "      <td>4.196984e+09</td>\n",
       "      <td>12.000000</td>\n",
       "      <td>10.000000</td>\n",
       "    </tr>\n",
       "    <tr>\n",
       "      <th>max</th>\n",
       "      <td>8.924206e+17</td>\n",
       "      <td>8.862664e+17</td>\n",
       "      <td>8.405479e+17</td>\n",
       "      <td>8.874740e+17</td>\n",
       "      <td>7.874618e+17</td>\n",
       "      <td>1776.000000</td>\n",
       "      <td>170.000000</td>\n",
       "    </tr>\n",
       "  </tbody>\n",
       "</table>\n",
       "</div>"
      ],
      "text/plain": [
       "           tweet_id  in_reply_to_status_id  in_reply_to_user_id  \\\n",
       "count  2.356000e+03           7.800000e+01         7.800000e+01   \n",
       "mean   7.427716e+17           7.455079e+17         2.014171e+16   \n",
       "std    6.856705e+16           7.582492e+16         1.252797e+17   \n",
       "min    6.660209e+17           6.658147e+17         1.185634e+07   \n",
       "25%    6.783989e+17           6.757419e+17         3.086374e+08   \n",
       "50%    7.196279e+17           7.038708e+17         4.196984e+09   \n",
       "75%    7.993373e+17           8.257804e+17         4.196984e+09   \n",
       "max    8.924206e+17           8.862664e+17         8.405479e+17   \n",
       "\n",
       "       retweeted_status_id  retweeted_status_user_id  rating_numerator  \\\n",
       "count         1.810000e+02              1.810000e+02       2356.000000   \n",
       "mean          7.720400e+17              1.241698e+16         13.126486   \n",
       "std           6.236928e+16              9.599254e+16         45.876648   \n",
       "min           6.661041e+17              7.832140e+05          0.000000   \n",
       "25%           7.186315e+17              4.196984e+09         10.000000   \n",
       "50%           7.804657e+17              4.196984e+09         11.000000   \n",
       "75%           8.203146e+17              4.196984e+09         12.000000   \n",
       "max           8.874740e+17              7.874618e+17       1776.000000   \n",
       "\n",
       "       rating_denominator  \n",
       "count         2356.000000  \n",
       "mean            10.455433  \n",
       "std              6.745237  \n",
       "min              0.000000  \n",
       "25%             10.000000  \n",
       "50%             10.000000  \n",
       "75%             10.000000  \n",
       "max            170.000000  "
      ]
     },
     "execution_count": 13,
     "metadata": {},
     "output_type": "execute_result"
    }
   ],
   "source": [
    "twitter_archive_data.describe()"
   ]
  },
  {
   "cell_type": "code",
   "execution_count": 14,
   "metadata": {},
   "outputs": [
    {
     "data": {
      "text/plain": [
       "tweet_id                         0\n",
       "in_reply_to_status_id         2278\n",
       "in_reply_to_user_id           2278\n",
       "timestamp                        0\n",
       "source                           0\n",
       "text                             0\n",
       "retweeted_status_id           2175\n",
       "retweeted_status_user_id      2175\n",
       "retweeted_status_timestamp    2175\n",
       "expanded_urls                   59\n",
       "rating_numerator                 0\n",
       "rating_denominator               0\n",
       "name                             0\n",
       "doggo                            0\n",
       "floofer                          0\n",
       "pupper                           0\n",
       "puppo                            0\n",
       "dtype: int64"
      ]
     },
     "execution_count": 14,
     "metadata": {},
     "output_type": "execute_result"
    }
   ],
   "source": [
    "twitter_archive_data.isnull().sum()"
   ]
  },
  {
   "cell_type": "code",
   "execution_count": 15,
   "metadata": {},
   "outputs": [
    {
     "data": {
      "text/plain": [
       "None     2259\n",
       "doggo      97\n",
       "Name: doggo, dtype: int64"
      ]
     },
     "execution_count": 15,
     "metadata": {},
     "output_type": "execute_result"
    }
   ],
   "source": [
    "twitter_archive_data[\"doggo\"].value_counts() "
   ]
  },
  {
   "cell_type": "code",
   "execution_count": 16,
   "metadata": {},
   "outputs": [
    {
     "data": {
      "text/plain": [
       "None       2346\n",
       "floofer      10\n",
       "Name: floofer, dtype: int64"
      ]
     },
     "execution_count": 16,
     "metadata": {},
     "output_type": "execute_result"
    }
   ],
   "source": [
    "twitter_archive_data[\"floofer\"].value_counts() "
   ]
  },
  {
   "cell_type": "code",
   "execution_count": 17,
   "metadata": {},
   "outputs": [
    {
     "data": {
      "text/plain": [
       "None      2099\n",
       "pupper     257\n",
       "Name: pupper, dtype: int64"
      ]
     },
     "execution_count": 17,
     "metadata": {},
     "output_type": "execute_result"
    }
   ],
   "source": [
    "twitter_archive_data[\"pupper\"].value_counts() "
   ]
  },
  {
   "cell_type": "code",
   "execution_count": 18,
   "metadata": {},
   "outputs": [
    {
     "data": {
      "text/plain": [
       "None     2326\n",
       "puppo      30\n",
       "Name: puppo, dtype: int64"
      ]
     },
     "execution_count": 18,
     "metadata": {},
     "output_type": "execute_result"
    }
   ],
   "source": [
    "twitter_archive_data[\"puppo\"].value_counts() "
   ]
  },
  {
   "cell_type": "code",
   "execution_count": 19,
   "metadata": {},
   "outputs": [
    {
     "data": {
      "text/plain": [
       "None         745\n",
       "a             55\n",
       "Charlie       12\n",
       "Cooper        11\n",
       "Oliver        11\n",
       "            ... \n",
       "Eriq           1\n",
       "Brandi         1\n",
       "Timber         1\n",
       "Suki           1\n",
       "Sojourner      1\n",
       "Name: name, Length: 957, dtype: int64"
      ]
     },
     "execution_count": 19,
     "metadata": {},
     "output_type": "execute_result"
    }
   ],
   "source": [
    "twitter_archive_data[\"name\"].value_counts()"
   ]
  },
  {
   "cell_type": "code",
   "execution_count": 20,
   "metadata": {},
   "outputs": [
    {
     "data": {
      "text/plain": [
       "315        0\n",
       "1016       0\n",
       "2335       1\n",
       "2261       1\n",
       "2338       1\n",
       "        ... \n",
       "2074     420\n",
       "188      420\n",
       "189      666\n",
       "313      960\n",
       "979     1776\n",
       "Name: rating_numerator, Length: 2356, dtype: int64"
      ]
     },
     "execution_count": 20,
     "metadata": {},
     "output_type": "execute_result"
    }
   ],
   "source": [
    "twitter_archive_data.rating_numerator.sort_values()"
   ]
  },
  {
   "cell_type": "code",
   "execution_count": 21,
   "metadata": {},
   "outputs": [
    {
     "data": {
      "text/plain": [
       "12      558\n",
       "11      464\n",
       "10      461\n",
       "13      351\n",
       "9       158\n",
       "8       102\n",
       "7        55\n",
       "14       54\n",
       "5        37\n",
       "6        32\n",
       "3        19\n",
       "4        17\n",
       "1         9\n",
       "2         9\n",
       "420       2\n",
       "0         2\n",
       "15        2\n",
       "75        2\n",
       "80        1\n",
       "20        1\n",
       "24        1\n",
       "26        1\n",
       "44        1\n",
       "50        1\n",
       "60        1\n",
       "165       1\n",
       "84        1\n",
       "88        1\n",
       "144       1\n",
       "182       1\n",
       "143       1\n",
       "666       1\n",
       "960       1\n",
       "1776      1\n",
       "17        1\n",
       "27        1\n",
       "45        1\n",
       "99        1\n",
       "121       1\n",
       "204       1\n",
       "Name: rating_numerator, dtype: int64"
      ]
     },
     "execution_count": 21,
     "metadata": {},
     "output_type": "execute_result"
    }
   ],
   "source": [
    "twitter_archive_data.rating_numerator.value_counts()"
   ]
  },
  {
   "cell_type": "markdown",
   "metadata": {},
   "source": [
    "Next we assess the data gathere from the url programatically and saved in tweet_json.txt."
   ]
  },
  {
   "cell_type": "code",
   "execution_count": 22,
   "metadata": {},
   "outputs": [
    {
     "data": {
      "text/html": [
       "<div>\n",
       "<style scoped>\n",
       "    .dataframe tbody tr th:only-of-type {\n",
       "        vertical-align: middle;\n",
       "    }\n",
       "\n",
       "    .dataframe tbody tr th {\n",
       "        vertical-align: top;\n",
       "    }\n",
       "\n",
       "    .dataframe thead th {\n",
       "        text-align: right;\n",
       "    }\n",
       "</style>\n",
       "<table border=\"1\" class=\"dataframe\">\n",
       "  <thead>\n",
       "    <tr style=\"text-align: right;\">\n",
       "      <th></th>\n",
       "      <th>tweet_id</th>\n",
       "      <th>favorites</th>\n",
       "      <th>retweets</th>\n",
       "    </tr>\n",
       "  </thead>\n",
       "  <tbody>\n",
       "    <tr>\n",
       "      <th>0</th>\n",
       "      <td>892420643555336193</td>\n",
       "      <td>33698</td>\n",
       "      <td>6970</td>\n",
       "    </tr>\n",
       "    <tr>\n",
       "      <th>1</th>\n",
       "      <td>892177421306343426</td>\n",
       "      <td>29228</td>\n",
       "      <td>5273</td>\n",
       "    </tr>\n",
       "    <tr>\n",
       "      <th>2</th>\n",
       "      <td>891815181378084864</td>\n",
       "      <td>21976</td>\n",
       "      <td>3464</td>\n",
       "    </tr>\n",
       "    <tr>\n",
       "      <th>3</th>\n",
       "      <td>891689557279858688</td>\n",
       "      <td>36793</td>\n",
       "      <td>7193</td>\n",
       "    </tr>\n",
       "    <tr>\n",
       "      <th>4</th>\n",
       "      <td>891327558926688256</td>\n",
       "      <td>35184</td>\n",
       "      <td>7718</td>\n",
       "    </tr>\n",
       "  </tbody>\n",
       "</table>\n",
       "</div>"
      ],
      "text/plain": [
       "             tweet_id  favorites  retweets\n",
       "0  892420643555336193      33698      6970\n",
       "1  892177421306343426      29228      5273\n",
       "2  891815181378084864      21976      3464\n",
       "3  891689557279858688      36793      7193\n",
       "4  891327558926688256      35184      7718"
      ]
     },
     "execution_count": 22,
     "metadata": {},
     "output_type": "execute_result"
    }
   ],
   "source": [
    "tweet_df.head()"
   ]
  },
  {
   "cell_type": "code",
   "execution_count": 23,
   "metadata": {},
   "outputs": [
    {
     "data": {
      "text/html": [
       "<div>\n",
       "<style scoped>\n",
       "    .dataframe tbody tr th:only-of-type {\n",
       "        vertical-align: middle;\n",
       "    }\n",
       "\n",
       "    .dataframe tbody tr th {\n",
       "        vertical-align: top;\n",
       "    }\n",
       "\n",
       "    .dataframe thead th {\n",
       "        text-align: right;\n",
       "    }\n",
       "</style>\n",
       "<table border=\"1\" class=\"dataframe\">\n",
       "  <thead>\n",
       "    <tr style=\"text-align: right;\">\n",
       "      <th></th>\n",
       "      <th>tweet_id</th>\n",
       "      <th>favorites</th>\n",
       "      <th>retweets</th>\n",
       "    </tr>\n",
       "  </thead>\n",
       "  <tbody>\n",
       "    <tr>\n",
       "      <th>2322</th>\n",
       "      <td>666049248165822465</td>\n",
       "      <td>88</td>\n",
       "      <td>36</td>\n",
       "    </tr>\n",
       "    <tr>\n",
       "      <th>2323</th>\n",
       "      <td>666044226329800704</td>\n",
       "      <td>246</td>\n",
       "      <td>115</td>\n",
       "    </tr>\n",
       "    <tr>\n",
       "      <th>2324</th>\n",
       "      <td>666033412701032449</td>\n",
       "      <td>100</td>\n",
       "      <td>36</td>\n",
       "    </tr>\n",
       "    <tr>\n",
       "      <th>2325</th>\n",
       "      <td>666029285002620928</td>\n",
       "      <td>112</td>\n",
       "      <td>39</td>\n",
       "    </tr>\n",
       "    <tr>\n",
       "      <th>2326</th>\n",
       "      <td>666020888022790149</td>\n",
       "      <td>2283</td>\n",
       "      <td>419</td>\n",
       "    </tr>\n",
       "  </tbody>\n",
       "</table>\n",
       "</div>"
      ],
      "text/plain": [
       "                tweet_id  favorites  retweets\n",
       "2322  666049248165822465         88        36\n",
       "2323  666044226329800704        246       115\n",
       "2324  666033412701032449        100        36\n",
       "2325  666029285002620928        112        39\n",
       "2326  666020888022790149       2283       419"
      ]
     },
     "execution_count": 23,
     "metadata": {},
     "output_type": "execute_result"
    }
   ],
   "source": [
    "tweet_df.tail()"
   ]
  },
  {
   "cell_type": "code",
   "execution_count": 24,
   "metadata": {},
   "outputs": [
    {
     "name": "stdout",
     "output_type": "stream",
     "text": [
      "<class 'pandas.core.frame.DataFrame'>\n",
      "RangeIndex: 2327 entries, 0 to 2326\n",
      "Data columns (total 3 columns):\n",
      " #   Column     Non-Null Count  Dtype\n",
      "---  ------     --------------  -----\n",
      " 0   tweet_id   2327 non-null   int64\n",
      " 1   favorites  2327 non-null   int64\n",
      " 2   retweets   2327 non-null   int64\n",
      "dtypes: int64(3)\n",
      "memory usage: 54.7 KB\n"
     ]
    }
   ],
   "source": [
    "tweet_df.info()"
   ]
  },
  {
   "cell_type": "code",
   "execution_count": 25,
   "metadata": {},
   "outputs": [
    {
     "data": {
      "text/html": [
       "<div>\n",
       "<style scoped>\n",
       "    .dataframe tbody tr th:only-of-type {\n",
       "        vertical-align: middle;\n",
       "    }\n",
       "\n",
       "    .dataframe tbody tr th {\n",
       "        vertical-align: top;\n",
       "    }\n",
       "\n",
       "    .dataframe thead th {\n",
       "        text-align: right;\n",
       "    }\n",
       "</style>\n",
       "<table border=\"1\" class=\"dataframe\">\n",
       "  <thead>\n",
       "    <tr style=\"text-align: right;\">\n",
       "      <th></th>\n",
       "      <th>tweet_id</th>\n",
       "      <th>favorites</th>\n",
       "      <th>retweets</th>\n",
       "    </tr>\n",
       "  </thead>\n",
       "  <tbody>\n",
       "    <tr>\n",
       "      <th>count</th>\n",
       "      <td>2.327000e+03</td>\n",
       "      <td>2327.000000</td>\n",
       "      <td>2327.000000</td>\n",
       "    </tr>\n",
       "    <tr>\n",
       "      <th>mean</th>\n",
       "      <td>7.417930e+17</td>\n",
       "      <td>7027.839708</td>\n",
       "      <td>2459.109153</td>\n",
       "    </tr>\n",
       "    <tr>\n",
       "      <th>std</th>\n",
       "      <td>6.820795e+16</td>\n",
       "      <td>10921.377442</td>\n",
       "      <td>4164.576611</td>\n",
       "    </tr>\n",
       "    <tr>\n",
       "      <th>min</th>\n",
       "      <td>6.660209e+17</td>\n",
       "      <td>0.000000</td>\n",
       "      <td>1.000000</td>\n",
       "    </tr>\n",
       "    <tr>\n",
       "      <th>25%</th>\n",
       "      <td>6.781394e+17</td>\n",
       "      <td>1221.500000</td>\n",
       "      <td>492.500000</td>\n",
       "    </tr>\n",
       "    <tr>\n",
       "      <th>50%</th>\n",
       "      <td>7.178418e+17</td>\n",
       "      <td>3036.000000</td>\n",
       "      <td>1144.000000</td>\n",
       "    </tr>\n",
       "    <tr>\n",
       "      <th>75%</th>\n",
       "      <td>7.986547e+17</td>\n",
       "      <td>8565.000000</td>\n",
       "      <td>2845.000000</td>\n",
       "    </tr>\n",
       "    <tr>\n",
       "      <th>max</th>\n",
       "      <td>8.924206e+17</td>\n",
       "      <td>144273.000000</td>\n",
       "      <td>70344.000000</td>\n",
       "    </tr>\n",
       "  </tbody>\n",
       "</table>\n",
       "</div>"
      ],
      "text/plain": [
       "           tweet_id      favorites      retweets\n",
       "count  2.327000e+03    2327.000000   2327.000000\n",
       "mean   7.417930e+17    7027.839708   2459.109153\n",
       "std    6.820795e+16   10921.377442   4164.576611\n",
       "min    6.660209e+17       0.000000      1.000000\n",
       "25%    6.781394e+17    1221.500000    492.500000\n",
       "50%    7.178418e+17    3036.000000   1144.000000\n",
       "75%    7.986547e+17    8565.000000   2845.000000\n",
       "max    8.924206e+17  144273.000000  70344.000000"
      ]
     },
     "execution_count": 25,
     "metadata": {},
     "output_type": "execute_result"
    }
   ],
   "source": [
    "tweet_df.describe()"
   ]
  },
  {
   "cell_type": "code",
   "execution_count": 26,
   "metadata": {},
   "outputs": [
    {
     "data": {
      "text/plain": [
       "(2327, 3)"
      ]
     },
     "execution_count": 26,
     "metadata": {},
     "output_type": "execute_result"
    }
   ],
   "source": [
    "tweet_df.shape"
   ]
  },
  {
   "cell_type": "code",
   "execution_count": 27,
   "metadata": {},
   "outputs": [
    {
     "data": {
      "text/plain": [
       "749075273010798592    1\n",
       "671163268581498880    1\n",
       "798644042770751489    1\n",
       "825120256414846976    1\n",
       "769212283578875904    1\n",
       "                     ..\n",
       "794926597468000259    1\n",
       "673705679337693185    1\n",
       "673342308415348736    1\n",
       "754482103782404096    1\n",
       "700151421916807169    1\n",
       "Name: tweet_id, Length: 2327, dtype: int64"
      ]
     },
     "execution_count": 27,
     "metadata": {},
     "output_type": "execute_result"
    }
   ],
   "source": [
    "tweet_df[\"tweet_id\"].value_counts()"
   ]
  },
  {
   "cell_type": "code",
   "execution_count": 28,
   "metadata": {},
   "outputs": [
    {
     "data": {
      "text/plain": [
       "tweet_id     0\n",
       "favorites    0\n",
       "retweets     0\n",
       "dtype: int64"
      ]
     },
     "execution_count": 28,
     "metadata": {},
     "output_type": "execute_result"
    }
   ],
   "source": [
    "tweet_df.isnull().sum()"
   ]
  },
  {
   "cell_type": "markdown",
   "metadata": {},
   "source": [
    "Lastly, we assess the image predictions dataset"
   ]
  },
  {
   "cell_type": "code",
   "execution_count": 29,
   "metadata": {},
   "outputs": [
    {
     "data": {
      "text/html": [
       "<div>\n",
       "<style scoped>\n",
       "    .dataframe tbody tr th:only-of-type {\n",
       "        vertical-align: middle;\n",
       "    }\n",
       "\n",
       "    .dataframe tbody tr th {\n",
       "        vertical-align: top;\n",
       "    }\n",
       "\n",
       "    .dataframe thead th {\n",
       "        text-align: right;\n",
       "    }\n",
       "</style>\n",
       "<table border=\"1\" class=\"dataframe\">\n",
       "  <thead>\n",
       "    <tr style=\"text-align: right;\">\n",
       "      <th></th>\n",
       "      <th>tweet_id</th>\n",
       "      <th>jpg_url</th>\n",
       "      <th>img_num</th>\n",
       "      <th>p1</th>\n",
       "      <th>p1_conf</th>\n",
       "      <th>p1_dog</th>\n",
       "      <th>p2</th>\n",
       "      <th>p2_conf</th>\n",
       "      <th>p2_dog</th>\n",
       "      <th>p3</th>\n",
       "      <th>p3_conf</th>\n",
       "      <th>p3_dog</th>\n",
       "    </tr>\n",
       "  </thead>\n",
       "  <tbody>\n",
       "    <tr>\n",
       "      <th>0</th>\n",
       "      <td>666020888022790149</td>\n",
       "      <td>https://pbs.twimg.com/media/CT4udn0WwAA0aMy.jpg</td>\n",
       "      <td>1</td>\n",
       "      <td>Welsh_springer_spaniel</td>\n",
       "      <td>0.465074</td>\n",
       "      <td>True</td>\n",
       "      <td>collie</td>\n",
       "      <td>0.156665</td>\n",
       "      <td>True</td>\n",
       "      <td>Shetland_sheepdog</td>\n",
       "      <td>0.061428</td>\n",
       "      <td>True</td>\n",
       "    </tr>\n",
       "    <tr>\n",
       "      <th>1</th>\n",
       "      <td>666029285002620928</td>\n",
       "      <td>https://pbs.twimg.com/media/CT42GRgUYAA5iDo.jpg</td>\n",
       "      <td>1</td>\n",
       "      <td>redbone</td>\n",
       "      <td>0.506826</td>\n",
       "      <td>True</td>\n",
       "      <td>miniature_pinscher</td>\n",
       "      <td>0.074192</td>\n",
       "      <td>True</td>\n",
       "      <td>Rhodesian_ridgeback</td>\n",
       "      <td>0.072010</td>\n",
       "      <td>True</td>\n",
       "    </tr>\n",
       "    <tr>\n",
       "      <th>2</th>\n",
       "      <td>666033412701032449</td>\n",
       "      <td>https://pbs.twimg.com/media/CT4521TWwAEvMyu.jpg</td>\n",
       "      <td>1</td>\n",
       "      <td>German_shepherd</td>\n",
       "      <td>0.596461</td>\n",
       "      <td>True</td>\n",
       "      <td>malinois</td>\n",
       "      <td>0.138584</td>\n",
       "      <td>True</td>\n",
       "      <td>bloodhound</td>\n",
       "      <td>0.116197</td>\n",
       "      <td>True</td>\n",
       "    </tr>\n",
       "    <tr>\n",
       "      <th>3</th>\n",
       "      <td>666044226329800704</td>\n",
       "      <td>https://pbs.twimg.com/media/CT5Dr8HUEAA-lEu.jpg</td>\n",
       "      <td>1</td>\n",
       "      <td>Rhodesian_ridgeback</td>\n",
       "      <td>0.408143</td>\n",
       "      <td>True</td>\n",
       "      <td>redbone</td>\n",
       "      <td>0.360687</td>\n",
       "      <td>True</td>\n",
       "      <td>miniature_pinscher</td>\n",
       "      <td>0.222752</td>\n",
       "      <td>True</td>\n",
       "    </tr>\n",
       "    <tr>\n",
       "      <th>4</th>\n",
       "      <td>666049248165822465</td>\n",
       "      <td>https://pbs.twimg.com/media/CT5IQmsXIAAKY4A.jpg</td>\n",
       "      <td>1</td>\n",
       "      <td>miniature_pinscher</td>\n",
       "      <td>0.560311</td>\n",
       "      <td>True</td>\n",
       "      <td>Rottweiler</td>\n",
       "      <td>0.243682</td>\n",
       "      <td>True</td>\n",
       "      <td>Doberman</td>\n",
       "      <td>0.154629</td>\n",
       "      <td>True</td>\n",
       "    </tr>\n",
       "  </tbody>\n",
       "</table>\n",
       "</div>"
      ],
      "text/plain": [
       "             tweet_id                                          jpg_url  \\\n",
       "0  666020888022790149  https://pbs.twimg.com/media/CT4udn0WwAA0aMy.jpg   \n",
       "1  666029285002620928  https://pbs.twimg.com/media/CT42GRgUYAA5iDo.jpg   \n",
       "2  666033412701032449  https://pbs.twimg.com/media/CT4521TWwAEvMyu.jpg   \n",
       "3  666044226329800704  https://pbs.twimg.com/media/CT5Dr8HUEAA-lEu.jpg   \n",
       "4  666049248165822465  https://pbs.twimg.com/media/CT5IQmsXIAAKY4A.jpg   \n",
       "\n",
       "   img_num                      p1   p1_conf  p1_dog                  p2  \\\n",
       "0        1  Welsh_springer_spaniel  0.465074    True              collie   \n",
       "1        1                 redbone  0.506826    True  miniature_pinscher   \n",
       "2        1         German_shepherd  0.596461    True            malinois   \n",
       "3        1     Rhodesian_ridgeback  0.408143    True             redbone   \n",
       "4        1      miniature_pinscher  0.560311    True          Rottweiler   \n",
       "\n",
       "    p2_conf  p2_dog                   p3   p3_conf  p3_dog  \n",
       "0  0.156665    True    Shetland_sheepdog  0.061428    True  \n",
       "1  0.074192    True  Rhodesian_ridgeback  0.072010    True  \n",
       "2  0.138584    True           bloodhound  0.116197    True  \n",
       "3  0.360687    True   miniature_pinscher  0.222752    True  \n",
       "4  0.243682    True             Doberman  0.154629    True  "
      ]
     },
     "execution_count": 29,
     "metadata": {},
     "output_type": "execute_result"
    }
   ],
   "source": [
    "df_image_prediction.head()"
   ]
  },
  {
   "cell_type": "code",
   "execution_count": 30,
   "metadata": {},
   "outputs": [
    {
     "data": {
      "text/html": [
       "<div>\n",
       "<style scoped>\n",
       "    .dataframe tbody tr th:only-of-type {\n",
       "        vertical-align: middle;\n",
       "    }\n",
       "\n",
       "    .dataframe tbody tr th {\n",
       "        vertical-align: top;\n",
       "    }\n",
       "\n",
       "    .dataframe thead th {\n",
       "        text-align: right;\n",
       "    }\n",
       "</style>\n",
       "<table border=\"1\" class=\"dataframe\">\n",
       "  <thead>\n",
       "    <tr style=\"text-align: right;\">\n",
       "      <th></th>\n",
       "      <th>tweet_id</th>\n",
       "      <th>jpg_url</th>\n",
       "      <th>img_num</th>\n",
       "      <th>p1</th>\n",
       "      <th>p1_conf</th>\n",
       "      <th>p1_dog</th>\n",
       "      <th>p2</th>\n",
       "      <th>p2_conf</th>\n",
       "      <th>p2_dog</th>\n",
       "      <th>p3</th>\n",
       "      <th>p3_conf</th>\n",
       "      <th>p3_dog</th>\n",
       "    </tr>\n",
       "  </thead>\n",
       "  <tbody>\n",
       "    <tr>\n",
       "      <th>2070</th>\n",
       "      <td>891327558926688256</td>\n",
       "      <td>https://pbs.twimg.com/media/DF6hr6BUMAAzZgT.jpg</td>\n",
       "      <td>2</td>\n",
       "      <td>basset</td>\n",
       "      <td>0.555712</td>\n",
       "      <td>True</td>\n",
       "      <td>English_springer</td>\n",
       "      <td>0.225770</td>\n",
       "      <td>True</td>\n",
       "      <td>German_short-haired_pointer</td>\n",
       "      <td>0.175219</td>\n",
       "      <td>True</td>\n",
       "    </tr>\n",
       "    <tr>\n",
       "      <th>2071</th>\n",
       "      <td>891689557279858688</td>\n",
       "      <td>https://pbs.twimg.com/media/DF_q7IAWsAEuuN8.jpg</td>\n",
       "      <td>1</td>\n",
       "      <td>paper_towel</td>\n",
       "      <td>0.170278</td>\n",
       "      <td>False</td>\n",
       "      <td>Labrador_retriever</td>\n",
       "      <td>0.168086</td>\n",
       "      <td>True</td>\n",
       "      <td>spatula</td>\n",
       "      <td>0.040836</td>\n",
       "      <td>False</td>\n",
       "    </tr>\n",
       "    <tr>\n",
       "      <th>2072</th>\n",
       "      <td>891815181378084864</td>\n",
       "      <td>https://pbs.twimg.com/media/DGBdLU1WsAANxJ9.jpg</td>\n",
       "      <td>1</td>\n",
       "      <td>Chihuahua</td>\n",
       "      <td>0.716012</td>\n",
       "      <td>True</td>\n",
       "      <td>malamute</td>\n",
       "      <td>0.078253</td>\n",
       "      <td>True</td>\n",
       "      <td>kelpie</td>\n",
       "      <td>0.031379</td>\n",
       "      <td>True</td>\n",
       "    </tr>\n",
       "    <tr>\n",
       "      <th>2073</th>\n",
       "      <td>892177421306343426</td>\n",
       "      <td>https://pbs.twimg.com/media/DGGmoV4XsAAUL6n.jpg</td>\n",
       "      <td>1</td>\n",
       "      <td>Chihuahua</td>\n",
       "      <td>0.323581</td>\n",
       "      <td>True</td>\n",
       "      <td>Pekinese</td>\n",
       "      <td>0.090647</td>\n",
       "      <td>True</td>\n",
       "      <td>papillon</td>\n",
       "      <td>0.068957</td>\n",
       "      <td>True</td>\n",
       "    </tr>\n",
       "    <tr>\n",
       "      <th>2074</th>\n",
       "      <td>892420643555336193</td>\n",
       "      <td>https://pbs.twimg.com/media/DGKD1-bXoAAIAUK.jpg</td>\n",
       "      <td>1</td>\n",
       "      <td>orange</td>\n",
       "      <td>0.097049</td>\n",
       "      <td>False</td>\n",
       "      <td>bagel</td>\n",
       "      <td>0.085851</td>\n",
       "      <td>False</td>\n",
       "      <td>banana</td>\n",
       "      <td>0.076110</td>\n",
       "      <td>False</td>\n",
       "    </tr>\n",
       "  </tbody>\n",
       "</table>\n",
       "</div>"
      ],
      "text/plain": [
       "                tweet_id                                          jpg_url  \\\n",
       "2070  891327558926688256  https://pbs.twimg.com/media/DF6hr6BUMAAzZgT.jpg   \n",
       "2071  891689557279858688  https://pbs.twimg.com/media/DF_q7IAWsAEuuN8.jpg   \n",
       "2072  891815181378084864  https://pbs.twimg.com/media/DGBdLU1WsAANxJ9.jpg   \n",
       "2073  892177421306343426  https://pbs.twimg.com/media/DGGmoV4XsAAUL6n.jpg   \n",
       "2074  892420643555336193  https://pbs.twimg.com/media/DGKD1-bXoAAIAUK.jpg   \n",
       "\n",
       "      img_num           p1   p1_conf  p1_dog                  p2   p2_conf  \\\n",
       "2070        2       basset  0.555712    True    English_springer  0.225770   \n",
       "2071        1  paper_towel  0.170278   False  Labrador_retriever  0.168086   \n",
       "2072        1    Chihuahua  0.716012    True            malamute  0.078253   \n",
       "2073        1    Chihuahua  0.323581    True            Pekinese  0.090647   \n",
       "2074        1       orange  0.097049   False               bagel  0.085851   \n",
       "\n",
       "      p2_dog                           p3   p3_conf  p3_dog  \n",
       "2070    True  German_short-haired_pointer  0.175219    True  \n",
       "2071    True                      spatula  0.040836   False  \n",
       "2072    True                       kelpie  0.031379    True  \n",
       "2073    True                     papillon  0.068957    True  \n",
       "2074   False                       banana  0.076110   False  "
      ]
     },
     "execution_count": 30,
     "metadata": {},
     "output_type": "execute_result"
    }
   ],
   "source": [
    "df_image_prediction.tail()"
   ]
  },
  {
   "cell_type": "code",
   "execution_count": 31,
   "metadata": {},
   "outputs": [
    {
     "name": "stdout",
     "output_type": "stream",
     "text": [
      "<class 'pandas.core.frame.DataFrame'>\n",
      "RangeIndex: 2075 entries, 0 to 2074\n",
      "Data columns (total 12 columns):\n",
      " #   Column    Non-Null Count  Dtype  \n",
      "---  ------    --------------  -----  \n",
      " 0   tweet_id  2075 non-null   int64  \n",
      " 1   jpg_url   2075 non-null   object \n",
      " 2   img_num   2075 non-null   int64  \n",
      " 3   p1        2075 non-null   object \n",
      " 4   p1_conf   2075 non-null   float64\n",
      " 5   p1_dog    2075 non-null   bool   \n",
      " 6   p2        2075 non-null   object \n",
      " 7   p2_conf   2075 non-null   float64\n",
      " 8   p2_dog    2075 non-null   bool   \n",
      " 9   p3        2075 non-null   object \n",
      " 10  p3_conf   2075 non-null   float64\n",
      " 11  p3_dog    2075 non-null   bool   \n",
      "dtypes: bool(3), float64(3), int64(2), object(4)\n",
      "memory usage: 152.1+ KB\n"
     ]
    }
   ],
   "source": [
    "df_image_prediction.info()"
   ]
  },
  {
   "cell_type": "code",
   "execution_count": 32,
   "metadata": {},
   "outputs": [
    {
     "data": {
      "text/html": [
       "<div>\n",
       "<style scoped>\n",
       "    .dataframe tbody tr th:only-of-type {\n",
       "        vertical-align: middle;\n",
       "    }\n",
       "\n",
       "    .dataframe tbody tr th {\n",
       "        vertical-align: top;\n",
       "    }\n",
       "\n",
       "    .dataframe thead th {\n",
       "        text-align: right;\n",
       "    }\n",
       "</style>\n",
       "<table border=\"1\" class=\"dataframe\">\n",
       "  <thead>\n",
       "    <tr style=\"text-align: right;\">\n",
       "      <th></th>\n",
       "      <th>tweet_id</th>\n",
       "      <th>img_num</th>\n",
       "      <th>p1_conf</th>\n",
       "      <th>p2_conf</th>\n",
       "      <th>p3_conf</th>\n",
       "    </tr>\n",
       "  </thead>\n",
       "  <tbody>\n",
       "    <tr>\n",
       "      <th>count</th>\n",
       "      <td>2.075000e+03</td>\n",
       "      <td>2075.000000</td>\n",
       "      <td>2075.000000</td>\n",
       "      <td>2.075000e+03</td>\n",
       "      <td>2.075000e+03</td>\n",
       "    </tr>\n",
       "    <tr>\n",
       "      <th>mean</th>\n",
       "      <td>7.384514e+17</td>\n",
       "      <td>1.203855</td>\n",
       "      <td>0.594548</td>\n",
       "      <td>1.345886e-01</td>\n",
       "      <td>6.032417e-02</td>\n",
       "    </tr>\n",
       "    <tr>\n",
       "      <th>std</th>\n",
       "      <td>6.785203e+16</td>\n",
       "      <td>0.561875</td>\n",
       "      <td>0.271174</td>\n",
       "      <td>1.006657e-01</td>\n",
       "      <td>5.090593e-02</td>\n",
       "    </tr>\n",
       "    <tr>\n",
       "      <th>min</th>\n",
       "      <td>6.660209e+17</td>\n",
       "      <td>1.000000</td>\n",
       "      <td>0.044333</td>\n",
       "      <td>1.011300e-08</td>\n",
       "      <td>1.740170e-10</td>\n",
       "    </tr>\n",
       "    <tr>\n",
       "      <th>25%</th>\n",
       "      <td>6.764835e+17</td>\n",
       "      <td>1.000000</td>\n",
       "      <td>0.364412</td>\n",
       "      <td>5.388625e-02</td>\n",
       "      <td>1.622240e-02</td>\n",
       "    </tr>\n",
       "    <tr>\n",
       "      <th>50%</th>\n",
       "      <td>7.119988e+17</td>\n",
       "      <td>1.000000</td>\n",
       "      <td>0.588230</td>\n",
       "      <td>1.181810e-01</td>\n",
       "      <td>4.944380e-02</td>\n",
       "    </tr>\n",
       "    <tr>\n",
       "      <th>75%</th>\n",
       "      <td>7.932034e+17</td>\n",
       "      <td>1.000000</td>\n",
       "      <td>0.843855</td>\n",
       "      <td>1.955655e-01</td>\n",
       "      <td>9.180755e-02</td>\n",
       "    </tr>\n",
       "    <tr>\n",
       "      <th>max</th>\n",
       "      <td>8.924206e+17</td>\n",
       "      <td>4.000000</td>\n",
       "      <td>1.000000</td>\n",
       "      <td>4.880140e-01</td>\n",
       "      <td>2.734190e-01</td>\n",
       "    </tr>\n",
       "  </tbody>\n",
       "</table>\n",
       "</div>"
      ],
      "text/plain": [
       "           tweet_id      img_num      p1_conf       p2_conf       p3_conf\n",
       "count  2.075000e+03  2075.000000  2075.000000  2.075000e+03  2.075000e+03\n",
       "mean   7.384514e+17     1.203855     0.594548  1.345886e-01  6.032417e-02\n",
       "std    6.785203e+16     0.561875     0.271174  1.006657e-01  5.090593e-02\n",
       "min    6.660209e+17     1.000000     0.044333  1.011300e-08  1.740170e-10\n",
       "25%    6.764835e+17     1.000000     0.364412  5.388625e-02  1.622240e-02\n",
       "50%    7.119988e+17     1.000000     0.588230  1.181810e-01  4.944380e-02\n",
       "75%    7.932034e+17     1.000000     0.843855  1.955655e-01  9.180755e-02\n",
       "max    8.924206e+17     4.000000     1.000000  4.880140e-01  2.734190e-01"
      ]
     },
     "execution_count": 32,
     "metadata": {},
     "output_type": "execute_result"
    }
   ],
   "source": [
    "df_image_prediction.describe()"
   ]
  },
  {
   "cell_type": "code",
   "execution_count": 33,
   "metadata": {},
   "outputs": [
    {
     "data": {
      "text/plain": [
       "tweet_id    0\n",
       "jpg_url     0\n",
       "img_num     0\n",
       "p1          0\n",
       "p1_conf     0\n",
       "p1_dog      0\n",
       "p2          0\n",
       "p2_conf     0\n",
       "p2_dog      0\n",
       "p3          0\n",
       "p3_conf     0\n",
       "p3_dog      0\n",
       "dtype: int64"
      ]
     },
     "execution_count": 33,
     "metadata": {},
     "output_type": "execute_result"
    }
   ],
   "source": [
    "df_image_prediction.isnull().sum()"
   ]
  },
  {
   "cell_type": "markdown",
   "metadata": {},
   "source": [
    "<a id='qissues'></a>\n",
    "### Data Quality Issues\n",
    "> Following the assessment, we discover several issues with our data which we will describe below and come up with appropraite ways of cleaning the data.\n",
    "\n",
    "> In the twitter archive data we discover that:\n",
    "* 1. Since Project Motivation indicated that we only want original ratings (no retweets) that have images.We Remove the rows with retweets\n",
    "* 2. Drop unnecessary columns in_reply_to_status_id, in_reply_to_user_id, retweeted_status_id, retweeted_status_timestamp, and expanded_urls. \n",
    "* 3. Not all denominators are exactly 10, scale each numorator so the denominator is 10 for better comparison.\n",
    "* 4. Missing values and messy names in column name  \n",
    "* 5. There should have been a column for type or stages of dogs so that doggo, floofer, pupper and puppo can be accomodated in\n",
    "* 6. Data type issues were noticed in twitter_id and datetime columns-which also have extra 0000 that need to be remove\n",
    "* 7. Check in the text column to determine dog sex\n",
    "* 8. Source column look messy andv clumsy, should be remove as it wont be necessary for analysis\n",
    "> In the twitter image prediction data we discover that:\n",
    "* 1. Columns p1, p2, and p3 consists of a mixture of uppercases and lowercases in the values\n",
    "\n",
    "> Looking at the twitter count data (tweet_df) we discover that:\n",
    "* 1. The twitter archive  and twitter count data looks similar, this should be merged\n",
    "* 2. Column id_str should be changed to tweet_id and convert to object to enable us merge tables.\n",
    "\n"
   ]
  },
  {
   "cell_type": "markdown",
   "metadata": {},
   "source": [
    "### Tidiness Issues\n",
    "* Inaccurate Data Type for tweet_id and Datetime columns\n",
    "* Inappropraite column name for Column id_str in the tweet_df dataset"
   ]
  },
  {
   "cell_type": "markdown",
   "metadata": {},
   "source": [
    "<a id='clean'></a>\n",
    "## Clean"
   ]
  },
  {
   "cell_type": "markdown",
   "metadata": {},
   "source": [
    "#### Define"
   ]
  },
  {
   "cell_type": "markdown",
   "metadata": {},
   "source": [
    "##### Twitter Archive Data Set\n",
    "- Remove the rows with retweets using python isnull() function. \n",
    "- Select and drop all columns with missing values that is ( in_reply_to_status_id, in_reply_to_user_id, retweeted_status_id, retweeted_status_timestamp, and expanded_urls.)\n",
    "- Scale rating_numerator to 10.\n",
    "- Rename column to rating_numerator to rating and change data type to float.\n",
    "- Check for inappropriate dog name and change to NaN\n",
    "- Create a column for doggo, floofer, pupper and puppo and change data type to categorical\n",
    "- Change data type for twitter_id from (int64 ) to object using the astype() function and datetime from (object) to datetime using pandas to_datetime() function.\n",
    "- Use str.strip() to remove extra 0000 from datetime\n",
    "- Determing dog sex using code to check for she and he pronoun\n",
    "\n",
    "##### Twitter image prediction data set\n",
    "- Using str.lower() we convert all columns to lowercase\n",
    "- Change tweet_id type from int to object\n",
    "\n",
    "##### Twitter count data set\n",
    "Using pandas rename function we change Column id_str should be changed to tweet_id and convert to object"
   ]
  },
  {
   "cell_type": "markdown",
   "metadata": {},
   "source": [
    "#### Code"
   ]
  },
  {
   "cell_type": "code",
   "execution_count": 157,
   "metadata": {},
   "outputs": [],
   "source": [
    "# To start our cleaning propper, we make copies of the dataframes \n",
    "#so that we can go back to the original copy if something goes wrong\n",
    "\n",
    "twitter_archive_clean = twitter_archive_data.copy()\n",
    "df_tweet_clean = tweet_df.copy()\n",
    "image_prediction_clean = df_image_prediction.copy()"
   ]
  },
  {
   "cell_type": "markdown",
   "metadata": {},
   "source": [
    "* Define\n",
    "> Remove the rows with retweets using python isnull() function to keep only original ratings."
   ]
  },
  {
   "cell_type": "markdown",
   "metadata": {},
   "source": [
    "* Code"
   ]
  },
  {
   "cell_type": "code",
   "execution_count": 158,
   "metadata": {},
   "outputs": [
    {
     "data": {
      "text/plain": [
       "2175"
      ]
     },
     "execution_count": 158,
     "metadata": {},
     "output_type": "execute_result"
    }
   ],
   "source": [
    "# Looking in the retweeted_status_user_id column for retweet rows to be removed\n",
    "retweet_rows = twitter_archive_clean.retweeted_status_user_id.isnull().sum()\n",
    "retweet_rows"
   ]
  },
  {
   "cell_type": "code",
   "execution_count": 159,
   "metadata": {},
   "outputs": [],
   "source": [
    "# As seen above there are 2175 retweet rows\n",
    "# We again apply the isnull() to remove them\n",
    "twitter_archive_clean = twitter_archive_clean[twitter_archive_clean.retweeted_status_id.isnull()]"
   ]
  },
  {
   "cell_type": "markdown",
   "metadata": {},
   "source": [
    "* Test"
   ]
  },
  {
   "cell_type": "code",
   "execution_count": 160,
   "metadata": {},
   "outputs": [
    {
     "name": "stdout",
     "output_type": "stream",
     "text": [
      "<class 'pandas.core.frame.DataFrame'>\n",
      "Int64Index: 2175 entries, 0 to 2355\n",
      "Data columns (total 17 columns):\n",
      " #   Column                      Non-Null Count  Dtype  \n",
      "---  ------                      --------------  -----  \n",
      " 0   tweet_id                    2175 non-null   int64  \n",
      " 1   in_reply_to_status_id       78 non-null     float64\n",
      " 2   in_reply_to_user_id         78 non-null     float64\n",
      " 3   timestamp                   2175 non-null   object \n",
      " 4   source                      2175 non-null   object \n",
      " 5   text                        2175 non-null   object \n",
      " 6   retweeted_status_id         0 non-null      float64\n",
      " 7   retweeted_status_user_id    0 non-null      float64\n",
      " 8   retweeted_status_timestamp  0 non-null      object \n",
      " 9   expanded_urls               2117 non-null   object \n",
      " 10  rating_numerator            2175 non-null   int64  \n",
      " 11  rating_denominator          2175 non-null   int64  \n",
      " 12  name                        2175 non-null   object \n",
      " 13  doggo                       2175 non-null   object \n",
      " 14  floofer                     2175 non-null   object \n",
      " 15  pupper                      2175 non-null   object \n",
      " 16  puppo                       2175 non-null   object \n",
      "dtypes: float64(4), int64(3), object(10)\n",
      "memory usage: 305.9+ KB\n"
     ]
    }
   ],
   "source": [
    "twitter_archive_clean.info()"
   ]
  },
  {
   "cell_type": "code",
   "execution_count": 161,
   "metadata": {},
   "outputs": [
    {
     "data": {
      "text/plain": [
       "2097"
      ]
     },
     "execution_count": 161,
     "metadata": {},
     "output_type": "execute_result"
    }
   ],
   "source": [
    "# We also check for reply to reweets\n",
    "reply_to_retweet = twitter_archive_clean.in_reply_to_status_id.isnull().sum()\n",
    "reply_to_retweet"
   ]
  },
  {
   "cell_type": "code",
   "execution_count": 162,
   "metadata": {},
   "outputs": [
    {
     "name": "stdout",
     "output_type": "stream",
     "text": [
      "<class 'pandas.core.frame.DataFrame'>\n",
      "Int64Index: 2097 entries, 0 to 2355\n",
      "Data columns (total 17 columns):\n",
      " #   Column                      Non-Null Count  Dtype  \n",
      "---  ------                      --------------  -----  \n",
      " 0   tweet_id                    2097 non-null   int64  \n",
      " 1   in_reply_to_status_id       0 non-null      float64\n",
      " 2   in_reply_to_user_id         0 non-null      float64\n",
      " 3   timestamp                   2097 non-null   object \n",
      " 4   source                      2097 non-null   object \n",
      " 5   text                        2097 non-null   object \n",
      " 6   retweeted_status_id         0 non-null      float64\n",
      " 7   retweeted_status_user_id    0 non-null      float64\n",
      " 8   retweeted_status_timestamp  0 non-null      object \n",
      " 9   expanded_urls               2094 non-null   object \n",
      " 10  rating_numerator            2097 non-null   int64  \n",
      " 11  rating_denominator          2097 non-null   int64  \n",
      " 12  name                        2097 non-null   object \n",
      " 13  doggo                       2097 non-null   object \n",
      " 14  floofer                     2097 non-null   object \n",
      " 15  pupper                      2097 non-null   object \n",
      " 16  puppo                       2097 non-null   object \n",
      "dtypes: float64(4), int64(3), object(10)\n",
      "memory usage: 294.9+ KB\n"
     ]
    }
   ],
   "source": [
    "# Removing reply to retweet\n",
    "twitter_archive_clean = twitter_archive_clean[twitter_archive_clean.in_reply_to_status_id.isnull()]\n",
    "twitter_archive_clean.info()"
   ]
  },
  {
   "cell_type": "markdown",
   "metadata": {},
   "source": [
    "* Define\n",
    "> Select and drop all unnecessary columns that is ( in_reply_to_status_id, in_reply_to_user_id, retweeted_status_id, retweeted_status_timestamp, and expanded_urls.)"
   ]
  },
  {
   "cell_type": "markdown",
   "metadata": {},
   "source": [
    "* Code"
   ]
  },
  {
   "cell_type": "code",
   "execution_count": 163,
   "metadata": {},
   "outputs": [],
   "source": [
    "#twitter_archive_clean.dropna(axis='columns', how='any', thresh=None, subset=None, inplace=True)\n",
    "twitter_archive_clean.drop(['in_reply_to_status_id','in_reply_to_user_id','retweeted_status_id','retweeted_status_user_id', 'retweeted_status_timestamp','expanded_urls'], axis=1, inplace=True)"
   ]
  },
  {
   "cell_type": "markdown",
   "metadata": {},
   "source": [
    "* Test"
   ]
  },
  {
   "cell_type": "code",
   "execution_count": 164,
   "metadata": {},
   "outputs": [
    {
     "data": {
      "text/html": [
       "<div>\n",
       "<style scoped>\n",
       "    .dataframe tbody tr th:only-of-type {\n",
       "        vertical-align: middle;\n",
       "    }\n",
       "\n",
       "    .dataframe tbody tr th {\n",
       "        vertical-align: top;\n",
       "    }\n",
       "\n",
       "    .dataframe thead th {\n",
       "        text-align: right;\n",
       "    }\n",
       "</style>\n",
       "<table border=\"1\" class=\"dataframe\">\n",
       "  <thead>\n",
       "    <tr style=\"text-align: right;\">\n",
       "      <th></th>\n",
       "      <th>tweet_id</th>\n",
       "      <th>timestamp</th>\n",
       "      <th>source</th>\n",
       "      <th>text</th>\n",
       "      <th>rating_numerator</th>\n",
       "      <th>rating_denominator</th>\n",
       "      <th>name</th>\n",
       "      <th>doggo</th>\n",
       "      <th>floofer</th>\n",
       "      <th>pupper</th>\n",
       "      <th>puppo</th>\n",
       "    </tr>\n",
       "  </thead>\n",
       "  <tbody>\n",
       "    <tr>\n",
       "      <th>0</th>\n",
       "      <td>892420643555336193</td>\n",
       "      <td>2017-08-01 16:23:56 +0000</td>\n",
       "      <td>&lt;a href=\"http://twitter.com/download/iphone\" r...</td>\n",
       "      <td>This is Phineas. He's a mystical boy. Only eve...</td>\n",
       "      <td>13</td>\n",
       "      <td>10</td>\n",
       "      <td>Phineas</td>\n",
       "      <td>None</td>\n",
       "      <td>None</td>\n",
       "      <td>None</td>\n",
       "      <td>None</td>\n",
       "    </tr>\n",
       "    <tr>\n",
       "      <th>1</th>\n",
       "      <td>892177421306343426</td>\n",
       "      <td>2017-08-01 00:17:27 +0000</td>\n",
       "      <td>&lt;a href=\"http://twitter.com/download/iphone\" r...</td>\n",
       "      <td>This is Tilly. She's just checking pup on you....</td>\n",
       "      <td>13</td>\n",
       "      <td>10</td>\n",
       "      <td>Tilly</td>\n",
       "      <td>None</td>\n",
       "      <td>None</td>\n",
       "      <td>None</td>\n",
       "      <td>None</td>\n",
       "    </tr>\n",
       "    <tr>\n",
       "      <th>2</th>\n",
       "      <td>891815181378084864</td>\n",
       "      <td>2017-07-31 00:18:03 +0000</td>\n",
       "      <td>&lt;a href=\"http://twitter.com/download/iphone\" r...</td>\n",
       "      <td>This is Archie. He is a rare Norwegian Pouncin...</td>\n",
       "      <td>12</td>\n",
       "      <td>10</td>\n",
       "      <td>Archie</td>\n",
       "      <td>None</td>\n",
       "      <td>None</td>\n",
       "      <td>None</td>\n",
       "      <td>None</td>\n",
       "    </tr>\n",
       "    <tr>\n",
       "      <th>3</th>\n",
       "      <td>891689557279858688</td>\n",
       "      <td>2017-07-30 15:58:51 +0000</td>\n",
       "      <td>&lt;a href=\"http://twitter.com/download/iphone\" r...</td>\n",
       "      <td>This is Darla. She commenced a snooze mid meal...</td>\n",
       "      <td>13</td>\n",
       "      <td>10</td>\n",
       "      <td>Darla</td>\n",
       "      <td>None</td>\n",
       "      <td>None</td>\n",
       "      <td>None</td>\n",
       "      <td>None</td>\n",
       "    </tr>\n",
       "    <tr>\n",
       "      <th>4</th>\n",
       "      <td>891327558926688256</td>\n",
       "      <td>2017-07-29 16:00:24 +0000</td>\n",
       "      <td>&lt;a href=\"http://twitter.com/download/iphone\" r...</td>\n",
       "      <td>This is Franklin. He would like you to stop ca...</td>\n",
       "      <td>12</td>\n",
       "      <td>10</td>\n",
       "      <td>Franklin</td>\n",
       "      <td>None</td>\n",
       "      <td>None</td>\n",
       "      <td>None</td>\n",
       "      <td>None</td>\n",
       "    </tr>\n",
       "    <tr>\n",
       "      <th>...</th>\n",
       "      <td>...</td>\n",
       "      <td>...</td>\n",
       "      <td>...</td>\n",
       "      <td>...</td>\n",
       "      <td>...</td>\n",
       "      <td>...</td>\n",
       "      <td>...</td>\n",
       "      <td>...</td>\n",
       "      <td>...</td>\n",
       "      <td>...</td>\n",
       "      <td>...</td>\n",
       "    </tr>\n",
       "    <tr>\n",
       "      <th>2351</th>\n",
       "      <td>666049248165822465</td>\n",
       "      <td>2015-11-16 00:24:50 +0000</td>\n",
       "      <td>&lt;a href=\"http://twitter.com/download/iphone\" r...</td>\n",
       "      <td>Here we have a 1949 1st generation vulpix. Enj...</td>\n",
       "      <td>5</td>\n",
       "      <td>10</td>\n",
       "      <td>None</td>\n",
       "      <td>None</td>\n",
       "      <td>None</td>\n",
       "      <td>None</td>\n",
       "      <td>None</td>\n",
       "    </tr>\n",
       "    <tr>\n",
       "      <th>2352</th>\n",
       "      <td>666044226329800704</td>\n",
       "      <td>2015-11-16 00:04:52 +0000</td>\n",
       "      <td>&lt;a href=\"http://twitter.com/download/iphone\" r...</td>\n",
       "      <td>This is a purebred Piers Morgan. Loves to Netf...</td>\n",
       "      <td>6</td>\n",
       "      <td>10</td>\n",
       "      <td>a</td>\n",
       "      <td>None</td>\n",
       "      <td>None</td>\n",
       "      <td>None</td>\n",
       "      <td>None</td>\n",
       "    </tr>\n",
       "    <tr>\n",
       "      <th>2353</th>\n",
       "      <td>666033412701032449</td>\n",
       "      <td>2015-11-15 23:21:54 +0000</td>\n",
       "      <td>&lt;a href=\"http://twitter.com/download/iphone\" r...</td>\n",
       "      <td>Here is a very happy pup. Big fan of well-main...</td>\n",
       "      <td>9</td>\n",
       "      <td>10</td>\n",
       "      <td>a</td>\n",
       "      <td>None</td>\n",
       "      <td>None</td>\n",
       "      <td>None</td>\n",
       "      <td>None</td>\n",
       "    </tr>\n",
       "    <tr>\n",
       "      <th>2354</th>\n",
       "      <td>666029285002620928</td>\n",
       "      <td>2015-11-15 23:05:30 +0000</td>\n",
       "      <td>&lt;a href=\"http://twitter.com/download/iphone\" r...</td>\n",
       "      <td>This is a western brown Mitsubishi terrier. Up...</td>\n",
       "      <td>7</td>\n",
       "      <td>10</td>\n",
       "      <td>a</td>\n",
       "      <td>None</td>\n",
       "      <td>None</td>\n",
       "      <td>None</td>\n",
       "      <td>None</td>\n",
       "    </tr>\n",
       "    <tr>\n",
       "      <th>2355</th>\n",
       "      <td>666020888022790149</td>\n",
       "      <td>2015-11-15 22:32:08 +0000</td>\n",
       "      <td>&lt;a href=\"http://twitter.com/download/iphone\" r...</td>\n",
       "      <td>Here we have a Japanese Irish Setter. Lost eye...</td>\n",
       "      <td>8</td>\n",
       "      <td>10</td>\n",
       "      <td>None</td>\n",
       "      <td>None</td>\n",
       "      <td>None</td>\n",
       "      <td>None</td>\n",
       "      <td>None</td>\n",
       "    </tr>\n",
       "  </tbody>\n",
       "</table>\n",
       "<p>2097 rows × 11 columns</p>\n",
       "</div>"
      ],
      "text/plain": [
       "                tweet_id                  timestamp  \\\n",
       "0     892420643555336193  2017-08-01 16:23:56 +0000   \n",
       "1     892177421306343426  2017-08-01 00:17:27 +0000   \n",
       "2     891815181378084864  2017-07-31 00:18:03 +0000   \n",
       "3     891689557279858688  2017-07-30 15:58:51 +0000   \n",
       "4     891327558926688256  2017-07-29 16:00:24 +0000   \n",
       "...                  ...                        ...   \n",
       "2351  666049248165822465  2015-11-16 00:24:50 +0000   \n",
       "2352  666044226329800704  2015-11-16 00:04:52 +0000   \n",
       "2353  666033412701032449  2015-11-15 23:21:54 +0000   \n",
       "2354  666029285002620928  2015-11-15 23:05:30 +0000   \n",
       "2355  666020888022790149  2015-11-15 22:32:08 +0000   \n",
       "\n",
       "                                                 source  \\\n",
       "0     <a href=\"http://twitter.com/download/iphone\" r...   \n",
       "1     <a href=\"http://twitter.com/download/iphone\" r...   \n",
       "2     <a href=\"http://twitter.com/download/iphone\" r...   \n",
       "3     <a href=\"http://twitter.com/download/iphone\" r...   \n",
       "4     <a href=\"http://twitter.com/download/iphone\" r...   \n",
       "...                                                 ...   \n",
       "2351  <a href=\"http://twitter.com/download/iphone\" r...   \n",
       "2352  <a href=\"http://twitter.com/download/iphone\" r...   \n",
       "2353  <a href=\"http://twitter.com/download/iphone\" r...   \n",
       "2354  <a href=\"http://twitter.com/download/iphone\" r...   \n",
       "2355  <a href=\"http://twitter.com/download/iphone\" r...   \n",
       "\n",
       "                                                   text  rating_numerator  \\\n",
       "0     This is Phineas. He's a mystical boy. Only eve...                13   \n",
       "1     This is Tilly. She's just checking pup on you....                13   \n",
       "2     This is Archie. He is a rare Norwegian Pouncin...                12   \n",
       "3     This is Darla. She commenced a snooze mid meal...                13   \n",
       "4     This is Franklin. He would like you to stop ca...                12   \n",
       "...                                                 ...               ...   \n",
       "2351  Here we have a 1949 1st generation vulpix. Enj...                 5   \n",
       "2352  This is a purebred Piers Morgan. Loves to Netf...                 6   \n",
       "2353  Here is a very happy pup. Big fan of well-main...                 9   \n",
       "2354  This is a western brown Mitsubishi terrier. Up...                 7   \n",
       "2355  Here we have a Japanese Irish Setter. Lost eye...                 8   \n",
       "\n",
       "      rating_denominator      name doggo floofer pupper puppo  \n",
       "0                     10   Phineas  None    None   None  None  \n",
       "1                     10     Tilly  None    None   None  None  \n",
       "2                     10    Archie  None    None   None  None  \n",
       "3                     10     Darla  None    None   None  None  \n",
       "4                     10  Franklin  None    None   None  None  \n",
       "...                  ...       ...   ...     ...    ...   ...  \n",
       "2351                  10      None  None    None   None  None  \n",
       "2352                  10         a  None    None   None  None  \n",
       "2353                  10         a  None    None   None  None  \n",
       "2354                  10         a  None    None   None  None  \n",
       "2355                  10      None  None    None   None  None  \n",
       "\n",
       "[2097 rows x 11 columns]"
      ]
     },
     "execution_count": 164,
     "metadata": {},
     "output_type": "execute_result"
    }
   ],
   "source": [
    "twitter_archive_clean"
   ]
  },
  {
   "cell_type": "code",
   "execution_count": 165,
   "metadata": {},
   "outputs": [
    {
     "data": {
      "text/plain": [
       "Index(['tweet_id', 'timestamp', 'source', 'text', 'rating_numerator',\n",
       "       'rating_denominator', 'name', 'doggo', 'floofer', 'pupper', 'puppo'],\n",
       "      dtype='object')"
      ]
     },
     "execution_count": 165,
     "metadata": {},
     "output_type": "execute_result"
    }
   ],
   "source": [
    "# We now perform the .column function to check \n",
    "twitter_archive_clean.columns"
   ]
  },
  {
   "cell_type": "code",
   "execution_count": 166,
   "metadata": {},
   "outputs": [
    {
     "name": "stdout",
     "output_type": "stream",
     "text": [
      "<class 'pandas.core.frame.DataFrame'>\n",
      "Int64Index: 2097 entries, 0 to 2355\n",
      "Data columns (total 11 columns):\n",
      " #   Column              Non-Null Count  Dtype \n",
      "---  ------              --------------  ----- \n",
      " 0   tweet_id            2097 non-null   int64 \n",
      " 1   timestamp           2097 non-null   object\n",
      " 2   source              2097 non-null   object\n",
      " 3   text                2097 non-null   object\n",
      " 4   rating_numerator    2097 non-null   int64 \n",
      " 5   rating_denominator  2097 non-null   int64 \n",
      " 6   name                2097 non-null   object\n",
      " 7   doggo               2097 non-null   object\n",
      " 8   floofer             2097 non-null   object\n",
      " 9   pupper              2097 non-null   object\n",
      " 10  puppo               2097 non-null   object\n",
      "dtypes: int64(3), object(8)\n",
      "memory usage: 196.6+ KB\n"
     ]
    }
   ],
   "source": [
    "twitter_archive_clean.info()"
   ]
  },
  {
   "cell_type": "markdown",
   "metadata": {},
   "source": [
    "* Define\n",
    "> From the Project Motivation, we gathered that the fact that the rating numerators are greater than the denominators does not need to be cleaned. \n",
    "> This unique rating system is a big part of the popularity of WeRateDogs.\n",
    "> Thus we scale each numorator so the denominator is 10\n",
    "> Using the drop() we get rid of denominator "
   ]
  },
  {
   "cell_type": "markdown",
   "metadata": {},
   "source": [
    "* Code"
   ]
  },
  {
   "cell_type": "code",
   "execution_count": 168,
   "metadata": {},
   "outputs": [
    {
     "data": {
      "text/plain": [
       "17"
      ]
     },
     "execution_count": 168,
     "metadata": {},
     "output_type": "execute_result"
    }
   ],
   "source": [
    "# Check for rows where rating_denominator is not equal to 10\n",
    "twitter_archive_clean[twitter_archive_clean.rating_denominator !=10].value_counts().sum()"
   ]
  },
  {
   "cell_type": "code",
   "execution_count": 171,
   "metadata": {},
   "outputs": [],
   "source": [
    "twitter_archive_clean['rating_numerator'] = twitter_archive_clean.rating_numerator * \\\n",
    "(10/twitter_archive_clean.rating_denominator)\n"
   ]
  },
  {
   "cell_type": "markdown",
   "metadata": {},
   "source": [
    "* Test"
   ]
  },
  {
   "cell_type": "code",
   "execution_count": 174,
   "metadata": {},
   "outputs": [
    {
     "data": {
      "text/plain": [
       "12.000000      486\n",
       "10.000000      436\n",
       "11.000000      413\n",
       "13.000000      287\n",
       "9.000000       152\n",
       "8.000000        98\n",
       "7.000000        51\n",
       "14.000000       38\n",
       "5.000000        34\n",
       "6.000000        32\n",
       "3.000000        19\n",
       "4.000000        15\n",
       "2.000000         9\n",
       "1.000000         4\n",
       "0.480000         1\n",
       "5.259204         1\n",
       "69.970845        1\n",
       "6.761833         1\n",
       "0.360000         1\n",
       "1776.000000      1\n",
       "0.083333         1\n",
       "0.041522         1\n",
       "0.000000         1\n",
       "27.000000        1\n",
       "0.090909         1\n",
       "0.400000         1\n",
       "0.048889         1\n",
       "420.000000       1\n",
       "0.244898         1\n",
       "0.500000         1\n",
       "0.156250         1\n",
       "0.687500         1\n",
       "26.000000        1\n",
       "75.000000        1\n",
       "0.171875         1\n",
       "0.135802         1\n",
       "125.000000       1\n",
       "Name: rating_numerator, dtype: int64"
      ]
     },
     "execution_count": 174,
     "metadata": {},
     "output_type": "execute_result"
    }
   ],
   "source": [
    "twitter_archive_clean.rating_numerator.value_counts()"
   ]
  },
  {
   "cell_type": "markdown",
   "metadata": {},
   "source": [
    "* Define\n",
    "> Rename column rating_numerator to rating.\n",
    "> Convert column data type to float"
   ]
  },
  {
   "cell_type": "markdown",
   "metadata": {},
   "source": [
    "* Code"
   ]
  },
  {
   "cell_type": "code",
   "execution_count": 176,
   "metadata": {},
   "outputs": [],
   "source": [
    "# we will rename rating_numerators column to rating for better analysis.\n",
    "# Code below learnt from Source:https://stackoverflow.com/questions/59814872/error-when-renaming-and-dropping-columns-at-the-same-line-pandas-data-frame\n",
    "rename_drop_col = twitter_archive_clean.rename(columns = {'rating_numerator':'rating'}, inplace = False).drop('rating_denominator',axis=1,inplace=False)"
   ]
  },
  {
   "cell_type": "code",
   "execution_count": 177,
   "metadata": {},
   "outputs": [],
   "source": [
    "twitter_archive_clean = rename_drop_col"
   ]
  },
  {
   "cell_type": "markdown",
   "metadata": {},
   "source": [
    "* Test"
   ]
  },
  {
   "cell_type": "code",
   "execution_count": 179,
   "metadata": {},
   "outputs": [
    {
     "name": "stdout",
     "output_type": "stream",
     "text": [
      "<class 'pandas.core.frame.DataFrame'>\n",
      "Int64Index: 2097 entries, 0 to 2355\n",
      "Data columns (total 10 columns):\n",
      " #   Column     Non-Null Count  Dtype  \n",
      "---  ------     --------------  -----  \n",
      " 0   tweet_id   2097 non-null   int64  \n",
      " 1   timestamp  2097 non-null   object \n",
      " 2   source     2097 non-null   object \n",
      " 3   text       2097 non-null   object \n",
      " 4   rating     2097 non-null   float64\n",
      " 5   name       2097 non-null   object \n",
      " 6   doggo      2097 non-null   object \n",
      " 7   floofer    2097 non-null   object \n",
      " 8   pupper     2097 non-null   object \n",
      " 9   puppo      2097 non-null   object \n",
      "dtypes: float64(1), int64(1), object(8)\n",
      "memory usage: 180.2+ KB\n"
     ]
    }
   ],
   "source": [
    "twitter_archive_clean.info()"
   ]
  },
  {
   "cell_type": "markdown",
   "metadata": {},
   "source": [
    "* Define\n",
    "> Missing values and messy names in column name"
   ]
  },
  {
   "cell_type": "markdown",
   "metadata": {},
   "source": [
    "* Code"
   ]
  },
  {
   "cell_type": "code",
   "execution_count": 180,
   "metadata": {},
   "outputs": [
    {
     "data": {
      "text/plain": [
       "0        Phineas\n",
       "1          Tilly\n",
       "2         Archie\n",
       "3          Darla\n",
       "4       Franklin\n",
       "          ...   \n",
       "2351        None\n",
       "2352           a\n",
       "2353           a\n",
       "2354           a\n",
       "2355        None\n",
       "Name: name, Length: 2097, dtype: object"
      ]
     },
     "execution_count": 180,
     "metadata": {},
     "output_type": "execute_result"
    }
   ],
   "source": [
    "# Fixing Messy names\n",
    "twitter_archive_clean.name"
   ]
  },
  {
   "cell_type": "code",
   "execution_count": 181,
   "metadata": {},
   "outputs": [
    {
     "name": "stdout",
     "output_type": "stream",
     "text": [
      "['Kingsley', 'None', 'Jeffrie', 'None', 'None', 'Bonaparte', 'Dexter', 'Rocky', 'Tucker', 'Sophie', 'Rusty', 'Phil', 'Cecil', 'Lilli', 'very', 'Malcolm', 'Milo', 'Lizzie', 'Jennifur', 'None', 'Zoey', 'None', 'the', 'Fiona', 'Kreg', 'Sandra', 'a', 'Brockly', 'Kevin', 'Stubert', 'Tassy', 'Atlas', 'quite', 'Napolean', 'Huxley', 'None', 'Blu', 'None', 'Ricky', 'Cash', 'Carper', 'Samson', 'Oakley', 'None', 'Juno', 'None', 'Billl', 'None', 'Axel', 'Bode', 'None', 'None', 'Obi', 'one', 'Walker', 'Maggie', 'None', 'Barney', 'Lugan', 'None', 'Oliver', 'None', 'Toby', 'Edmund', 'None', 'Charlie', 'Stephan', 'None', 'Schnozz', 'Lola', 'Daisy', 'Jim', 'Dudley', 'None', 'Benji', 'Wilson', 'Ash', 'Cooper', 'Sampson', 'Kawhi', 'Malcolm', 'None', 'None', 'Timmy', 'None', 'Abby', 'None', 'None', 'Nida', 'Rufio', 'a', 'Sweet', 'Oscar', 'Clark', 'Finn', 'None', 'None', 'Cupid', 'Tommy', 'None', 'Anakin', 'None', 'None', 'Calvin', 'Scout', 'Richie', 'None', 'Zuzu', 'Tanner', 'Dave', 'None', 'Liam', 'Sammy', 'Lucy', 'Evy', 'Jordy', 'Tater', 'None', 'Chip', 'Jeffrey', 'None', 'Mauve', 'None', 'None', 'Frönq', 'Longfellow', 'None', 'None', 'None', 'Charles', 'Leo', 'JD', 'Linus', 'Samson', 'Samsom', 'Lucy', 'the', 'Gizmo', 'None', 'Coops', 'Jeremy', 'Milo', 'None', 'None', 'None', 'None', 'None', 'Miguel', 'Brooks', 'Duke', 'Stanley', 'Julio', 'Harlso', 'None', 'Daisy', 'Chelsea', 'Ash', 'Finn', 'Dave', 'Remus', 'Clarence', 'Sammy', 'Boots', 'Pip', 'None', 'None', 'Bert', 'None', 'Leo', 'Gary', 'Ralpher', 'Archie', 'Lucy', 'Tripp', 'None', 'Dave', 'None', 'Duchess', 'Robin', 'None', 'None', 'Moose', 'None', 'None', 'None', 'Carl', 'Keurig', 'Poppy', 'Amélie', 'Stanley', 'an', 'Bruno', 'Phred', 'Reptar', 'Sugar', 'None', 'Mingus', 'Skittle', 'None', 'my', 'Toby', 'Lincoln', 'Skittles', 'None', 'Cody', 'None', 'None', 'Storkson', 'Sansa', 'None', 'None', 'Boomer', 'Lulu', 'Alexander', 'None', 'Tyr', 'Zoe', 'Horace', 'Billy', 'Jax', 'Bisquick', 'George', 'Sadie', 'None', 'None', 'Barclay', 'None', 'None', 'Terry', 'Gilbert', 'None', 'Benedict', 'Brandi', 'Gert', 'Tove', 'Gizmo', 'None', 'None', 'Rumpole', 'Dante', 'Franklin', 'Holly', 'Reginald', 'Keith', 'Sebastian', 'Karma', 'None', 'Jiminy', 'None', 'None', 'None', 'None', 'Belle', 'Herm', 'Toffee', 'Doug', 'None', 'None', 'Lily', 'Noah', 'Lillie', 'Chip', 'Wafer', 'Bobb', 'Clarence', 'Kathmandu', 'Kreggory', 'Riley', 'Atticus', 'Bruce', 'Tug', 'None', 'Kyro', 'None', 'None', 'just', 'None', 'Crimson', 'a', 'None', 'a', 'Sammy', 'Griffin', 'None', 'None', 'Quinn', 'None', 'Thor', 'Chompsky', 'Chuckles', 'None', 'Kilo', 'None', 'Louie', 'Gus', 'Spark', 'Lucy', 'Perry', 'None', 'Dale', 'Frankie', 'Bear', 'None', 'Klevin', 'William', 'Shadoe', 'Glacier', 'None', 'Swagger', 'Scout', 'None', 'None', 'Bell', 'Penny', 'Einstein', 'None', 'Maxaroni', 'a', 'Sampson', 'Rumble', 'Pupcasso', 'None', 'None', 'an', 'Bisquick', 'None', 'Steven', 'Mia', 'Rolf', 'Loki', 'Chet', 'None', 'Sunny', 'None', 'None', 'Grey', 'Freddery', 'None', 'Bodie', 'None', 'a', 'Aspen', 'Buckley', 'Kayla', 'Butters', 'Clifford', 'Cermet', 'Moofasa', 'None', 'Oshie', 'Rorie', 'one', 'Kevin', 'Chef', 'Lacy', 'Binky', 'None', 'Larry', 'Luna', 'Lou', 'Ava', 'Rodney', 'Titan', 'None', 'None', 'Seamus', 'Yukon', 'Snicku', 'a', 'Sierra', 'None', 'Dexter', 'None', 'Griswold', 'None', 'Benny', 'Bentley', 'None', 'Charlie', 'Samson', 'Monster', 'None', 'Bernie', 'None', 'None', 'Betty', 'Zeke', 'Baloo', 'None', 'Tucker', 'None', 'getting', 'Bailey', 'Arnold', 'Nigel', 'None', 'Rizzy', 'Saydee', 'a', 'Emanuel', 'None', 'Luna', 'Wyatt', 'Charlie', 'None', 'Pilot', 'Eli', 'Gordon', 'None', 'Doc', 'None', 'Rueben', 'an', 'Theodore', 'Geno', 'Bruce', 'Calbert', 'Herb', 'Chevy', 'Calbert', 'None', 'Jax', 'Clarkus', 'Gary', 'None', 'Mya', 'Milo', 'a', 'None', 'Molly', 'None', 'None', 'Rusty', 'Winnie', 'Bayley', 'Indie', 'Jockson', 'Mia', 'Pepper', 'Bella', 'None', 'Louie', 'Rinna', 'None', 'None', 'None', 'Crumpet', 'Stefan', 'None', 'None', 'Gus', 'Hanz', 'Grady', 'Jiminus', 'Tucker', 'Oliver', 'None', 'Skye', 'None', 'Finn', 'Bradley', 'Harrison', 'None', 'None', 'Louis', 'Gin', 'Cuddles', 'Buddy', 'Pubert', 'Rusty', 'light', 'None', 'Gus', 'None', 'Brody', 'Sailor', 'Wally', 'Willow', 'Tango', 'Bailey', 'the', 'a', 'None', 'Pickles', 'Mike', 'the', 'Sarge', 'Lou', 'None', 'Bookstore', 'None', 'Penelope', 'Gerbald', 'Puff', 'Cannon', 'Bentley', 'Nelly', 'Eugene', 'None', 'None', 'Genevieve', 'None', 'Penny', 'Raymond', 'Cupcake', 'Terrance', 'Rocky', 'None', 'Jeffrey', 'Harry', 'Tom', 'Oliviér', 'Bella', 'Vincent', 'Edd', 'Sadie', 'Oliver', 'None', 'Eleanor', 'Butter', 'Tobi', 'None', 'Ace', 'Michelangelope', 'Beckham', 'Reggie', 'None', 'Bentley', 'a', 'Coops', 'Lucy', 'Major', 'None', 'Brody', 'Kial', 'Acro', 'Blue', 'Jamesy', 'Churlie', 'Fiona', 'Daisy', 'Shawwn', 'Kreggory', 'None', 'Sweets', 'None', 'None', 'Arlen', 'Toby', 'Chester', 'Patrick', 'Ralphson', 'Tucker', 'George', 'Devón', 'None', 'None', 'None', 'Lennon', 'Wyatt', 'None', 'None', 'Sandy', 'Zeke', 'None', 'Hank', 'None', 'Sunny', 'Klein', 'such', 'Linda', 'Edgar', 'Tedders', 'a', 'Lily', 'None', 'Nollie', 'Duke', 'Mojo', 'Tyr', 'Jareld', 'Kyle', 'None', 'Duke', 'Dakota', 'Cooper', 'Grizzie', 'None', 'None', 'Katie', 'Milo', 'a', 'Harnold', 'None', 'Fred', 'Tuco', 'Hall', 'Jerome', 'None', 'Shadow', 'Jazzy', 'Maggie', 'None', 'Emmy', 'None', 'Dotsy', 'Jeph', 'None', 'None', 'None', 'None', 'None', 'Loki', 'Jaycob', 'None', 'Cheryl', 'None', 'None', 'None', 'Willie', 'a', 'Wesley', 'None', 'None', 'officially', 'Jack', 'the', 'Orion', 'Cora', 'Dutch', 'None', 'Bear', 'None', 'Maggie', 'None', 'None', 'None', 'Raymond', 'Millie', 'Milo', 'None', 'Romeo', 'Harold', 'Lili', 'Sage', 'None', 'None', 'None', 'None', 'None', 'None', 'Indie', 'None', 'None', 'Walter', 'None', 'Solomon', 'Toby', 'None', 'Mabel', 'a', 'None', 'None', 'Carbon', 'None', 'Kulet', 'Derek', 'Sully', 'None', 'Deacon', 'Brownie', 'Hamrick', 'Diogi', 'Jett', 'Godzilla', 'Chuckles', 'Brad', 'Stuart', 'None', 'Thumas', 'Vincent', 'Kane', 'Max', 'Toby', 'Oliviér', 'None', 'Flurpson', 'Clarence', 'Olive', 'None', 'Bailey', 'None', 'a', 'Hector', 'Kirk', 'Vinscent', 'Gerald', 'None', 'Maude', 'Corey', 'Wallace', 'Cassie', 'Howie', 'None', 'Oliver', 'None', 'Cassie', 'Jay', 'Clyde', 'None', 'Hero', 'Jessiga', 'None', 'None', 'Charles', 'None', 'Smokey', 'None', 'Jed', 'Daisy', 'None', 'Fabio', 'None', 'Ashleigh', 'Pippa', 'Gòrdón', 'None', 'Bubba', 'Theodore', 'Laika', 'Ulysses', 'Louis', 'Cody', 'None', 'Winston', 'Pumpkin', 'Huck', 'Davey', 'None', 'Fred', 'Chuq', 'Bloop', 'None', 'Sid', 'Eazy', 'Winston', 'Crystal', 'Tycho', 'None', 'None', 'Layla', 'Odie', 'Maya', 'Charlie', 'Kody', 'Darrel', 'Ferg', 'Winifred', 'Tucker', 'by', 'George', 'Dewey', 'Juno', 'Finn', 'Sebastian', 'Cali', 'Jerry', 'Tedrick', 'Fwed', 'Tayzie', 'None', 'Caryl', 'Maxaroni', 'Sadie', 'Ruffles', 'None', 'Farfle', 'None', 'Colin', 'Mia', 'Jerry', 'None', 'None', 'Grizz', 'None', 'None', 'None', 'None', 'Rizzo', 'Dunkin', 'Obie', 'mad', 'None', 'Gary', 'None', 'Ava', 'Winnie', 'Carl', 'Kirby', 'Benji', 'Sandy', 'Doug', 'None', 'Jackie', 'None', 'Jax', 'Titan', 'Shooter', 'Akumi', 'Earl', 'Scott', 'Panda', 'Vince', 'Flávio', 'None', 'Tess', 'Lolo', 'Crystal', 'Pinot', 'Kona', 'None', 'Bob', 'Dave', 'Dook', 'Timison', 'Pablo', 'Louie', 'None', 'Max', 'Lambeau', 'Finley', 'Kaiya', 'None', 'None', 'Alfie', 'Peaches', 'Jersey', 'Bauer', 'Archie', 'Lola', 'None', 'None', 'Linda', 'None', 'Humphrey', 'Axel', 'None', 'Beya', 'Reggie', 'Sam', 'None', 'Daisy', 'None', 'Link', 'None', 'a', 'Iggy', 'Elliot', 'None', 'None', 'None', 'Mason', 'Lenny', 'None', 'None', 'a', 'Watson', 'None', 'None', 'None', 'life', 'Burt', 'None', 'None', 'None', 'None', 'Cilantro', 'None', 'Otis', 'None', 'Herschel', 'Happy', 'None', 'Wiggles', 'Tucker', 'Herald', 'not', 'a', 'None', 'None', 'Atlas', 'an', 'Doobert', 'Balto', 'Tonks', 'actually', 'Superpup', 'None', 'Percy', 'a', 'Alfie', 'None', 'None', 'Rusty', 'None', 'very', 'Django', 'DonDon', 'None', 'Penny', 'None', 'None', 'None', 'Luca', 'Romeo', 'Berkeley', 'Moe', 'Koda', 'Izzy', 'Brat', 'Stanley', 'Bruce', 'Creg', 'Buddy', 'None', 'Bo', 'Winston', 'Dex', 'Hobbes', 'Wilson', 'None', 'None', 'None', 'Amber', 'Django', 'his', 'None', 'None', 'Taco', 'None', 'Peanut', 'None', 'Shadow', 'Craig', 'Kirby', 'None', 'Aspen', 'Tito', 'Pavlov', 'None', 'None', 'Ted', 'Bella', 'Luca', 'Abby', 'Phil', 'Klevin', 'None', 'Koko', 'Moose', 'Bilbo', 'Bear', 'Sadie', 'Remington', 'None', 'Blanket', 'Wallace', 'None', 'None', 'Lincoln', 'Chesney', 'Reese', 'Rey', 'Sparky', 'Miley', 'None', 'Shadow', 'None', 'None', 'Venti', 'None', 'None', 'Barry', 'None', 'Lilly', 'None', 'Sophie', 'Chet', 'Ruby', 'Mac', 'Klevin', 'Koda', 'Brandonald', 'Sky', 'Noosh', 'Cooper', 'None', 'Jangle', 'Otis', 'Jimison']\n"
     ]
    }
   ],
   "source": [
    "# Let do a sample selection and see\n",
    "name_list = list(twitter_archive_clean.name)\n",
    "print(random.sample(name_list, 1000))"
   ]
  },
  {
   "cell_type": "code",
   "execution_count": 182,
   "metadata": {},
   "outputs": [
    {
     "data": {
      "text/plain": [
       "a               55\n",
       "the              8\n",
       "an               6\n",
       "very             4\n",
       "one              4\n",
       "just             3\n",
       "quite            3\n",
       "getting          2\n",
       "actually         2\n",
       "not              2\n",
       "light            1\n",
       "old              1\n",
       "incredibly       1\n",
       "my               1\n",
       "all              1\n",
       "space            1\n",
       "this             1\n",
       "his              1\n",
       "officially       1\n",
       "mad              1\n",
       "infuriating      1\n",
       "such             1\n",
       "life             1\n",
       "unacceptable     1\n",
       "by               1\n",
       "Name: name, dtype: int64"
      ]
     },
     "execution_count": 182,
     "metadata": {},
     "output_type": "execute_result"
    }
   ],
   "source": [
    "# We can see that majority of names begin with uppercase letter\n",
    "# Our assuption is that those names begining with lowercases are wrong\n",
    "twitter_archive_clean.loc[(twitter_archive_clean.name.str.islower())].name.value_counts()"
   ]
  },
  {
   "cell_type": "code",
   "execution_count": 183,
   "metadata": {},
   "outputs": [
    {
     "data": {
      "text/plain": [
       "104"
      ]
     },
     "execution_count": 183,
     "metadata": {},
     "output_type": "execute_result"
    }
   ],
   "source": [
    "# Let see how many of these names\n",
    "twitter_archive_clean.loc[(twitter_archive_clean.name.str.islower())].name.value_counts().sum()"
   ]
  },
  {
   "cell_type": "code",
   "execution_count": 184,
   "metadata": {},
   "outputs": [
    {
     "name": "stdout",
     "output_type": "stream",
     "text": [
      "0        Phineas\n",
      "1          Tilly\n",
      "2         Archie\n",
      "3          Darla\n",
      "4       Franklin\n",
      "          ...   \n",
      "2351        None\n",
      "2352         NaN\n",
      "2353         NaN\n",
      "2354         NaN\n",
      "2355        None\n",
      "Name: name, Length: 2097, dtype: object\n"
     ]
    }
   ],
   "source": [
    "# To deal with this issue we shall replace these lowercase names with NaN then change all None to NaN\n",
    "twitter_archive_clean.loc[twitter_archive_clean['name'] == twitter_archive_clean['name'].str.lower(), 'name'] = np.nan\n",
    "print(twitter_archive_clean['name'])"
   ]
  },
  {
   "cell_type": "markdown",
   "metadata": {},
   "source": [
    "* Test"
   ]
  },
  {
   "cell_type": "code",
   "execution_count": 185,
   "metadata": {},
   "outputs": [
    {
     "name": "stdout",
     "output_type": "stream",
     "text": [
      "0        Phineas\n",
      "1          Tilly\n",
      "2         Archie\n",
      "3          Darla\n",
      "4       Franklin\n",
      "          ...   \n",
      "2351         NaN\n",
      "2352         NaN\n",
      "2353         NaN\n",
      "2354         NaN\n",
      "2355         NaN\n",
      "Name: name, Length: 2097, dtype: object\n"
     ]
    }
   ],
   "source": [
    "# Let now replace Non to NaN\n",
    "twitter_archive_clean['name'].replace(to_replace = 'None', value = np.nan, inplace = True)\n",
    "print(twitter_archive_clean['name'])"
   ]
  },
  {
   "cell_type": "markdown",
   "metadata": {},
   "source": [
    "* Define\n",
    "> There should have been a column for type or stages of dogs so that doggo, floofer, pupper and puppo can be accomodated in"
   ]
  },
  {
   "cell_type": "markdown",
   "metadata": {},
   "source": [
    "* Code"
   ]
  },
  {
   "cell_type": "code",
   "execution_count": 186,
   "metadata": {},
   "outputs": [
    {
     "data": {
      "text/plain": [
       "0       This is Phineas. He's a mystical boy. Only eve...\n",
       "1       This is Tilly. She's just checking pup on you....\n",
       "2       This is Archie. He is a rare Norwegian Pouncin...\n",
       "3       This is Darla. She commenced a snooze mid meal...\n",
       "4       This is Franklin. He would like you to stop ca...\n",
       "                              ...                        \n",
       "2351    Here we have a 1949 1st generation vulpix. Enj...\n",
       "2352    This is a purebred Piers Morgan. Loves to Netf...\n",
       "2353    Here is a very happy pup. Big fan of well-main...\n",
       "2354    This is a western brown Mitsubishi terrier. Up...\n",
       "2355    Here we have a Japanese Irish Setter. Lost eye...\n",
       "Name: text, Length: 2097, dtype: object"
      ]
     },
     "execution_count": 186,
     "metadata": {},
     "output_type": "execute_result"
    }
   ],
   "source": [
    "# As stated in the Define section above, we collapse doggo, floofer, pupper and puppo in one colunm\n",
    "# Lets look at the text column in our twitter archive data set\n",
    "twitter_archive_clean['text']"
   ]
  },
  {
   "cell_type": "code",
   "execution_count": 187,
   "metadata": {},
   "outputs": [
    {
     "name": "stdout",
     "output_type": "stream",
     "text": [
      "        0\n",
      "0     NaN\n",
      "1     NaN\n",
      "2     NaN\n",
      "3     NaN\n",
      "4     NaN\n",
      "...   ...\n",
      "2351  NaN\n",
      "2352  NaN\n",
      "2353  NaN\n",
      "2354  NaN\n",
      "2355  NaN\n",
      "\n",
      "[2097 rows x 1 columns]\n"
     ]
    }
   ],
   "source": [
    "# We now extract from text column if dog stage is found\n",
    "dog_stages = twitter_archive_clean['text'].str.extract('(puppo|pupper|floofer|doggo)', expand=True)\n",
    "print(dog_stages)"
   ]
  },
  {
   "cell_type": "code",
   "execution_count": 188,
   "metadata": {},
   "outputs": [],
   "source": [
    "# We create a column called dog_stages and assign these to\n",
    "twitter_archive_clean['dog_stages'] = dog_stages"
   ]
  },
  {
   "cell_type": "code",
   "execution_count": 189,
   "metadata": {},
   "outputs": [],
   "source": [
    "twitter_archive_clean = twitter_archive_clean.astype({\"dog_stages\":'category'})"
   ]
  },
  {
   "cell_type": "markdown",
   "metadata": {},
   "source": [
    "* Test"
   ]
  },
  {
   "cell_type": "code",
   "execution_count": 190,
   "metadata": {},
   "outputs": [
    {
     "data": {
      "text/plain": [
       "pupper     240\n",
       "doggo       80\n",
       "puppo       29\n",
       "floofer      4\n",
       "Name: dog_stages, dtype: int64"
      ]
     },
     "execution_count": 190,
     "metadata": {},
     "output_type": "execute_result"
    }
   ],
   "source": [
    "# Lets count to see the actual values we have for dog stages\n",
    "twitter_archive_clean.dog_stages.value_counts()"
   ]
  },
  {
   "cell_type": "code",
   "execution_count": 191,
   "metadata": {},
   "outputs": [
    {
     "data": {
      "text/html": [
       "<div>\n",
       "<style scoped>\n",
       "    .dataframe tbody tr th:only-of-type {\n",
       "        vertical-align: middle;\n",
       "    }\n",
       "\n",
       "    .dataframe tbody tr th {\n",
       "        vertical-align: top;\n",
       "    }\n",
       "\n",
       "    .dataframe thead th {\n",
       "        text-align: right;\n",
       "    }\n",
       "</style>\n",
       "<table border=\"1\" class=\"dataframe\">\n",
       "  <thead>\n",
       "    <tr style=\"text-align: right;\">\n",
       "      <th></th>\n",
       "      <th>tweet_id</th>\n",
       "      <th>timestamp</th>\n",
       "      <th>source</th>\n",
       "      <th>text</th>\n",
       "      <th>rating</th>\n",
       "      <th>name</th>\n",
       "      <th>doggo</th>\n",
       "      <th>floofer</th>\n",
       "      <th>pupper</th>\n",
       "      <th>puppo</th>\n",
       "      <th>dog_stages</th>\n",
       "    </tr>\n",
       "  </thead>\n",
       "  <tbody>\n",
       "    <tr>\n",
       "      <th>0</th>\n",
       "      <td>892420643555336193</td>\n",
       "      <td>2017-08-01 16:23:56 +0000</td>\n",
       "      <td>&lt;a href=\"http://twitter.com/download/iphone\" r...</td>\n",
       "      <td>This is Phineas. He's a mystical boy. Only eve...</td>\n",
       "      <td>13.0</td>\n",
       "      <td>Phineas</td>\n",
       "      <td>None</td>\n",
       "      <td>None</td>\n",
       "      <td>None</td>\n",
       "      <td>None</td>\n",
       "      <td>NaN</td>\n",
       "    </tr>\n",
       "    <tr>\n",
       "      <th>1</th>\n",
       "      <td>892177421306343426</td>\n",
       "      <td>2017-08-01 00:17:27 +0000</td>\n",
       "      <td>&lt;a href=\"http://twitter.com/download/iphone\" r...</td>\n",
       "      <td>This is Tilly. She's just checking pup on you....</td>\n",
       "      <td>13.0</td>\n",
       "      <td>Tilly</td>\n",
       "      <td>None</td>\n",
       "      <td>None</td>\n",
       "      <td>None</td>\n",
       "      <td>None</td>\n",
       "      <td>NaN</td>\n",
       "    </tr>\n",
       "    <tr>\n",
       "      <th>2</th>\n",
       "      <td>891815181378084864</td>\n",
       "      <td>2017-07-31 00:18:03 +0000</td>\n",
       "      <td>&lt;a href=\"http://twitter.com/download/iphone\" r...</td>\n",
       "      <td>This is Archie. He is a rare Norwegian Pouncin...</td>\n",
       "      <td>12.0</td>\n",
       "      <td>Archie</td>\n",
       "      <td>None</td>\n",
       "      <td>None</td>\n",
       "      <td>None</td>\n",
       "      <td>None</td>\n",
       "      <td>NaN</td>\n",
       "    </tr>\n",
       "    <tr>\n",
       "      <th>3</th>\n",
       "      <td>891689557279858688</td>\n",
       "      <td>2017-07-30 15:58:51 +0000</td>\n",
       "      <td>&lt;a href=\"http://twitter.com/download/iphone\" r...</td>\n",
       "      <td>This is Darla. She commenced a snooze mid meal...</td>\n",
       "      <td>13.0</td>\n",
       "      <td>Darla</td>\n",
       "      <td>None</td>\n",
       "      <td>None</td>\n",
       "      <td>None</td>\n",
       "      <td>None</td>\n",
       "      <td>NaN</td>\n",
       "    </tr>\n",
       "    <tr>\n",
       "      <th>4</th>\n",
       "      <td>891327558926688256</td>\n",
       "      <td>2017-07-29 16:00:24 +0000</td>\n",
       "      <td>&lt;a href=\"http://twitter.com/download/iphone\" r...</td>\n",
       "      <td>This is Franklin. He would like you to stop ca...</td>\n",
       "      <td>12.0</td>\n",
       "      <td>Franklin</td>\n",
       "      <td>None</td>\n",
       "      <td>None</td>\n",
       "      <td>None</td>\n",
       "      <td>None</td>\n",
       "      <td>NaN</td>\n",
       "    </tr>\n",
       "    <tr>\n",
       "      <th>...</th>\n",
       "      <td>...</td>\n",
       "      <td>...</td>\n",
       "      <td>...</td>\n",
       "      <td>...</td>\n",
       "      <td>...</td>\n",
       "      <td>...</td>\n",
       "      <td>...</td>\n",
       "      <td>...</td>\n",
       "      <td>...</td>\n",
       "      <td>...</td>\n",
       "      <td>...</td>\n",
       "    </tr>\n",
       "    <tr>\n",
       "      <th>2351</th>\n",
       "      <td>666049248165822465</td>\n",
       "      <td>2015-11-16 00:24:50 +0000</td>\n",
       "      <td>&lt;a href=\"http://twitter.com/download/iphone\" r...</td>\n",
       "      <td>Here we have a 1949 1st generation vulpix. Enj...</td>\n",
       "      <td>5.0</td>\n",
       "      <td>NaN</td>\n",
       "      <td>None</td>\n",
       "      <td>None</td>\n",
       "      <td>None</td>\n",
       "      <td>None</td>\n",
       "      <td>NaN</td>\n",
       "    </tr>\n",
       "    <tr>\n",
       "      <th>2352</th>\n",
       "      <td>666044226329800704</td>\n",
       "      <td>2015-11-16 00:04:52 +0000</td>\n",
       "      <td>&lt;a href=\"http://twitter.com/download/iphone\" r...</td>\n",
       "      <td>This is a purebred Piers Morgan. Loves to Netf...</td>\n",
       "      <td>6.0</td>\n",
       "      <td>NaN</td>\n",
       "      <td>None</td>\n",
       "      <td>None</td>\n",
       "      <td>None</td>\n",
       "      <td>None</td>\n",
       "      <td>NaN</td>\n",
       "    </tr>\n",
       "    <tr>\n",
       "      <th>2353</th>\n",
       "      <td>666033412701032449</td>\n",
       "      <td>2015-11-15 23:21:54 +0000</td>\n",
       "      <td>&lt;a href=\"http://twitter.com/download/iphone\" r...</td>\n",
       "      <td>Here is a very happy pup. Big fan of well-main...</td>\n",
       "      <td>9.0</td>\n",
       "      <td>NaN</td>\n",
       "      <td>None</td>\n",
       "      <td>None</td>\n",
       "      <td>None</td>\n",
       "      <td>None</td>\n",
       "      <td>NaN</td>\n",
       "    </tr>\n",
       "    <tr>\n",
       "      <th>2354</th>\n",
       "      <td>666029285002620928</td>\n",
       "      <td>2015-11-15 23:05:30 +0000</td>\n",
       "      <td>&lt;a href=\"http://twitter.com/download/iphone\" r...</td>\n",
       "      <td>This is a western brown Mitsubishi terrier. Up...</td>\n",
       "      <td>7.0</td>\n",
       "      <td>NaN</td>\n",
       "      <td>None</td>\n",
       "      <td>None</td>\n",
       "      <td>None</td>\n",
       "      <td>None</td>\n",
       "      <td>NaN</td>\n",
       "    </tr>\n",
       "    <tr>\n",
       "      <th>2355</th>\n",
       "      <td>666020888022790149</td>\n",
       "      <td>2015-11-15 22:32:08 +0000</td>\n",
       "      <td>&lt;a href=\"http://twitter.com/download/iphone\" r...</td>\n",
       "      <td>Here we have a Japanese Irish Setter. Lost eye...</td>\n",
       "      <td>8.0</td>\n",
       "      <td>NaN</td>\n",
       "      <td>None</td>\n",
       "      <td>None</td>\n",
       "      <td>None</td>\n",
       "      <td>None</td>\n",
       "      <td>NaN</td>\n",
       "    </tr>\n",
       "  </tbody>\n",
       "</table>\n",
       "<p>2097 rows × 11 columns</p>\n",
       "</div>"
      ],
      "text/plain": [
       "                tweet_id                  timestamp  \\\n",
       "0     892420643555336193  2017-08-01 16:23:56 +0000   \n",
       "1     892177421306343426  2017-08-01 00:17:27 +0000   \n",
       "2     891815181378084864  2017-07-31 00:18:03 +0000   \n",
       "3     891689557279858688  2017-07-30 15:58:51 +0000   \n",
       "4     891327558926688256  2017-07-29 16:00:24 +0000   \n",
       "...                  ...                        ...   \n",
       "2351  666049248165822465  2015-11-16 00:24:50 +0000   \n",
       "2352  666044226329800704  2015-11-16 00:04:52 +0000   \n",
       "2353  666033412701032449  2015-11-15 23:21:54 +0000   \n",
       "2354  666029285002620928  2015-11-15 23:05:30 +0000   \n",
       "2355  666020888022790149  2015-11-15 22:32:08 +0000   \n",
       "\n",
       "                                                 source  \\\n",
       "0     <a href=\"http://twitter.com/download/iphone\" r...   \n",
       "1     <a href=\"http://twitter.com/download/iphone\" r...   \n",
       "2     <a href=\"http://twitter.com/download/iphone\" r...   \n",
       "3     <a href=\"http://twitter.com/download/iphone\" r...   \n",
       "4     <a href=\"http://twitter.com/download/iphone\" r...   \n",
       "...                                                 ...   \n",
       "2351  <a href=\"http://twitter.com/download/iphone\" r...   \n",
       "2352  <a href=\"http://twitter.com/download/iphone\" r...   \n",
       "2353  <a href=\"http://twitter.com/download/iphone\" r...   \n",
       "2354  <a href=\"http://twitter.com/download/iphone\" r...   \n",
       "2355  <a href=\"http://twitter.com/download/iphone\" r...   \n",
       "\n",
       "                                                   text  rating      name  \\\n",
       "0     This is Phineas. He's a mystical boy. Only eve...    13.0   Phineas   \n",
       "1     This is Tilly. She's just checking pup on you....    13.0     Tilly   \n",
       "2     This is Archie. He is a rare Norwegian Pouncin...    12.0    Archie   \n",
       "3     This is Darla. She commenced a snooze mid meal...    13.0     Darla   \n",
       "4     This is Franklin. He would like you to stop ca...    12.0  Franklin   \n",
       "...                                                 ...     ...       ...   \n",
       "2351  Here we have a 1949 1st generation vulpix. Enj...     5.0       NaN   \n",
       "2352  This is a purebred Piers Morgan. Loves to Netf...     6.0       NaN   \n",
       "2353  Here is a very happy pup. Big fan of well-main...     9.0       NaN   \n",
       "2354  This is a western brown Mitsubishi terrier. Up...     7.0       NaN   \n",
       "2355  Here we have a Japanese Irish Setter. Lost eye...     8.0       NaN   \n",
       "\n",
       "     doggo floofer pupper puppo dog_stages  \n",
       "0     None    None   None  None        NaN  \n",
       "1     None    None   None  None        NaN  \n",
       "2     None    None   None  None        NaN  \n",
       "3     None    None   None  None        NaN  \n",
       "4     None    None   None  None        NaN  \n",
       "...    ...     ...    ...   ...        ...  \n",
       "2351  None    None   None  None        NaN  \n",
       "2352  None    None   None  None        NaN  \n",
       "2353  None    None   None  None        NaN  \n",
       "2354  None    None   None  None        NaN  \n",
       "2355  None    None   None  None        NaN  \n",
       "\n",
       "[2097 rows x 11 columns]"
      ]
     },
     "execution_count": 191,
     "metadata": {},
     "output_type": "execute_result"
    }
   ],
   "source": [
    "twitter_archive_clean"
   ]
  },
  {
   "cell_type": "markdown",
   "metadata": {},
   "source": [
    "* Define\n",
    "> Change data type for twitter_id from (int64 ) to object using the astype() function and datetime from (object) to datetime using pandas to_datetime() function."
   ]
  },
  {
   "cell_type": "markdown",
   "metadata": {},
   "source": [
    "* Code"
   ]
  },
  {
   "cell_type": "code",
   "execution_count": 192,
   "metadata": {},
   "outputs": [],
   "source": [
    "# As stated in the defination above, we change these data types\n",
    "twitter_archive_clean['timestamp'] = pd.to_datetime(twitter_archive_clean['timestamp'])\n",
    "twitter_archive_clean = twitter_archive_clean.astype({\"tweet_id\": str})"
   ]
  },
  {
   "cell_type": "markdown",
   "metadata": {},
   "source": [
    "* Test"
   ]
  },
  {
   "cell_type": "code",
   "execution_count": 193,
   "metadata": {},
   "outputs": [
    {
     "name": "stdout",
     "output_type": "stream",
     "text": [
      "tweet_id                   object\n",
      "timestamp     datetime64[ns, UTC]\n",
      "source                     object\n",
      "text                       object\n",
      "rating                    float64\n",
      "name                       object\n",
      "doggo                      object\n",
      "floofer                    object\n",
      "pupper                     object\n",
      "puppo                      object\n",
      "dog_stages               category\n",
      "dtype: object\n"
     ]
    }
   ],
   "source": [
    "print(twitter_archive_clean.dtypes)"
   ]
  },
  {
   "cell_type": "code",
   "execution_count": 194,
   "metadata": {},
   "outputs": [],
   "source": [
    "twitter_archive_clean.drop(columns=[\"doggo\",\"floofer\",\"pupper\",\"puppo\"], inplace = True)"
   ]
  },
  {
   "cell_type": "code",
   "execution_count": 195,
   "metadata": {},
   "outputs": [],
   "source": [
    "# Remove the extra 0000 part of the date time usinf str.strip() function\n",
    "twitter_archive_clean.timestamp = twitter_archive_clean.timestamp.astype(str).str.strip('+0000')"
   ]
  },
  {
   "cell_type": "markdown",
   "metadata": {},
   "source": [
    "* Test"
   ]
  },
  {
   "cell_type": "code",
   "execution_count": 196,
   "metadata": {},
   "outputs": [
    {
     "data": {
      "text/html": [
       "<div>\n",
       "<style scoped>\n",
       "    .dataframe tbody tr th:only-of-type {\n",
       "        vertical-align: middle;\n",
       "    }\n",
       "\n",
       "    .dataframe tbody tr th {\n",
       "        vertical-align: top;\n",
       "    }\n",
       "\n",
       "    .dataframe thead th {\n",
       "        text-align: right;\n",
       "    }\n",
       "</style>\n",
       "<table border=\"1\" class=\"dataframe\">\n",
       "  <thead>\n",
       "    <tr style=\"text-align: right;\">\n",
       "      <th></th>\n",
       "      <th>tweet_id</th>\n",
       "      <th>timestamp</th>\n",
       "      <th>source</th>\n",
       "      <th>text</th>\n",
       "      <th>rating</th>\n",
       "      <th>name</th>\n",
       "      <th>dog_stages</th>\n",
       "    </tr>\n",
       "  </thead>\n",
       "  <tbody>\n",
       "    <tr>\n",
       "      <th>0</th>\n",
       "      <td>892420643555336193</td>\n",
       "      <td>2017-08-01 16:23:56+00:</td>\n",
       "      <td>&lt;a href=\"http://twitter.com/download/iphone\" r...</td>\n",
       "      <td>This is Phineas. He's a mystical boy. Only eve...</td>\n",
       "      <td>13.0</td>\n",
       "      <td>Phineas</td>\n",
       "      <td>NaN</td>\n",
       "    </tr>\n",
       "    <tr>\n",
       "      <th>1</th>\n",
       "      <td>892177421306343426</td>\n",
       "      <td>2017-08-01 00:17:27+00:</td>\n",
       "      <td>&lt;a href=\"http://twitter.com/download/iphone\" r...</td>\n",
       "      <td>This is Tilly. She's just checking pup on you....</td>\n",
       "      <td>13.0</td>\n",
       "      <td>Tilly</td>\n",
       "      <td>NaN</td>\n",
       "    </tr>\n",
       "    <tr>\n",
       "      <th>2</th>\n",
       "      <td>891815181378084864</td>\n",
       "      <td>2017-07-31 00:18:03+00:</td>\n",
       "      <td>&lt;a href=\"http://twitter.com/download/iphone\" r...</td>\n",
       "      <td>This is Archie. He is a rare Norwegian Pouncin...</td>\n",
       "      <td>12.0</td>\n",
       "      <td>Archie</td>\n",
       "      <td>NaN</td>\n",
       "    </tr>\n",
       "    <tr>\n",
       "      <th>3</th>\n",
       "      <td>891689557279858688</td>\n",
       "      <td>2017-07-30 15:58:51+00:</td>\n",
       "      <td>&lt;a href=\"http://twitter.com/download/iphone\" r...</td>\n",
       "      <td>This is Darla. She commenced a snooze mid meal...</td>\n",
       "      <td>13.0</td>\n",
       "      <td>Darla</td>\n",
       "      <td>NaN</td>\n",
       "    </tr>\n",
       "    <tr>\n",
       "      <th>4</th>\n",
       "      <td>891327558926688256</td>\n",
       "      <td>2017-07-29 16:00:24+00:</td>\n",
       "      <td>&lt;a href=\"http://twitter.com/download/iphone\" r...</td>\n",
       "      <td>This is Franklin. He would like you to stop ca...</td>\n",
       "      <td>12.0</td>\n",
       "      <td>Franklin</td>\n",
       "      <td>NaN</td>\n",
       "    </tr>\n",
       "    <tr>\n",
       "      <th>...</th>\n",
       "      <td>...</td>\n",
       "      <td>...</td>\n",
       "      <td>...</td>\n",
       "      <td>...</td>\n",
       "      <td>...</td>\n",
       "      <td>...</td>\n",
       "      <td>...</td>\n",
       "    </tr>\n",
       "    <tr>\n",
       "      <th>2351</th>\n",
       "      <td>666049248165822465</td>\n",
       "      <td>2015-11-16 00:24:50+00:</td>\n",
       "      <td>&lt;a href=\"http://twitter.com/download/iphone\" r...</td>\n",
       "      <td>Here we have a 1949 1st generation vulpix. Enj...</td>\n",
       "      <td>5.0</td>\n",
       "      <td>NaN</td>\n",
       "      <td>NaN</td>\n",
       "    </tr>\n",
       "    <tr>\n",
       "      <th>2352</th>\n",
       "      <td>666044226329800704</td>\n",
       "      <td>2015-11-16 00:04:52+00:</td>\n",
       "      <td>&lt;a href=\"http://twitter.com/download/iphone\" r...</td>\n",
       "      <td>This is a purebred Piers Morgan. Loves to Netf...</td>\n",
       "      <td>6.0</td>\n",
       "      <td>NaN</td>\n",
       "      <td>NaN</td>\n",
       "    </tr>\n",
       "    <tr>\n",
       "      <th>2353</th>\n",
       "      <td>666033412701032449</td>\n",
       "      <td>2015-11-15 23:21:54+00:</td>\n",
       "      <td>&lt;a href=\"http://twitter.com/download/iphone\" r...</td>\n",
       "      <td>Here is a very happy pup. Big fan of well-main...</td>\n",
       "      <td>9.0</td>\n",
       "      <td>NaN</td>\n",
       "      <td>NaN</td>\n",
       "    </tr>\n",
       "    <tr>\n",
       "      <th>2354</th>\n",
       "      <td>666029285002620928</td>\n",
       "      <td>2015-11-15 23:05:30+00:</td>\n",
       "      <td>&lt;a href=\"http://twitter.com/download/iphone\" r...</td>\n",
       "      <td>This is a western brown Mitsubishi terrier. Up...</td>\n",
       "      <td>7.0</td>\n",
       "      <td>NaN</td>\n",
       "      <td>NaN</td>\n",
       "    </tr>\n",
       "    <tr>\n",
       "      <th>2355</th>\n",
       "      <td>666020888022790149</td>\n",
       "      <td>2015-11-15 22:32:08+00:</td>\n",
       "      <td>&lt;a href=\"http://twitter.com/download/iphone\" r...</td>\n",
       "      <td>Here we have a Japanese Irish Setter. Lost eye...</td>\n",
       "      <td>8.0</td>\n",
       "      <td>NaN</td>\n",
       "      <td>NaN</td>\n",
       "    </tr>\n",
       "  </tbody>\n",
       "</table>\n",
       "<p>2097 rows × 7 columns</p>\n",
       "</div>"
      ],
      "text/plain": [
       "                tweet_id                timestamp  \\\n",
       "0     892420643555336193  2017-08-01 16:23:56+00:   \n",
       "1     892177421306343426  2017-08-01 00:17:27+00:   \n",
       "2     891815181378084864  2017-07-31 00:18:03+00:   \n",
       "3     891689557279858688  2017-07-30 15:58:51+00:   \n",
       "4     891327558926688256  2017-07-29 16:00:24+00:   \n",
       "...                  ...                      ...   \n",
       "2351  666049248165822465  2015-11-16 00:24:50+00:   \n",
       "2352  666044226329800704  2015-11-16 00:04:52+00:   \n",
       "2353  666033412701032449  2015-11-15 23:21:54+00:   \n",
       "2354  666029285002620928  2015-11-15 23:05:30+00:   \n",
       "2355  666020888022790149  2015-11-15 22:32:08+00:   \n",
       "\n",
       "                                                 source  \\\n",
       "0     <a href=\"http://twitter.com/download/iphone\" r...   \n",
       "1     <a href=\"http://twitter.com/download/iphone\" r...   \n",
       "2     <a href=\"http://twitter.com/download/iphone\" r...   \n",
       "3     <a href=\"http://twitter.com/download/iphone\" r...   \n",
       "4     <a href=\"http://twitter.com/download/iphone\" r...   \n",
       "...                                                 ...   \n",
       "2351  <a href=\"http://twitter.com/download/iphone\" r...   \n",
       "2352  <a href=\"http://twitter.com/download/iphone\" r...   \n",
       "2353  <a href=\"http://twitter.com/download/iphone\" r...   \n",
       "2354  <a href=\"http://twitter.com/download/iphone\" r...   \n",
       "2355  <a href=\"http://twitter.com/download/iphone\" r...   \n",
       "\n",
       "                                                   text  rating      name  \\\n",
       "0     This is Phineas. He's a mystical boy. Only eve...    13.0   Phineas   \n",
       "1     This is Tilly. She's just checking pup on you....    13.0     Tilly   \n",
       "2     This is Archie. He is a rare Norwegian Pouncin...    12.0    Archie   \n",
       "3     This is Darla. She commenced a snooze mid meal...    13.0     Darla   \n",
       "4     This is Franklin. He would like you to stop ca...    12.0  Franklin   \n",
       "...                                                 ...     ...       ...   \n",
       "2351  Here we have a 1949 1st generation vulpix. Enj...     5.0       NaN   \n",
       "2352  This is a purebred Piers Morgan. Loves to Netf...     6.0       NaN   \n",
       "2353  Here is a very happy pup. Big fan of well-main...     9.0       NaN   \n",
       "2354  This is a western brown Mitsubishi terrier. Up...     7.0       NaN   \n",
       "2355  Here we have a Japanese Irish Setter. Lost eye...     8.0       NaN   \n",
       "\n",
       "     dog_stages  \n",
       "0           NaN  \n",
       "1           NaN  \n",
       "2           NaN  \n",
       "3           NaN  \n",
       "4           NaN  \n",
       "...         ...  \n",
       "2351        NaN  \n",
       "2352        NaN  \n",
       "2353        NaN  \n",
       "2354        NaN  \n",
       "2355        NaN  \n",
       "\n",
       "[2097 rows x 7 columns]"
      ]
     },
     "execution_count": 196,
     "metadata": {},
     "output_type": "execute_result"
    }
   ],
   "source": [
    "twitter_archive_clean"
   ]
  },
  {
   "cell_type": "markdown",
   "metadata": {},
   "source": [
    "* Define\n",
    "> Check in the text column to determine dog sex"
   ]
  },
  {
   "cell_type": "markdown",
   "metadata": {},
   "source": [
    "* Code"
   ]
  },
  {
   "cell_type": "code",
   "execution_count": 197,
   "metadata": {},
   "outputs": [
    {
     "name": "stdout",
     "output_type": "stream",
     "text": [
      "['male', 'female', 'male', 'female', 'male', 'NaN', 'male', 'NaN', 'female', 'female', 'male', 'male', 'NaN', 'male', 'male', 'male', 'male', 'male', 'male', 'male', 'male', 'NaN', 'female', 'NaN', 'NaN', 'female', 'male', 'male', 'NaN', 'NaN', 'male', 'female', 'male', 'NaN', 'male', 'female', 'male', 'NaN', 'NaN', 'male', 'male', 'female', 'male', 'NaN', 'male', 'male', 'male', 'male', 'female', 'male', 'male', 'NaN', 'male', 'male', 'NaN', 'female', 'male', 'NaN', 'male', 'male', 'male', 'male', 'male', 'male', 'male', 'NaN', 'male', 'female', 'female', 'NaN', 'male', 'male', 'NaN', 'NaN', 'male', 'female', 'male', 'NaN', 'NaN', 'NaN', 'male', 'male', 'NaN', 'male', 'NaN', 'female', 'male', 'NaN', 'female', 'NaN', 'NaN', 'male', 'female', 'male', 'male', 'NaN', 'male', 'NaN', 'male', 'female', 'male', 'male', 'male', 'male', 'male', 'NaN', 'male', 'NaN', 'NaN', 'NaN', 'male', 'female', 'NaN', 'male', 'female', 'male', 'female', 'male', 'NaN', 'male', 'NaN', 'male', 'female', 'male', 'male', 'NaN', 'female', 'NaN', 'male', 'male', 'NaN', 'male', 'NaN', 'male', 'male', 'male', 'male', 'NaN', 'female', 'male', 'female', 'NaN', 'NaN', 'NaN', 'female', 'male', 'female', 'male', 'NaN', 'NaN', 'male', 'female', 'NaN', 'NaN', 'female', 'NaN', 'NaN', 'female', 'female', 'male', 'NaN', 'NaN', 'female', 'male', 'NaN', 'male', 'NaN', 'male', 'female', 'male', 'male', 'NaN', 'male', 'male', 'male', 'male', 'male', 'male', 'NaN', 'male', 'NaN', 'male', 'NaN', 'male', 'male', 'male', 'male', 'male', 'male', 'NaN', 'NaN', 'male', 'male', 'NaN', 'male', 'NaN', 'NaN', 'NaN', 'NaN', 'female', 'female', 'male', 'female', 'male', 'female', 'NaN', 'NaN', 'male', 'female', 'male', 'female', 'female', 'male', 'male', 'female', 'NaN', 'NaN', 'male', 'female', 'male', 'NaN', 'male', 'male', 'male', 'male', 'male', 'NaN', 'male', 'NaN', 'male', 'female', 'NaN', 'male', 'male', 'female', 'male', 'male', 'female', 'male', 'female', 'female', 'male', 'male', 'male', 'female', 'NaN', 'NaN', 'male', 'female', 'NaN', 'NaN', 'male', 'female', 'NaN', 'male', 'male', 'female', 'female', 'female', 'NaN', 'male', 'NaN', 'NaN', 'NaN', 'male', 'female', 'male', 'male', 'male', 'male', 'male', 'female', 'male', 'male', 'male', 'NaN', 'male', 'male', 'male', 'female', 'male', 'female', 'male', 'female', 'NaN', 'male', 'male', 'male', 'NaN', 'NaN', 'male', 'male', 'male', 'female', 'male', 'NaN', 'male', 'NaN', 'female', 'female', 'male', 'male', 'male', 'male', 'male', 'male', 'male', 'NaN', 'NaN', 'male', 'male', 'male', 'female', 'female', 'male', 'male', 'male', 'NaN', 'female', 'NaN', 'male', 'male', 'male', 'male', 'male', 'NaN', 'male', 'NaN', 'female', 'male', 'NaN', 'male', 'female', 'male', 'male', 'male', 'male', 'male', 'male', 'NaN', 'NaN', 'NaN', 'male', 'male', 'male', 'female', 'NaN', 'NaN', 'male', 'female', 'male', 'male', 'male', 'male', 'male', 'female', 'male', 'male', 'NaN', 'NaN', 'NaN', 'male', 'male', 'NaN', 'female', 'male', 'female', 'male', 'male', 'male', 'male', 'NaN', 'male', 'NaN', 'NaN', 'male', 'NaN', 'male', 'male', 'male', 'NaN', 'female', 'male', 'NaN', 'NaN', 'female', 'female', 'female', 'NaN', 'male', 'male', 'male', 'male', 'male', 'male', 'NaN', 'male', 'female', 'male', 'male', 'female', 'male', 'male', 'female', 'male', 'male', 'male', 'male', 'NaN', 'NaN', 'male', 'male', 'NaN', 'NaN', 'male', 'male', 'NaN', 'male', 'male', 'male', 'male', 'NaN', 'NaN', 'male', 'NaN', 'male', 'male', 'male', 'NaN', 'male', 'male', 'NaN', 'male', 'male', 'NaN', 'male', 'NaN', 'NaN', 'female', 'female', 'male', 'NaN', 'male', 'NaN', 'NaN', 'NaN', 'male', 'NaN', 'NaN', 'NaN', 'male', 'NaN', 'NaN', 'NaN', 'male', 'male', 'male', 'male', 'male', 'male', 'male', 'female', 'female', 'male', 'male', 'NaN', 'male', 'female', 'NaN', 'NaN', 'male', 'NaN', 'NaN', 'male', 'female', 'male', 'male', 'female', 'NaN', 'male', 'female', 'NaN', 'male', 'male', 'NaN', 'male', 'female', 'NaN', 'female', 'male', 'male', 'NaN', 'NaN', 'female', 'NaN', 'NaN', 'male', 'female', 'male', 'NaN', 'female', 'male', 'NaN', 'female', 'NaN', 'male', 'male', 'female', 'male', 'male', 'NaN', 'male', 'NaN', 'female', 'NaN', 'NaN', 'male', 'female', 'female', 'male', 'male', 'male', 'NaN', 'male', 'female', 'male', 'male', 'male', 'male', 'NaN', 'male', 'male', 'male', 'NaN', 'female', 'male', 'male', 'NaN', 'NaN', 'male', 'male', 'male', 'male', 'male', 'male', 'male', 'male', 'female', 'male', 'male', 'male', 'male', 'male', 'female', 'male', 'female', 'male', 'male', 'male', 'NaN', 'NaN', 'NaN', 'NaN', 'male', 'NaN', 'NaN', 'male', 'male', 'male', 'NaN', 'male', 'NaN', 'male', 'male', 'NaN', 'male', 'NaN', 'male', 'NaN', 'NaN', 'male', 'NaN', 'NaN', 'NaN', 'male', 'NaN', 'NaN', 'male', 'NaN', 'male', 'male', 'male', 'male', 'male', 'male', 'male', 'NaN', 'male', 'male', 'male', 'male', 'male', 'male', 'NaN', 'male', 'NaN', 'female', 'male', 'male', 'male', 'female', 'female', 'male', 'male', 'NaN', 'male', 'NaN', 'male', 'NaN', 'male', 'male', 'NaN', 'NaN', 'NaN', 'male', 'female', 'female', 'male', 'NaN', 'male', 'male', 'NaN', 'male', 'NaN', 'male', 'male', 'male', 'male', 'NaN', 'male', 'male', 'NaN', 'male', 'male', 'male', 'male', 'male', 'NaN', 'male', 'male', 'male', 'female', 'male', 'female', 'female', 'male', 'NaN', 'female', 'male', 'male', 'male', 'female', 'male', 'male', 'NaN', 'NaN', 'NaN', 'male', 'male', 'NaN', 'female', 'NaN', 'NaN', 'female', 'male', 'male', 'male', 'NaN', 'male', 'NaN', 'male', 'male', 'NaN', 'male', 'male', 'female', 'NaN', 'NaN', 'male', 'NaN', 'female', 'male', 'male', 'NaN', 'male', 'male', 'NaN', 'female', 'male', 'male', 'NaN', 'male', 'male', 'NaN', 'NaN', 'male', 'male', 'male', 'NaN', 'female', 'male', 'male', 'male', 'male', 'male', 'NaN', 'NaN', 'male', 'NaN', 'NaN', 'NaN', 'male', 'NaN', 'male', 'male', 'male', 'NaN', 'male', 'NaN', 'NaN', 'NaN', 'male', 'male', 'NaN', 'NaN', 'male', 'NaN', 'NaN', 'NaN', 'NaN', 'NaN', 'NaN', 'male', 'NaN', 'female', 'male', 'male', 'male', 'NaN', 'female', 'NaN', 'male', 'female', 'male', 'male', 'male', 'male', 'male', 'female', 'NaN', 'male', 'male', 'female', 'male', 'NaN', 'male', 'male', 'NaN', 'NaN', 'male', 'male', 'NaN', 'male', 'NaN', 'male', 'male', 'male', 'male', 'male', 'NaN', 'NaN', 'NaN', 'male', 'male', 'female', 'female', 'NaN', 'NaN', 'male', 'NaN', 'NaN', 'NaN', 'NaN', 'NaN', 'male', 'NaN', 'male', 'NaN', 'NaN', 'NaN', 'NaN', 'male', 'male', 'male', 'NaN', 'NaN', 'NaN', 'female', 'NaN', 'NaN', 'female', 'NaN', 'male', 'NaN', 'male', 'male', 'NaN', 'NaN', 'female', 'male', 'male', 'female', 'NaN', 'male', 'female', 'NaN', 'NaN', 'male', 'NaN', 'male', 'male', 'NaN', 'female', 'male', 'NaN', 'NaN', 'NaN', 'male', 'NaN', 'female', 'male', 'male', 'male', 'NaN', 'female', 'male', 'male', 'male', 'NaN', 'male', 'NaN', 'male', 'male', 'female', 'NaN', 'male', 'NaN', 'NaN', 'NaN', 'male', 'NaN', 'male', 'NaN', 'male', 'NaN', 'male', 'NaN', 'female', 'NaN', 'NaN', 'male', 'male', 'male', 'NaN', 'NaN', 'NaN', 'NaN', 'NaN', 'male', 'NaN', 'male', 'NaN', 'NaN', 'male', 'NaN', 'male', 'NaN', 'male', 'male', 'male', 'NaN', 'female', 'NaN', 'male', 'male', 'NaN', 'NaN', 'NaN', 'male', 'male', 'NaN', 'male', 'male', 'male', 'NaN', 'NaN', 'male', 'female', 'female', 'male', 'male', 'male', 'male', 'NaN', 'male', 'NaN', 'male', 'male', 'male', 'female', 'male', 'NaN', 'male', 'NaN', 'NaN', 'male', 'NaN', 'NaN', 'male', 'NaN', 'male', 'male', 'male', 'NaN', 'male', 'NaN', 'NaN', 'NaN', 'male', 'NaN', 'NaN', 'male', 'male', 'male', 'NaN', 'male', 'female', 'female', 'NaN', 'male', 'male', 'male', 'male', 'male', 'NaN', 'male', 'male', 'male', 'male', 'female', 'male', 'male', 'male', 'NaN', 'female', 'female', 'NaN', 'NaN', 'male', 'NaN', 'male', 'NaN', 'male', 'female', 'NaN', 'male', 'NaN', 'male', 'NaN', 'male', 'male', 'male', 'NaN', 'NaN', 'male', 'male', 'female', 'NaN', 'male', 'NaN', 'NaN', 'male', 'male', 'male', 'male', 'male', 'NaN', 'male', 'NaN', 'male', 'NaN', 'male', 'male', 'NaN', 'male', 'NaN', 'male', 'NaN', 'NaN', 'male', 'NaN', 'NaN', 'female', 'NaN', 'NaN', 'NaN', 'male', 'NaN', 'NaN', 'male', 'NaN', 'NaN', 'male', 'NaN', 'male', 'male', 'male', 'NaN', 'NaN', 'male', 'NaN', 'NaN', 'male', 'NaN', 'NaN', 'NaN', 'NaN', 'NaN', 'male', 'NaN', 'male', 'NaN', 'NaN', 'female', 'NaN', 'female', 'male', 'NaN', 'NaN', 'male', 'NaN', 'male', 'NaN', 'male', 'male', 'female', 'NaN', 'male', 'male', 'male', 'female', 'NaN', 'male', 'male', 'female', 'male', 'male', 'male', 'NaN', 'male', 'male', 'male', 'NaN', 'male', 'male', 'NaN', 'male', 'male', 'NaN', 'NaN', 'male', 'male', 'NaN', 'female', 'male', 'NaN', 'male', 'NaN', 'male', 'female', 'NaN', 'male', 'male', 'female', 'NaN', 'male', 'NaN', 'NaN', 'NaN', 'male', 'male', 'NaN', 'NaN', 'NaN', 'female', 'male', 'male', 'NaN', 'female', 'NaN', 'male', 'NaN', 'female', 'male', 'male', 'male', 'male', 'male', 'male', 'NaN', 'NaN', 'male', 'NaN', 'NaN', 'NaN', 'male', 'male', 'NaN', 'male', 'NaN', 'NaN', 'NaN', 'female', 'male', 'NaN', 'male', 'NaN', 'NaN', 'NaN', 'NaN', 'male', 'NaN', 'NaN', 'NaN', 'female', 'NaN', 'male', 'NaN', 'NaN', 'NaN', 'NaN', 'male', 'male', 'female', 'male', 'male', 'female', 'NaN', 'male', 'NaN', 'male', 'male', 'NaN', 'male', 'NaN', 'male', 'NaN', 'NaN', 'NaN', 'male', 'NaN', 'male', 'male', 'NaN', 'NaN', 'male', 'male', 'male', 'NaN', 'NaN', 'NaN', 'male', 'NaN', 'male', 'male', 'NaN', 'male', 'NaN', 'male', 'female', 'male', 'male', 'male', 'NaN', 'male', 'female', 'male', 'male', 'NaN', 'female', 'NaN', 'male', 'female', 'male', 'NaN', 'NaN', 'NaN', 'male', 'male', 'male', 'NaN', 'male', 'NaN', 'male', 'male', 'NaN', 'NaN', 'NaN', 'NaN', 'male', 'male', 'male', 'NaN', 'NaN', 'male', 'female', 'NaN', 'NaN', 'male', 'NaN', 'male', 'male', 'NaN', 'male', 'NaN', 'male', 'NaN', 'male', 'male', 'male', 'NaN', 'male', 'NaN', 'female', 'male', 'NaN', 'male', 'NaN', 'male', 'NaN', 'female', 'male', 'male', 'female', 'male', 'NaN', 'male', 'male', 'NaN', 'male', 'NaN', 'male', 'NaN', 'male', 'NaN', 'NaN', 'male', 'NaN', 'male', 'male', 'NaN', 'male', 'NaN', 'male', 'male', 'NaN', 'NaN', 'NaN', 'NaN', 'male', 'female', 'NaN', 'female', 'NaN', 'NaN', 'NaN', 'NaN', 'female', 'male', 'NaN', 'male', 'male', 'NaN', 'female', 'male', 'male', 'NaN', 'male', 'male', 'male', 'male', 'NaN', 'male', 'NaN', 'NaN', 'male', 'male', 'NaN', 'male', 'male', 'NaN', 'NaN', 'NaN', 'male', 'NaN', 'male', 'male', 'male', 'male', 'NaN', 'male', 'NaN', 'male', 'NaN', 'male', 'NaN', 'NaN', 'male', 'male', 'female', 'male', 'male', 'NaN', 'NaN', 'male', 'NaN', 'male', 'NaN', 'NaN', 'female', 'male', 'male', 'male', 'NaN', 'male', 'male', 'male', 'male', 'NaN', 'male', 'male', 'male', 'NaN', 'female', 'male', 'NaN', 'NaN', 'NaN', 'NaN', 'female', 'male', 'male', 'male', 'male', 'NaN', 'NaN', 'male', 'NaN', 'NaN', 'male', 'female', 'NaN', 'male', 'male', 'male', 'male', 'NaN', 'NaN', 'NaN', 'male', 'NaN', 'male', 'male', 'male', 'male', 'male', 'NaN', 'NaN', 'NaN', 'male', 'NaN', 'NaN', 'male', 'NaN', 'male', 'male', 'NaN', 'male', 'male', 'female', 'NaN', 'male', 'NaN', 'female', 'NaN', 'NaN', 'female', 'female', 'male', 'male', 'NaN', 'NaN', 'male', 'male', 'NaN', 'male', 'male', 'NaN', 'NaN', 'male', 'NaN', 'NaN', 'male', 'NaN', 'NaN', 'female', 'male', 'NaN', 'male', 'NaN', 'NaN', 'NaN', 'NaN', 'male', 'male', 'male', 'male', 'male', 'male', 'NaN', 'NaN', 'NaN', 'male', 'NaN', 'male', 'male', 'male', 'male', 'male', 'NaN', 'male', 'NaN', 'male', 'male', 'male', 'NaN', 'male', 'male', 'male', 'NaN', 'male', 'NaN', 'male', 'NaN', 'NaN', 'male', 'female', 'NaN', 'NaN', 'male', 'male', 'male', 'female', 'male', 'NaN', 'male', 'NaN', 'NaN', 'NaN', 'NaN', 'NaN', 'male', 'male', 'male', 'male', 'female', 'NaN', 'NaN', 'male', 'NaN', 'male', 'NaN', 'male', 'male', 'NaN', 'NaN', 'NaN', 'male', 'male', 'NaN', 'NaN', 'male', 'male', 'female', 'male', 'NaN', 'male', 'NaN', 'male', 'NaN', 'male', 'NaN', 'male', 'NaN', 'female', 'NaN', 'female', 'male', 'female', 'male', 'male', 'male', 'male', 'NaN', 'male', 'NaN', 'NaN', 'male', 'NaN', 'NaN', 'female', 'male', 'NaN', 'female', 'NaN', 'female', 'male', 'female', 'NaN', 'NaN', 'NaN', 'male', 'female', 'female', 'NaN', 'NaN', 'NaN', 'male', 'NaN', 'NaN', 'NaN', 'male', 'NaN', 'NaN', 'male', 'male', 'NaN', 'male', 'NaN', 'male', 'NaN', 'male', 'NaN', 'male', 'male', 'NaN', 'NaN', 'NaN', 'NaN', 'NaN', 'male', 'NaN', 'NaN', 'NaN', 'NaN', 'NaN', 'NaN', 'NaN', 'male', 'NaN', 'male', 'male', 'NaN', 'NaN', 'male', 'NaN', 'NaN', 'male', 'male', 'male', 'male', 'male', 'NaN', 'male', 'NaN', 'male', 'NaN', 'NaN', 'NaN', 'male', 'male', 'NaN', 'NaN', 'female', 'NaN', 'NaN', 'male', 'male', 'NaN', 'male', 'NaN', 'NaN', 'NaN', 'male', 'NaN', 'male', 'male', 'NaN', 'NaN', 'NaN', 'NaN', 'female', 'NaN', 'NaN', 'male', 'NaN', 'NaN', 'male', 'male', 'NaN', 'male', 'male', 'male', 'NaN', 'NaN', 'male', 'female', 'NaN', 'NaN', 'male', 'NaN', 'NaN', 'NaN', 'male', 'female', 'NaN', 'NaN', 'female', 'NaN', 'male', 'male', 'male', 'male', 'NaN', 'NaN', 'NaN', 'NaN', 'male', 'NaN', 'female', 'female', 'male', 'male', 'male', 'male', 'male', 'NaN', 'male', 'NaN', 'male', 'male', 'male', 'male', 'female', 'male', 'male', 'male', 'female', 'NaN', 'NaN', 'NaN', 'female', 'NaN', 'female', 'male', 'male', 'NaN', 'male', 'NaN', 'NaN', 'NaN', 'NaN', 'NaN', 'female', 'male', 'male', 'NaN', 'NaN', 'NaN', 'male', 'male', 'NaN', 'NaN', 'male', 'NaN', 'male', 'female', 'NaN', 'NaN', 'male', 'male', 'NaN', 'NaN', 'NaN', 'male', 'NaN', 'male', 'male', 'NaN', 'NaN', 'NaN', 'NaN', 'male', 'male', 'female', 'male', 'male', 'male', 'NaN', 'male', 'male', 'male', 'male', 'male', 'NaN', 'NaN', 'male', 'male', 'male', 'male', 'NaN', 'NaN', 'NaN', 'NaN', 'male', 'male', 'NaN', 'male', 'female', 'female', 'NaN', 'female', 'male', 'NaN', 'male', 'NaN', 'male', 'NaN', 'male', 'NaN', 'male', 'male', 'male', 'male', 'male', 'male', 'male', 'NaN', 'NaN', 'male', 'male', 'male', 'female', 'male', 'male', 'male', 'female', 'male', 'NaN', 'male', 'NaN', 'male', 'NaN', 'male', 'male', 'NaN', 'female', 'NaN', 'male', 'male', 'male', 'NaN', 'male', 'male', 'male', 'male', 'male', 'male', 'male', 'male', 'female', 'NaN', 'male', 'female', 'male', 'female', 'male', 'male', 'male', 'NaN', 'male', 'male', 'NaN', 'NaN', 'NaN', 'NaN', 'male', 'NaN', 'male', 'male', 'NaN', 'NaN', 'male', 'NaN', 'male', 'female', 'NaN', 'male', 'NaN', 'male', 'female', 'male', 'male', 'NaN', 'male', 'male', 'NaN', 'male', 'NaN', 'NaN', 'male', 'NaN', 'male', 'NaN', 'male', 'male', 'NaN', 'male', 'male', 'male', 'male', 'male', 'NaN', 'male', 'NaN', 'NaN', 'NaN', 'male', 'male', 'NaN', 'NaN', 'male', 'male', 'NaN', 'NaN', 'male', 'NaN', 'male', 'male', 'male', 'male', 'female', 'NaN', 'male', 'NaN', 'male', 'NaN', 'male', 'NaN', 'male', 'male', 'male', 'male', 'male', 'NaN', 'NaN', 'NaN', 'male', 'NaN', 'NaN', 'male', 'male', 'NaN', 'male', 'male', 'male', 'NaN', 'male', 'male', 'NaN', 'NaN', 'NaN', 'male', 'NaN', 'female', 'male', 'male', 'NaN', 'NaN', 'male', 'male', 'NaN', 'NaN', 'NaN', 'NaN', 'male', 'male', 'female', 'male', 'male', 'male', 'male', 'NaN', 'NaN', 'male', 'male', 'NaN', 'male', 'male', 'NaN', 'NaN', 'NaN', 'male', 'male', 'male', 'NaN', 'male', 'male', 'male', 'female', 'NaN', 'male', 'NaN', 'male', 'male', 'NaN', 'NaN', 'male', 'NaN', 'male', 'male', 'male', 'NaN', 'male', 'NaN', 'NaN', 'NaN', 'male', 'male', 'NaN', 'male', 'male', 'NaN', 'NaN', 'NaN', 'female', 'female', 'NaN', 'male', 'NaN', 'NaN', 'male', 'NaN', 'male', 'male', 'NaN', 'NaN', 'NaN', 'NaN', 'NaN', 'NaN', 'NaN', 'male', 'NaN', 'male', 'male', 'NaN', 'female', 'male', 'NaN', 'male', 'NaN', 'male', 'NaN', 'NaN', 'male', 'NaN', 'NaN', 'NaN', 'female', 'male', 'male', 'NaN', 'NaN', 'male', 'NaN', 'NaN', 'NaN', 'male', 'NaN', 'male', 'NaN', 'NaN', 'NaN', 'NaN', 'male', 'NaN', 'NaN', 'NaN', 'NaN', 'NaN', 'NaN', 'male', 'NaN', 'female', 'male', 'NaN', 'NaN', 'male', 'NaN', 'NaN', 'male', 'male', 'NaN', 'male', 'male', 'male', 'male', 'male', 'male', 'NaN', 'male', 'NaN', 'male', 'male', 'NaN', 'NaN', 'NaN', 'NaN', 'male', 'male', 'NaN', 'NaN', 'male', 'male', 'NaN', 'male', 'NaN', 'male', 'male', 'female', 'NaN', 'NaN', 'NaN', 'NaN', 'NaN', 'male', 'NaN', 'NaN', 'NaN', 'NaN', 'NaN', 'NaN', 'NaN', 'NaN', 'male', 'NaN', 'NaN', 'NaN', 'NaN', 'NaN', 'NaN', 'NaN', 'male', 'NaN', 'NaN', 'NaN', 'male', 'NaN', 'NaN', 'NaN', 'NaN', 'NaN', 'male', 'NaN', 'NaN', 'NaN']\n"
     ]
    }
   ],
   "source": [
    "# In next cleaning section of the twitter archive data, we check for sex in text column \n",
    "# searching for she and he pronouns\n",
    "male_dogs = ['He', \"He's\", 'he', 'him', 'his', \"he's\", 'himself']\n",
    "female_dogs = ['She', 'she', 'her', 'hers', 'herself', \"she's\"]\n",
    "sex = []\n",
    "def check(male_dogs, female_dogs):\n",
    "    \n",
    "    for text in twitter_archive_clean['text']:\n",
    "        if any(map(lambda x:x in male_dogs, text.split())):\n",
    "            sex.append('male')\n",
    "        elif any(map(lambda x:x in female_dogs, text.split())):\n",
    "            sex.append('female')\n",
    "        else:\n",
    "            sex.append('NaN')\n",
    "                          \n",
    "    return sex\n",
    "print(check(male_dogs,female_dogs))"
   ]
  },
  {
   "cell_type": "code",
   "execution_count": 198,
   "metadata": {},
   "outputs": [],
   "source": [
    "# We now create a new colunm for our data set and name it dog_sex\n",
    "twitter_archive_clean['dog_sex'] = sex\n"
   ]
  },
  {
   "cell_type": "markdown",
   "metadata": {},
   "source": [
    "* Test"
   ]
  },
  {
   "cell_type": "code",
   "execution_count": 199,
   "metadata": {},
   "outputs": [
    {
     "data": {
      "text/html": [
       "<div>\n",
       "<style scoped>\n",
       "    .dataframe tbody tr th:only-of-type {\n",
       "        vertical-align: middle;\n",
       "    }\n",
       "\n",
       "    .dataframe tbody tr th {\n",
       "        vertical-align: top;\n",
       "    }\n",
       "\n",
       "    .dataframe thead th {\n",
       "        text-align: right;\n",
       "    }\n",
       "</style>\n",
       "<table border=\"1\" class=\"dataframe\">\n",
       "  <thead>\n",
       "    <tr style=\"text-align: right;\">\n",
       "      <th></th>\n",
       "      <th>tweet_id</th>\n",
       "      <th>timestamp</th>\n",
       "      <th>source</th>\n",
       "      <th>text</th>\n",
       "      <th>rating</th>\n",
       "      <th>name</th>\n",
       "      <th>dog_stages</th>\n",
       "      <th>dog_sex</th>\n",
       "    </tr>\n",
       "  </thead>\n",
       "  <tbody>\n",
       "    <tr>\n",
       "      <th>0</th>\n",
       "      <td>892420643555336193</td>\n",
       "      <td>2017-08-01 16:23:56+00:</td>\n",
       "      <td>&lt;a href=\"http://twitter.com/download/iphone\" r...</td>\n",
       "      <td>This is Phineas. He's a mystical boy. Only eve...</td>\n",
       "      <td>13.0</td>\n",
       "      <td>Phineas</td>\n",
       "      <td>NaN</td>\n",
       "      <td>male</td>\n",
       "    </tr>\n",
       "    <tr>\n",
       "      <th>1</th>\n",
       "      <td>892177421306343426</td>\n",
       "      <td>2017-08-01 00:17:27+00:</td>\n",
       "      <td>&lt;a href=\"http://twitter.com/download/iphone\" r...</td>\n",
       "      <td>This is Tilly. She's just checking pup on you....</td>\n",
       "      <td>13.0</td>\n",
       "      <td>Tilly</td>\n",
       "      <td>NaN</td>\n",
       "      <td>female</td>\n",
       "    </tr>\n",
       "    <tr>\n",
       "      <th>2</th>\n",
       "      <td>891815181378084864</td>\n",
       "      <td>2017-07-31 00:18:03+00:</td>\n",
       "      <td>&lt;a href=\"http://twitter.com/download/iphone\" r...</td>\n",
       "      <td>This is Archie. He is a rare Norwegian Pouncin...</td>\n",
       "      <td>12.0</td>\n",
       "      <td>Archie</td>\n",
       "      <td>NaN</td>\n",
       "      <td>male</td>\n",
       "    </tr>\n",
       "    <tr>\n",
       "      <th>3</th>\n",
       "      <td>891689557279858688</td>\n",
       "      <td>2017-07-30 15:58:51+00:</td>\n",
       "      <td>&lt;a href=\"http://twitter.com/download/iphone\" r...</td>\n",
       "      <td>This is Darla. She commenced a snooze mid meal...</td>\n",
       "      <td>13.0</td>\n",
       "      <td>Darla</td>\n",
       "      <td>NaN</td>\n",
       "      <td>female</td>\n",
       "    </tr>\n",
       "    <tr>\n",
       "      <th>4</th>\n",
       "      <td>891327558926688256</td>\n",
       "      <td>2017-07-29 16:00:24+00:</td>\n",
       "      <td>&lt;a href=\"http://twitter.com/download/iphone\" r...</td>\n",
       "      <td>This is Franklin. He would like you to stop ca...</td>\n",
       "      <td>12.0</td>\n",
       "      <td>Franklin</td>\n",
       "      <td>NaN</td>\n",
       "      <td>male</td>\n",
       "    </tr>\n",
       "    <tr>\n",
       "      <th>...</th>\n",
       "      <td>...</td>\n",
       "      <td>...</td>\n",
       "      <td>...</td>\n",
       "      <td>...</td>\n",
       "      <td>...</td>\n",
       "      <td>...</td>\n",
       "      <td>...</td>\n",
       "      <td>...</td>\n",
       "    </tr>\n",
       "    <tr>\n",
       "      <th>2351</th>\n",
       "      <td>666049248165822465</td>\n",
       "      <td>2015-11-16 00:24:50+00:</td>\n",
       "      <td>&lt;a href=\"http://twitter.com/download/iphone\" r...</td>\n",
       "      <td>Here we have a 1949 1st generation vulpix. Enj...</td>\n",
       "      <td>5.0</td>\n",
       "      <td>NaN</td>\n",
       "      <td>NaN</td>\n",
       "      <td>NaN</td>\n",
       "    </tr>\n",
       "    <tr>\n",
       "      <th>2352</th>\n",
       "      <td>666044226329800704</td>\n",
       "      <td>2015-11-16 00:04:52+00:</td>\n",
       "      <td>&lt;a href=\"http://twitter.com/download/iphone\" r...</td>\n",
       "      <td>This is a purebred Piers Morgan. Loves to Netf...</td>\n",
       "      <td>6.0</td>\n",
       "      <td>NaN</td>\n",
       "      <td>NaN</td>\n",
       "      <td>male</td>\n",
       "    </tr>\n",
       "    <tr>\n",
       "      <th>2353</th>\n",
       "      <td>666033412701032449</td>\n",
       "      <td>2015-11-15 23:21:54+00:</td>\n",
       "      <td>&lt;a href=\"http://twitter.com/download/iphone\" r...</td>\n",
       "      <td>Here is a very happy pup. Big fan of well-main...</td>\n",
       "      <td>9.0</td>\n",
       "      <td>NaN</td>\n",
       "      <td>NaN</td>\n",
       "      <td>NaN</td>\n",
       "    </tr>\n",
       "    <tr>\n",
       "      <th>2354</th>\n",
       "      <td>666029285002620928</td>\n",
       "      <td>2015-11-15 23:05:30+00:</td>\n",
       "      <td>&lt;a href=\"http://twitter.com/download/iphone\" r...</td>\n",
       "      <td>This is a western brown Mitsubishi terrier. Up...</td>\n",
       "      <td>7.0</td>\n",
       "      <td>NaN</td>\n",
       "      <td>NaN</td>\n",
       "      <td>NaN</td>\n",
       "    </tr>\n",
       "    <tr>\n",
       "      <th>2355</th>\n",
       "      <td>666020888022790149</td>\n",
       "      <td>2015-11-15 22:32:08+00:</td>\n",
       "      <td>&lt;a href=\"http://twitter.com/download/iphone\" r...</td>\n",
       "      <td>Here we have a Japanese Irish Setter. Lost eye...</td>\n",
       "      <td>8.0</td>\n",
       "      <td>NaN</td>\n",
       "      <td>NaN</td>\n",
       "      <td>NaN</td>\n",
       "    </tr>\n",
       "  </tbody>\n",
       "</table>\n",
       "<p>2097 rows × 8 columns</p>\n",
       "</div>"
      ],
      "text/plain": [
       "                tweet_id                timestamp  \\\n",
       "0     892420643555336193  2017-08-01 16:23:56+00:   \n",
       "1     892177421306343426  2017-08-01 00:17:27+00:   \n",
       "2     891815181378084864  2017-07-31 00:18:03+00:   \n",
       "3     891689557279858688  2017-07-30 15:58:51+00:   \n",
       "4     891327558926688256  2017-07-29 16:00:24+00:   \n",
       "...                  ...                      ...   \n",
       "2351  666049248165822465  2015-11-16 00:24:50+00:   \n",
       "2352  666044226329800704  2015-11-16 00:04:52+00:   \n",
       "2353  666033412701032449  2015-11-15 23:21:54+00:   \n",
       "2354  666029285002620928  2015-11-15 23:05:30+00:   \n",
       "2355  666020888022790149  2015-11-15 22:32:08+00:   \n",
       "\n",
       "                                                 source  \\\n",
       "0     <a href=\"http://twitter.com/download/iphone\" r...   \n",
       "1     <a href=\"http://twitter.com/download/iphone\" r...   \n",
       "2     <a href=\"http://twitter.com/download/iphone\" r...   \n",
       "3     <a href=\"http://twitter.com/download/iphone\" r...   \n",
       "4     <a href=\"http://twitter.com/download/iphone\" r...   \n",
       "...                                                 ...   \n",
       "2351  <a href=\"http://twitter.com/download/iphone\" r...   \n",
       "2352  <a href=\"http://twitter.com/download/iphone\" r...   \n",
       "2353  <a href=\"http://twitter.com/download/iphone\" r...   \n",
       "2354  <a href=\"http://twitter.com/download/iphone\" r...   \n",
       "2355  <a href=\"http://twitter.com/download/iphone\" r...   \n",
       "\n",
       "                                                   text  rating      name  \\\n",
       "0     This is Phineas. He's a mystical boy. Only eve...    13.0   Phineas   \n",
       "1     This is Tilly. She's just checking pup on you....    13.0     Tilly   \n",
       "2     This is Archie. He is a rare Norwegian Pouncin...    12.0    Archie   \n",
       "3     This is Darla. She commenced a snooze mid meal...    13.0     Darla   \n",
       "4     This is Franklin. He would like you to stop ca...    12.0  Franklin   \n",
       "...                                                 ...     ...       ...   \n",
       "2351  Here we have a 1949 1st generation vulpix. Enj...     5.0       NaN   \n",
       "2352  This is a purebred Piers Morgan. Loves to Netf...     6.0       NaN   \n",
       "2353  Here is a very happy pup. Big fan of well-main...     9.0       NaN   \n",
       "2354  This is a western brown Mitsubishi terrier. Up...     7.0       NaN   \n",
       "2355  Here we have a Japanese Irish Setter. Lost eye...     8.0       NaN   \n",
       "\n",
       "     dog_stages dog_sex  \n",
       "0           NaN    male  \n",
       "1           NaN  female  \n",
       "2           NaN    male  \n",
       "3           NaN  female  \n",
       "4           NaN    male  \n",
       "...         ...     ...  \n",
       "2351        NaN     NaN  \n",
       "2352        NaN    male  \n",
       "2353        NaN     NaN  \n",
       "2354        NaN     NaN  \n",
       "2355        NaN     NaN  \n",
       "\n",
       "[2097 rows x 8 columns]"
      ]
     },
     "execution_count": 199,
     "metadata": {},
     "output_type": "execute_result"
    }
   ],
   "source": [
    "twitter_archive_clean"
   ]
  },
  {
   "cell_type": "markdown",
   "metadata": {},
   "source": [
    "* Define\n",
    "> Drop Source Column"
   ]
  },
  {
   "cell_type": "markdown",
   "metadata": {},
   "source": [
    "* Code"
   ]
  },
  {
   "cell_type": "code",
   "execution_count": 200,
   "metadata": {},
   "outputs": [],
   "source": [
    "# Next in our data quality issues is to drop the messy source column using the drop() function\n",
    "twitter_archive_clean.drop(columns='source', axis = 1, inplace=True)"
   ]
  },
  {
   "cell_type": "markdown",
   "metadata": {},
   "source": [
    "* Test"
   ]
  },
  {
   "cell_type": "code",
   "execution_count": 201,
   "metadata": {},
   "outputs": [
    {
     "data": {
      "text/html": [
       "<div>\n",
       "<style scoped>\n",
       "    .dataframe tbody tr th:only-of-type {\n",
       "        vertical-align: middle;\n",
       "    }\n",
       "\n",
       "    .dataframe tbody tr th {\n",
       "        vertical-align: top;\n",
       "    }\n",
       "\n",
       "    .dataframe thead th {\n",
       "        text-align: right;\n",
       "    }\n",
       "</style>\n",
       "<table border=\"1\" class=\"dataframe\">\n",
       "  <thead>\n",
       "    <tr style=\"text-align: right;\">\n",
       "      <th></th>\n",
       "      <th>tweet_id</th>\n",
       "      <th>timestamp</th>\n",
       "      <th>text</th>\n",
       "      <th>rating</th>\n",
       "      <th>name</th>\n",
       "      <th>dog_stages</th>\n",
       "      <th>dog_sex</th>\n",
       "    </tr>\n",
       "  </thead>\n",
       "  <tbody>\n",
       "    <tr>\n",
       "      <th>0</th>\n",
       "      <td>892420643555336193</td>\n",
       "      <td>2017-08-01 16:23:56+00:</td>\n",
       "      <td>This is Phineas. He's a mystical boy. Only eve...</td>\n",
       "      <td>13.0</td>\n",
       "      <td>Phineas</td>\n",
       "      <td>NaN</td>\n",
       "      <td>male</td>\n",
       "    </tr>\n",
       "    <tr>\n",
       "      <th>1</th>\n",
       "      <td>892177421306343426</td>\n",
       "      <td>2017-08-01 00:17:27+00:</td>\n",
       "      <td>This is Tilly. She's just checking pup on you....</td>\n",
       "      <td>13.0</td>\n",
       "      <td>Tilly</td>\n",
       "      <td>NaN</td>\n",
       "      <td>female</td>\n",
       "    </tr>\n",
       "    <tr>\n",
       "      <th>2</th>\n",
       "      <td>891815181378084864</td>\n",
       "      <td>2017-07-31 00:18:03+00:</td>\n",
       "      <td>This is Archie. He is a rare Norwegian Pouncin...</td>\n",
       "      <td>12.0</td>\n",
       "      <td>Archie</td>\n",
       "      <td>NaN</td>\n",
       "      <td>male</td>\n",
       "    </tr>\n",
       "    <tr>\n",
       "      <th>3</th>\n",
       "      <td>891689557279858688</td>\n",
       "      <td>2017-07-30 15:58:51+00:</td>\n",
       "      <td>This is Darla. She commenced a snooze mid meal...</td>\n",
       "      <td>13.0</td>\n",
       "      <td>Darla</td>\n",
       "      <td>NaN</td>\n",
       "      <td>female</td>\n",
       "    </tr>\n",
       "    <tr>\n",
       "      <th>4</th>\n",
       "      <td>891327558926688256</td>\n",
       "      <td>2017-07-29 16:00:24+00:</td>\n",
       "      <td>This is Franklin. He would like you to stop ca...</td>\n",
       "      <td>12.0</td>\n",
       "      <td>Franklin</td>\n",
       "      <td>NaN</td>\n",
       "      <td>male</td>\n",
       "    </tr>\n",
       "    <tr>\n",
       "      <th>...</th>\n",
       "      <td>...</td>\n",
       "      <td>...</td>\n",
       "      <td>...</td>\n",
       "      <td>...</td>\n",
       "      <td>...</td>\n",
       "      <td>...</td>\n",
       "      <td>...</td>\n",
       "    </tr>\n",
       "    <tr>\n",
       "      <th>2351</th>\n",
       "      <td>666049248165822465</td>\n",
       "      <td>2015-11-16 00:24:50+00:</td>\n",
       "      <td>Here we have a 1949 1st generation vulpix. Enj...</td>\n",
       "      <td>5.0</td>\n",
       "      <td>NaN</td>\n",
       "      <td>NaN</td>\n",
       "      <td>NaN</td>\n",
       "    </tr>\n",
       "    <tr>\n",
       "      <th>2352</th>\n",
       "      <td>666044226329800704</td>\n",
       "      <td>2015-11-16 00:04:52+00:</td>\n",
       "      <td>This is a purebred Piers Morgan. Loves to Netf...</td>\n",
       "      <td>6.0</td>\n",
       "      <td>NaN</td>\n",
       "      <td>NaN</td>\n",
       "      <td>male</td>\n",
       "    </tr>\n",
       "    <tr>\n",
       "      <th>2353</th>\n",
       "      <td>666033412701032449</td>\n",
       "      <td>2015-11-15 23:21:54+00:</td>\n",
       "      <td>Here is a very happy pup. Big fan of well-main...</td>\n",
       "      <td>9.0</td>\n",
       "      <td>NaN</td>\n",
       "      <td>NaN</td>\n",
       "      <td>NaN</td>\n",
       "    </tr>\n",
       "    <tr>\n",
       "      <th>2354</th>\n",
       "      <td>666029285002620928</td>\n",
       "      <td>2015-11-15 23:05:30+00:</td>\n",
       "      <td>This is a western brown Mitsubishi terrier. Up...</td>\n",
       "      <td>7.0</td>\n",
       "      <td>NaN</td>\n",
       "      <td>NaN</td>\n",
       "      <td>NaN</td>\n",
       "    </tr>\n",
       "    <tr>\n",
       "      <th>2355</th>\n",
       "      <td>666020888022790149</td>\n",
       "      <td>2015-11-15 22:32:08+00:</td>\n",
       "      <td>Here we have a Japanese Irish Setter. Lost eye...</td>\n",
       "      <td>8.0</td>\n",
       "      <td>NaN</td>\n",
       "      <td>NaN</td>\n",
       "      <td>NaN</td>\n",
       "    </tr>\n",
       "  </tbody>\n",
       "</table>\n",
       "<p>2097 rows × 7 columns</p>\n",
       "</div>"
      ],
      "text/plain": [
       "                tweet_id                timestamp  \\\n",
       "0     892420643555336193  2017-08-01 16:23:56+00:   \n",
       "1     892177421306343426  2017-08-01 00:17:27+00:   \n",
       "2     891815181378084864  2017-07-31 00:18:03+00:   \n",
       "3     891689557279858688  2017-07-30 15:58:51+00:   \n",
       "4     891327558926688256  2017-07-29 16:00:24+00:   \n",
       "...                  ...                      ...   \n",
       "2351  666049248165822465  2015-11-16 00:24:50+00:   \n",
       "2352  666044226329800704  2015-11-16 00:04:52+00:   \n",
       "2353  666033412701032449  2015-11-15 23:21:54+00:   \n",
       "2354  666029285002620928  2015-11-15 23:05:30+00:   \n",
       "2355  666020888022790149  2015-11-15 22:32:08+00:   \n",
       "\n",
       "                                                   text  rating      name  \\\n",
       "0     This is Phineas. He's a mystical boy. Only eve...    13.0   Phineas   \n",
       "1     This is Tilly. She's just checking pup on you....    13.0     Tilly   \n",
       "2     This is Archie. He is a rare Norwegian Pouncin...    12.0    Archie   \n",
       "3     This is Darla. She commenced a snooze mid meal...    13.0     Darla   \n",
       "4     This is Franklin. He would like you to stop ca...    12.0  Franklin   \n",
       "...                                                 ...     ...       ...   \n",
       "2351  Here we have a 1949 1st generation vulpix. Enj...     5.0       NaN   \n",
       "2352  This is a purebred Piers Morgan. Loves to Netf...     6.0       NaN   \n",
       "2353  Here is a very happy pup. Big fan of well-main...     9.0       NaN   \n",
       "2354  This is a western brown Mitsubishi terrier. Up...     7.0       NaN   \n",
       "2355  Here we have a Japanese Irish Setter. Lost eye...     8.0       NaN   \n",
       "\n",
       "     dog_stages dog_sex  \n",
       "0           NaN    male  \n",
       "1           NaN  female  \n",
       "2           NaN    male  \n",
       "3           NaN  female  \n",
       "4           NaN    male  \n",
       "...         ...     ...  \n",
       "2351        NaN     NaN  \n",
       "2352        NaN    male  \n",
       "2353        NaN     NaN  \n",
       "2354        NaN     NaN  \n",
       "2355        NaN     NaN  \n",
       "\n",
       "[2097 rows x 7 columns]"
      ]
     },
     "execution_count": 201,
     "metadata": {},
     "output_type": "execute_result"
    }
   ],
   "source": [
    "twitter_archive_clean"
   ]
  },
  {
   "cell_type": "code",
   "execution_count": 202,
   "metadata": {},
   "outputs": [
    {
     "name": "stdout",
     "output_type": "stream",
     "text": [
      "tweet_id        object\n",
      "timestamp       object\n",
      "text            object\n",
      "rating         float64\n",
      "name            object\n",
      "dog_stages    category\n",
      "dog_sex         object\n",
      "dtype: object\n"
     ]
    }
   ],
   "source": [
    "print(twitter_archive_clean.dtypes)"
   ]
  },
  {
   "cell_type": "markdown",
   "metadata": {},
   "source": [
    "* Define\n",
    "> Change data of tweet_id to object"
   ]
  },
  {
   "cell_type": "markdown",
   "metadata": {},
   "source": [
    "* Code"
   ]
  },
  {
   "cell_type": "code",
   "execution_count": 203,
   "metadata": {},
   "outputs": [],
   "source": [
    "twitter_archive_clean = twitter_archive_clean.astype({\"tweet_id\": str})"
   ]
  },
  {
   "cell_type": "markdown",
   "metadata": {},
   "source": [
    "* Test"
   ]
  },
  {
   "cell_type": "code",
   "execution_count": 204,
   "metadata": {},
   "outputs": [
    {
     "name": "stdout",
     "output_type": "stream",
     "text": [
      "tweet_id        object\n",
      "timestamp       object\n",
      "text            object\n",
      "rating         float64\n",
      "name            object\n",
      "dog_stages    category\n",
      "dog_sex         object\n",
      "dtype: object\n"
     ]
    }
   ],
   "source": [
    "print(twitter_archive_clean.dtypes)"
   ]
  },
  {
   "cell_type": "markdown",
   "metadata": {},
   "source": [
    "* Define\n",
    "> Change p1, p2, and p3 columns to lowecases"
   ]
  },
  {
   "cell_type": "markdown",
   "metadata": {},
   "source": [
    "* Code"
   ]
  },
  {
   "cell_type": "code",
   "execution_count": 205,
   "metadata": {},
   "outputs": [],
   "source": [
    "#Cleaning and testing the image prediction data set\n",
    "# code learnt from source:https://www.kaggle.com/code/pulleyba/project-data-wrangling/notebook\n",
    "\n",
    "image_prediction_clean['p1'] = image_prediction_clean['p1'].str.lower()\n",
    "image_prediction_clean['p2'] = image_prediction_clean['p2'].str.lower()\n",
    "image_prediction_clean['p3'] = image_prediction_clean['p3'].str.lower()"
   ]
  },
  {
   "cell_type": "markdown",
   "metadata": {},
   "source": [
    "* Test"
   ]
  },
  {
   "cell_type": "code",
   "execution_count": 206,
   "metadata": {},
   "outputs": [
    {
     "name": "stdout",
     "output_type": "stream",
     "text": [
      "tweet_id      int64\n",
      "jpg_url      object\n",
      "img_num       int64\n",
      "p1           object\n",
      "p1_conf     float64\n",
      "p1_dog         bool\n",
      "p2           object\n",
      "p2_conf     float64\n",
      "p2_dog         bool\n",
      "p3           object\n",
      "p3_conf     float64\n",
      "p3_dog         bool\n",
      "dtype: object\n"
     ]
    }
   ],
   "source": [
    "print(image_prediction_clean.dtypes)"
   ]
  },
  {
   "cell_type": "markdown",
   "metadata": {},
   "source": [
    "* Define\n",
    "> Chanege Data type of tweet_id in image_prediction_clean Dataset to object for easy merging"
   ]
  },
  {
   "cell_type": "markdown",
   "metadata": {},
   "source": [
    "* Code"
   ]
  },
  {
   "cell_type": "code",
   "execution_count": 207,
   "metadata": {},
   "outputs": [],
   "source": [
    "image_prediction_clean = image_prediction_clean.astype({\"tweet_id\": str})"
   ]
  },
  {
   "cell_type": "markdown",
   "metadata": {},
   "source": [
    "* Test"
   ]
  },
  {
   "cell_type": "code",
   "execution_count": 208,
   "metadata": {},
   "outputs": [
    {
     "name": "stdout",
     "output_type": "stream",
     "text": [
      "tweet_id     object\n",
      "jpg_url      object\n",
      "img_num       int64\n",
      "p1           object\n",
      "p1_conf     float64\n",
      "p1_dog         bool\n",
      "p2           object\n",
      "p2_conf     float64\n",
      "p2_dog         bool\n",
      "p3           object\n",
      "p3_conf     float64\n",
      "p3_dog         bool\n",
      "dtype: object\n"
     ]
    }
   ],
   "source": [
    "print(image_prediction_clean.dtypes)"
   ]
  },
  {
   "cell_type": "markdown",
   "metadata": {},
   "source": [
    "* Define\n",
    "> Rename column id_str to tweet_id"
   ]
  },
  {
   "cell_type": "markdown",
   "metadata": {},
   "source": [
    "* Code"
   ]
  },
  {
   "cell_type": "code",
   "execution_count": 209,
   "metadata": {},
   "outputs": [],
   "source": [
    "#Last we clean the 3rd data set (tweet_clean) by using rename function to change id_str to tweet_id\n",
    "df_tweet_clean.rename(index=str, columns={\"id_str\": \"tweet_id\"}, inplace=True)"
   ]
  },
  {
   "cell_type": "markdown",
   "metadata": {},
   "source": [
    "* Test"
   ]
  },
  {
   "cell_type": "code",
   "execution_count": 210,
   "metadata": {},
   "outputs": [
    {
     "data": {
      "text/html": [
       "<div>\n",
       "<style scoped>\n",
       "    .dataframe tbody tr th:only-of-type {\n",
       "        vertical-align: middle;\n",
       "    }\n",
       "\n",
       "    .dataframe tbody tr th {\n",
       "        vertical-align: top;\n",
       "    }\n",
       "\n",
       "    .dataframe thead th {\n",
       "        text-align: right;\n",
       "    }\n",
       "</style>\n",
       "<table border=\"1\" class=\"dataframe\">\n",
       "  <thead>\n",
       "    <tr style=\"text-align: right;\">\n",
       "      <th></th>\n",
       "      <th>tweet_id</th>\n",
       "      <th>favorites</th>\n",
       "      <th>retweets</th>\n",
       "    </tr>\n",
       "  </thead>\n",
       "  <tbody>\n",
       "    <tr>\n",
       "      <th>0</th>\n",
       "      <td>892420643555336193</td>\n",
       "      <td>33698</td>\n",
       "      <td>6970</td>\n",
       "    </tr>\n",
       "    <tr>\n",
       "      <th>1</th>\n",
       "      <td>892177421306343426</td>\n",
       "      <td>29228</td>\n",
       "      <td>5273</td>\n",
       "    </tr>\n",
       "    <tr>\n",
       "      <th>2</th>\n",
       "      <td>891815181378084864</td>\n",
       "      <td>21976</td>\n",
       "      <td>3464</td>\n",
       "    </tr>\n",
       "    <tr>\n",
       "      <th>3</th>\n",
       "      <td>891689557279858688</td>\n",
       "      <td>36793</td>\n",
       "      <td>7193</td>\n",
       "    </tr>\n",
       "    <tr>\n",
       "      <th>4</th>\n",
       "      <td>891327558926688256</td>\n",
       "      <td>35184</td>\n",
       "      <td>7718</td>\n",
       "    </tr>\n",
       "    <tr>\n",
       "      <th>...</th>\n",
       "      <td>...</td>\n",
       "      <td>...</td>\n",
       "      <td>...</td>\n",
       "    </tr>\n",
       "    <tr>\n",
       "      <th>2322</th>\n",
       "      <td>666049248165822465</td>\n",
       "      <td>88</td>\n",
       "      <td>36</td>\n",
       "    </tr>\n",
       "    <tr>\n",
       "      <th>2323</th>\n",
       "      <td>666044226329800704</td>\n",
       "      <td>246</td>\n",
       "      <td>115</td>\n",
       "    </tr>\n",
       "    <tr>\n",
       "      <th>2324</th>\n",
       "      <td>666033412701032449</td>\n",
       "      <td>100</td>\n",
       "      <td>36</td>\n",
       "    </tr>\n",
       "    <tr>\n",
       "      <th>2325</th>\n",
       "      <td>666029285002620928</td>\n",
       "      <td>112</td>\n",
       "      <td>39</td>\n",
       "    </tr>\n",
       "    <tr>\n",
       "      <th>2326</th>\n",
       "      <td>666020888022790149</td>\n",
       "      <td>2283</td>\n",
       "      <td>419</td>\n",
       "    </tr>\n",
       "  </tbody>\n",
       "</table>\n",
       "<p>2327 rows × 3 columns</p>\n",
       "</div>"
      ],
      "text/plain": [
       "                tweet_id  favorites  retweets\n",
       "0     892420643555336193      33698      6970\n",
       "1     892177421306343426      29228      5273\n",
       "2     891815181378084864      21976      3464\n",
       "3     891689557279858688      36793      7193\n",
       "4     891327558926688256      35184      7718\n",
       "...                  ...        ...       ...\n",
       "2322  666049248165822465         88        36\n",
       "2323  666044226329800704        246       115\n",
       "2324  666033412701032449        100        36\n",
       "2325  666029285002620928        112        39\n",
       "2326  666020888022790149       2283       419\n",
       "\n",
       "[2327 rows x 3 columns]"
      ]
     },
     "execution_count": 210,
     "metadata": {},
     "output_type": "execute_result"
    }
   ],
   "source": [
    "df_tweet_clean"
   ]
  },
  {
   "cell_type": "code",
   "execution_count": 211,
   "metadata": {},
   "outputs": [
    {
     "name": "stdout",
     "output_type": "stream",
     "text": [
      "tweet_id     int64\n",
      "favorites    int64\n",
      "retweets     int64\n",
      "dtype: object\n"
     ]
    }
   ],
   "source": [
    "print(df_tweet_clean.dtypes)"
   ]
  },
  {
   "cell_type": "code",
   "execution_count": 212,
   "metadata": {},
   "outputs": [],
   "source": [
    "df_tweet_clean = df_tweet_clean.astype({\"tweet_id\": str})"
   ]
  },
  {
   "cell_type": "code",
   "execution_count": 213,
   "metadata": {},
   "outputs": [
    {
     "name": "stdout",
     "output_type": "stream",
     "text": [
      "tweet_id     object\n",
      "favorites     int64\n",
      "retweets      int64\n",
      "dtype: object\n"
     ]
    }
   ],
   "source": [
    "print(df_tweet_clean.dtypes)"
   ]
  },
  {
   "cell_type": "code",
   "execution_count": 214,
   "metadata": {},
   "outputs": [
    {
     "data": {
      "text/html": [
       "<div>\n",
       "<style scoped>\n",
       "    .dataframe tbody tr th:only-of-type {\n",
       "        vertical-align: middle;\n",
       "    }\n",
       "\n",
       "    .dataframe tbody tr th {\n",
       "        vertical-align: top;\n",
       "    }\n",
       "\n",
       "    .dataframe thead th {\n",
       "        text-align: right;\n",
       "    }\n",
       "</style>\n",
       "<table border=\"1\" class=\"dataframe\">\n",
       "  <thead>\n",
       "    <tr style=\"text-align: right;\">\n",
       "      <th></th>\n",
       "      <th>tweet_id</th>\n",
       "      <th>timestamp</th>\n",
       "      <th>text</th>\n",
       "      <th>rating</th>\n",
       "      <th>name</th>\n",
       "      <th>dog_stages</th>\n",
       "      <th>dog_sex</th>\n",
       "      <th>favorites</th>\n",
       "      <th>retweets</th>\n",
       "    </tr>\n",
       "  </thead>\n",
       "  <tbody>\n",
       "    <tr>\n",
       "      <th>0</th>\n",
       "      <td>892420643555336193</td>\n",
       "      <td>2017-08-01 16:23:56+00:</td>\n",
       "      <td>This is Phineas. He's a mystical boy. Only eve...</td>\n",
       "      <td>13.0</td>\n",
       "      <td>Phineas</td>\n",
       "      <td>NaN</td>\n",
       "      <td>male</td>\n",
       "      <td>33698.0</td>\n",
       "      <td>6970.0</td>\n",
       "    </tr>\n",
       "    <tr>\n",
       "      <th>1</th>\n",
       "      <td>892177421306343426</td>\n",
       "      <td>2017-08-01 00:17:27+00:</td>\n",
       "      <td>This is Tilly. She's just checking pup on you....</td>\n",
       "      <td>13.0</td>\n",
       "      <td>Tilly</td>\n",
       "      <td>NaN</td>\n",
       "      <td>female</td>\n",
       "      <td>29228.0</td>\n",
       "      <td>5273.0</td>\n",
       "    </tr>\n",
       "    <tr>\n",
       "      <th>2</th>\n",
       "      <td>891815181378084864</td>\n",
       "      <td>2017-07-31 00:18:03+00:</td>\n",
       "      <td>This is Archie. He is a rare Norwegian Pouncin...</td>\n",
       "      <td>12.0</td>\n",
       "      <td>Archie</td>\n",
       "      <td>NaN</td>\n",
       "      <td>male</td>\n",
       "      <td>21976.0</td>\n",
       "      <td>3464.0</td>\n",
       "    </tr>\n",
       "    <tr>\n",
       "      <th>3</th>\n",
       "      <td>891689557279858688</td>\n",
       "      <td>2017-07-30 15:58:51+00:</td>\n",
       "      <td>This is Darla. She commenced a snooze mid meal...</td>\n",
       "      <td>13.0</td>\n",
       "      <td>Darla</td>\n",
       "      <td>NaN</td>\n",
       "      <td>female</td>\n",
       "      <td>36793.0</td>\n",
       "      <td>7193.0</td>\n",
       "    </tr>\n",
       "    <tr>\n",
       "      <th>4</th>\n",
       "      <td>891327558926688256</td>\n",
       "      <td>2017-07-29 16:00:24+00:</td>\n",
       "      <td>This is Franklin. He would like you to stop ca...</td>\n",
       "      <td>12.0</td>\n",
       "      <td>Franklin</td>\n",
       "      <td>NaN</td>\n",
       "      <td>male</td>\n",
       "      <td>35184.0</td>\n",
       "      <td>7718.0</td>\n",
       "    </tr>\n",
       "    <tr>\n",
       "      <th>...</th>\n",
       "      <td>...</td>\n",
       "      <td>...</td>\n",
       "      <td>...</td>\n",
       "      <td>...</td>\n",
       "      <td>...</td>\n",
       "      <td>...</td>\n",
       "      <td>...</td>\n",
       "      <td>...</td>\n",
       "      <td>...</td>\n",
       "    </tr>\n",
       "    <tr>\n",
       "      <th>2351</th>\n",
       "      <td>666049248165822465</td>\n",
       "      <td>2015-11-16 00:24:50+00:</td>\n",
       "      <td>Here we have a 1949 1st generation vulpix. Enj...</td>\n",
       "      <td>5.0</td>\n",
       "      <td>NaN</td>\n",
       "      <td>NaN</td>\n",
       "      <td>NaN</td>\n",
       "      <td>88.0</td>\n",
       "      <td>36.0</td>\n",
       "    </tr>\n",
       "    <tr>\n",
       "      <th>2352</th>\n",
       "      <td>666044226329800704</td>\n",
       "      <td>2015-11-16 00:04:52+00:</td>\n",
       "      <td>This is a purebred Piers Morgan. Loves to Netf...</td>\n",
       "      <td>6.0</td>\n",
       "      <td>NaN</td>\n",
       "      <td>NaN</td>\n",
       "      <td>male</td>\n",
       "      <td>246.0</td>\n",
       "      <td>115.0</td>\n",
       "    </tr>\n",
       "    <tr>\n",
       "      <th>2353</th>\n",
       "      <td>666033412701032449</td>\n",
       "      <td>2015-11-15 23:21:54+00:</td>\n",
       "      <td>Here is a very happy pup. Big fan of well-main...</td>\n",
       "      <td>9.0</td>\n",
       "      <td>NaN</td>\n",
       "      <td>NaN</td>\n",
       "      <td>NaN</td>\n",
       "      <td>100.0</td>\n",
       "      <td>36.0</td>\n",
       "    </tr>\n",
       "    <tr>\n",
       "      <th>2354</th>\n",
       "      <td>666029285002620928</td>\n",
       "      <td>2015-11-15 23:05:30+00:</td>\n",
       "      <td>This is a western brown Mitsubishi terrier. Up...</td>\n",
       "      <td>7.0</td>\n",
       "      <td>NaN</td>\n",
       "      <td>NaN</td>\n",
       "      <td>NaN</td>\n",
       "      <td>112.0</td>\n",
       "      <td>39.0</td>\n",
       "    </tr>\n",
       "    <tr>\n",
       "      <th>2355</th>\n",
       "      <td>666020888022790149</td>\n",
       "      <td>2015-11-15 22:32:08+00:</td>\n",
       "      <td>Here we have a Japanese Irish Setter. Lost eye...</td>\n",
       "      <td>8.0</td>\n",
       "      <td>NaN</td>\n",
       "      <td>NaN</td>\n",
       "      <td>NaN</td>\n",
       "      <td>2283.0</td>\n",
       "      <td>419.0</td>\n",
       "    </tr>\n",
       "  </tbody>\n",
       "</table>\n",
       "<p>2097 rows × 9 columns</p>\n",
       "</div>"
      ],
      "text/plain": [
       "                tweet_id                timestamp  \\\n",
       "0     892420643555336193  2017-08-01 16:23:56+00:   \n",
       "1     892177421306343426  2017-08-01 00:17:27+00:   \n",
       "2     891815181378084864  2017-07-31 00:18:03+00:   \n",
       "3     891689557279858688  2017-07-30 15:58:51+00:   \n",
       "4     891327558926688256  2017-07-29 16:00:24+00:   \n",
       "...                  ...                      ...   \n",
       "2351  666049248165822465  2015-11-16 00:24:50+00:   \n",
       "2352  666044226329800704  2015-11-16 00:04:52+00:   \n",
       "2353  666033412701032449  2015-11-15 23:21:54+00:   \n",
       "2354  666029285002620928  2015-11-15 23:05:30+00:   \n",
       "2355  666020888022790149  2015-11-15 22:32:08+00:   \n",
       "\n",
       "                                                   text  rating      name  \\\n",
       "0     This is Phineas. He's a mystical boy. Only eve...    13.0   Phineas   \n",
       "1     This is Tilly. She's just checking pup on you....    13.0     Tilly   \n",
       "2     This is Archie. He is a rare Norwegian Pouncin...    12.0    Archie   \n",
       "3     This is Darla. She commenced a snooze mid meal...    13.0     Darla   \n",
       "4     This is Franklin. He would like you to stop ca...    12.0  Franklin   \n",
       "...                                                 ...     ...       ...   \n",
       "2351  Here we have a 1949 1st generation vulpix. Enj...     5.0       NaN   \n",
       "2352  This is a purebred Piers Morgan. Loves to Netf...     6.0       NaN   \n",
       "2353  Here is a very happy pup. Big fan of well-main...     9.0       NaN   \n",
       "2354  This is a western brown Mitsubishi terrier. Up...     7.0       NaN   \n",
       "2355  Here we have a Japanese Irish Setter. Lost eye...     8.0       NaN   \n",
       "\n",
       "     dog_stages dog_sex  favorites  retweets  \n",
       "0           NaN    male    33698.0    6970.0  \n",
       "1           NaN  female    29228.0    5273.0  \n",
       "2           NaN    male    21976.0    3464.0  \n",
       "3           NaN  female    36793.0    7193.0  \n",
       "4           NaN    male    35184.0    7718.0  \n",
       "...         ...     ...        ...       ...  \n",
       "2351        NaN     NaN       88.0      36.0  \n",
       "2352        NaN    male      246.0     115.0  \n",
       "2353        NaN     NaN      100.0      36.0  \n",
       "2354        NaN     NaN      112.0      39.0  \n",
       "2355        NaN     NaN     2283.0     419.0  \n",
       "\n",
       "[2097 rows x 9 columns]"
      ]
     },
     "execution_count": 214,
     "metadata": {},
     "output_type": "execute_result"
    }
   ],
   "source": [
    "# Merging the 3 clean data set\n",
    "merge1 = twitter_archive_clean.join(df_tweet_clean.set_index('tweet_id'), on='tweet_id')\n",
    "merge1"
   ]
  },
  {
   "cell_type": "code",
   "execution_count": 215,
   "metadata": {},
   "outputs": [],
   "source": [
    "df_master_copy = merge1.join(image_prediction_clean.set_index('tweet_id'), on='tweet_id')"
   ]
  },
  {
   "cell_type": "markdown",
   "metadata": {},
   "source": [
    "#### Test"
   ]
  },
  {
   "cell_type": "code",
   "execution_count": 216,
   "metadata": {},
   "outputs": [
    {
     "data": {
      "text/html": [
       "<div>\n",
       "<style scoped>\n",
       "    .dataframe tbody tr th:only-of-type {\n",
       "        vertical-align: middle;\n",
       "    }\n",
       "\n",
       "    .dataframe tbody tr th {\n",
       "        vertical-align: top;\n",
       "    }\n",
       "\n",
       "    .dataframe thead th {\n",
       "        text-align: right;\n",
       "    }\n",
       "</style>\n",
       "<table border=\"1\" class=\"dataframe\">\n",
       "  <thead>\n",
       "    <tr style=\"text-align: right;\">\n",
       "      <th></th>\n",
       "      <th>tweet_id</th>\n",
       "      <th>timestamp</th>\n",
       "      <th>text</th>\n",
       "      <th>rating</th>\n",
       "      <th>name</th>\n",
       "      <th>dog_stages</th>\n",
       "      <th>dog_sex</th>\n",
       "      <th>favorites</th>\n",
       "      <th>retweets</th>\n",
       "      <th>jpg_url</th>\n",
       "      <th>img_num</th>\n",
       "      <th>p1</th>\n",
       "      <th>p1_conf</th>\n",
       "      <th>p1_dog</th>\n",
       "      <th>p2</th>\n",
       "      <th>p2_conf</th>\n",
       "      <th>p2_dog</th>\n",
       "      <th>p3</th>\n",
       "      <th>p3_conf</th>\n",
       "      <th>p3_dog</th>\n",
       "    </tr>\n",
       "  </thead>\n",
       "  <tbody>\n",
       "    <tr>\n",
       "      <th>0</th>\n",
       "      <td>892420643555336193</td>\n",
       "      <td>2017-08-01 16:23:56+00:</td>\n",
       "      <td>This is Phineas. He's a mystical boy. Only eve...</td>\n",
       "      <td>13.0</td>\n",
       "      <td>Phineas</td>\n",
       "      <td>NaN</td>\n",
       "      <td>male</td>\n",
       "      <td>33698.0</td>\n",
       "      <td>6970.0</td>\n",
       "      <td>https://pbs.twimg.com/media/DGKD1-bXoAAIAUK.jpg</td>\n",
       "      <td>1.0</td>\n",
       "      <td>orange</td>\n",
       "      <td>0.097049</td>\n",
       "      <td>False</td>\n",
       "      <td>bagel</td>\n",
       "      <td>0.085851</td>\n",
       "      <td>False</td>\n",
       "      <td>banana</td>\n",
       "      <td>0.076110</td>\n",
       "      <td>False</td>\n",
       "    </tr>\n",
       "    <tr>\n",
       "      <th>1</th>\n",
       "      <td>892177421306343426</td>\n",
       "      <td>2017-08-01 00:17:27+00:</td>\n",
       "      <td>This is Tilly. She's just checking pup on you....</td>\n",
       "      <td>13.0</td>\n",
       "      <td>Tilly</td>\n",
       "      <td>NaN</td>\n",
       "      <td>female</td>\n",
       "      <td>29228.0</td>\n",
       "      <td>5273.0</td>\n",
       "      <td>https://pbs.twimg.com/media/DGGmoV4XsAAUL6n.jpg</td>\n",
       "      <td>1.0</td>\n",
       "      <td>chihuahua</td>\n",
       "      <td>0.323581</td>\n",
       "      <td>True</td>\n",
       "      <td>pekinese</td>\n",
       "      <td>0.090647</td>\n",
       "      <td>True</td>\n",
       "      <td>papillon</td>\n",
       "      <td>0.068957</td>\n",
       "      <td>True</td>\n",
       "    </tr>\n",
       "    <tr>\n",
       "      <th>2</th>\n",
       "      <td>891815181378084864</td>\n",
       "      <td>2017-07-31 00:18:03+00:</td>\n",
       "      <td>This is Archie. He is a rare Norwegian Pouncin...</td>\n",
       "      <td>12.0</td>\n",
       "      <td>Archie</td>\n",
       "      <td>NaN</td>\n",
       "      <td>male</td>\n",
       "      <td>21976.0</td>\n",
       "      <td>3464.0</td>\n",
       "      <td>https://pbs.twimg.com/media/DGBdLU1WsAANxJ9.jpg</td>\n",
       "      <td>1.0</td>\n",
       "      <td>chihuahua</td>\n",
       "      <td>0.716012</td>\n",
       "      <td>True</td>\n",
       "      <td>malamute</td>\n",
       "      <td>0.078253</td>\n",
       "      <td>True</td>\n",
       "      <td>kelpie</td>\n",
       "      <td>0.031379</td>\n",
       "      <td>True</td>\n",
       "    </tr>\n",
       "    <tr>\n",
       "      <th>3</th>\n",
       "      <td>891689557279858688</td>\n",
       "      <td>2017-07-30 15:58:51+00:</td>\n",
       "      <td>This is Darla. She commenced a snooze mid meal...</td>\n",
       "      <td>13.0</td>\n",
       "      <td>Darla</td>\n",
       "      <td>NaN</td>\n",
       "      <td>female</td>\n",
       "      <td>36793.0</td>\n",
       "      <td>7193.0</td>\n",
       "      <td>https://pbs.twimg.com/media/DF_q7IAWsAEuuN8.jpg</td>\n",
       "      <td>1.0</td>\n",
       "      <td>paper_towel</td>\n",
       "      <td>0.170278</td>\n",
       "      <td>False</td>\n",
       "      <td>labrador_retriever</td>\n",
       "      <td>0.168086</td>\n",
       "      <td>True</td>\n",
       "      <td>spatula</td>\n",
       "      <td>0.040836</td>\n",
       "      <td>False</td>\n",
       "    </tr>\n",
       "    <tr>\n",
       "      <th>4</th>\n",
       "      <td>891327558926688256</td>\n",
       "      <td>2017-07-29 16:00:24+00:</td>\n",
       "      <td>This is Franklin. He would like you to stop ca...</td>\n",
       "      <td>12.0</td>\n",
       "      <td>Franklin</td>\n",
       "      <td>NaN</td>\n",
       "      <td>male</td>\n",
       "      <td>35184.0</td>\n",
       "      <td>7718.0</td>\n",
       "      <td>https://pbs.twimg.com/media/DF6hr6BUMAAzZgT.jpg</td>\n",
       "      <td>2.0</td>\n",
       "      <td>basset</td>\n",
       "      <td>0.555712</td>\n",
       "      <td>True</td>\n",
       "      <td>english_springer</td>\n",
       "      <td>0.225770</td>\n",
       "      <td>True</td>\n",
       "      <td>german_short-haired_pointer</td>\n",
       "      <td>0.175219</td>\n",
       "      <td>True</td>\n",
       "    </tr>\n",
       "    <tr>\n",
       "      <th>...</th>\n",
       "      <td>...</td>\n",
       "      <td>...</td>\n",
       "      <td>...</td>\n",
       "      <td>...</td>\n",
       "      <td>...</td>\n",
       "      <td>...</td>\n",
       "      <td>...</td>\n",
       "      <td>...</td>\n",
       "      <td>...</td>\n",
       "      <td>...</td>\n",
       "      <td>...</td>\n",
       "      <td>...</td>\n",
       "      <td>...</td>\n",
       "      <td>...</td>\n",
       "      <td>...</td>\n",
       "      <td>...</td>\n",
       "      <td>...</td>\n",
       "      <td>...</td>\n",
       "      <td>...</td>\n",
       "      <td>...</td>\n",
       "    </tr>\n",
       "    <tr>\n",
       "      <th>2351</th>\n",
       "      <td>666049248165822465</td>\n",
       "      <td>2015-11-16 00:24:50+00:</td>\n",
       "      <td>Here we have a 1949 1st generation vulpix. Enj...</td>\n",
       "      <td>5.0</td>\n",
       "      <td>NaN</td>\n",
       "      <td>NaN</td>\n",
       "      <td>NaN</td>\n",
       "      <td>88.0</td>\n",
       "      <td>36.0</td>\n",
       "      <td>https://pbs.twimg.com/media/CT5IQmsXIAAKY4A.jpg</td>\n",
       "      <td>1.0</td>\n",
       "      <td>miniature_pinscher</td>\n",
       "      <td>0.560311</td>\n",
       "      <td>True</td>\n",
       "      <td>rottweiler</td>\n",
       "      <td>0.243682</td>\n",
       "      <td>True</td>\n",
       "      <td>doberman</td>\n",
       "      <td>0.154629</td>\n",
       "      <td>True</td>\n",
       "    </tr>\n",
       "    <tr>\n",
       "      <th>2352</th>\n",
       "      <td>666044226329800704</td>\n",
       "      <td>2015-11-16 00:04:52+00:</td>\n",
       "      <td>This is a purebred Piers Morgan. Loves to Netf...</td>\n",
       "      <td>6.0</td>\n",
       "      <td>NaN</td>\n",
       "      <td>NaN</td>\n",
       "      <td>male</td>\n",
       "      <td>246.0</td>\n",
       "      <td>115.0</td>\n",
       "      <td>https://pbs.twimg.com/media/CT5Dr8HUEAA-lEu.jpg</td>\n",
       "      <td>1.0</td>\n",
       "      <td>rhodesian_ridgeback</td>\n",
       "      <td>0.408143</td>\n",
       "      <td>True</td>\n",
       "      <td>redbone</td>\n",
       "      <td>0.360687</td>\n",
       "      <td>True</td>\n",
       "      <td>miniature_pinscher</td>\n",
       "      <td>0.222752</td>\n",
       "      <td>True</td>\n",
       "    </tr>\n",
       "    <tr>\n",
       "      <th>2353</th>\n",
       "      <td>666033412701032449</td>\n",
       "      <td>2015-11-15 23:21:54+00:</td>\n",
       "      <td>Here is a very happy pup. Big fan of well-main...</td>\n",
       "      <td>9.0</td>\n",
       "      <td>NaN</td>\n",
       "      <td>NaN</td>\n",
       "      <td>NaN</td>\n",
       "      <td>100.0</td>\n",
       "      <td>36.0</td>\n",
       "      <td>https://pbs.twimg.com/media/CT4521TWwAEvMyu.jpg</td>\n",
       "      <td>1.0</td>\n",
       "      <td>german_shepherd</td>\n",
       "      <td>0.596461</td>\n",
       "      <td>True</td>\n",
       "      <td>malinois</td>\n",
       "      <td>0.138584</td>\n",
       "      <td>True</td>\n",
       "      <td>bloodhound</td>\n",
       "      <td>0.116197</td>\n",
       "      <td>True</td>\n",
       "    </tr>\n",
       "    <tr>\n",
       "      <th>2354</th>\n",
       "      <td>666029285002620928</td>\n",
       "      <td>2015-11-15 23:05:30+00:</td>\n",
       "      <td>This is a western brown Mitsubishi terrier. Up...</td>\n",
       "      <td>7.0</td>\n",
       "      <td>NaN</td>\n",
       "      <td>NaN</td>\n",
       "      <td>NaN</td>\n",
       "      <td>112.0</td>\n",
       "      <td>39.0</td>\n",
       "      <td>https://pbs.twimg.com/media/CT42GRgUYAA5iDo.jpg</td>\n",
       "      <td>1.0</td>\n",
       "      <td>redbone</td>\n",
       "      <td>0.506826</td>\n",
       "      <td>True</td>\n",
       "      <td>miniature_pinscher</td>\n",
       "      <td>0.074192</td>\n",
       "      <td>True</td>\n",
       "      <td>rhodesian_ridgeback</td>\n",
       "      <td>0.072010</td>\n",
       "      <td>True</td>\n",
       "    </tr>\n",
       "    <tr>\n",
       "      <th>2355</th>\n",
       "      <td>666020888022790149</td>\n",
       "      <td>2015-11-15 22:32:08+00:</td>\n",
       "      <td>Here we have a Japanese Irish Setter. Lost eye...</td>\n",
       "      <td>8.0</td>\n",
       "      <td>NaN</td>\n",
       "      <td>NaN</td>\n",
       "      <td>NaN</td>\n",
       "      <td>2283.0</td>\n",
       "      <td>419.0</td>\n",
       "      <td>https://pbs.twimg.com/media/CT4udn0WwAA0aMy.jpg</td>\n",
       "      <td>1.0</td>\n",
       "      <td>welsh_springer_spaniel</td>\n",
       "      <td>0.465074</td>\n",
       "      <td>True</td>\n",
       "      <td>collie</td>\n",
       "      <td>0.156665</td>\n",
       "      <td>True</td>\n",
       "      <td>shetland_sheepdog</td>\n",
       "      <td>0.061428</td>\n",
       "      <td>True</td>\n",
       "    </tr>\n",
       "  </tbody>\n",
       "</table>\n",
       "<p>2097 rows × 20 columns</p>\n",
       "</div>"
      ],
      "text/plain": [
       "                tweet_id                timestamp  \\\n",
       "0     892420643555336193  2017-08-01 16:23:56+00:   \n",
       "1     892177421306343426  2017-08-01 00:17:27+00:   \n",
       "2     891815181378084864  2017-07-31 00:18:03+00:   \n",
       "3     891689557279858688  2017-07-30 15:58:51+00:   \n",
       "4     891327558926688256  2017-07-29 16:00:24+00:   \n",
       "...                  ...                      ...   \n",
       "2351  666049248165822465  2015-11-16 00:24:50+00:   \n",
       "2352  666044226329800704  2015-11-16 00:04:52+00:   \n",
       "2353  666033412701032449  2015-11-15 23:21:54+00:   \n",
       "2354  666029285002620928  2015-11-15 23:05:30+00:   \n",
       "2355  666020888022790149  2015-11-15 22:32:08+00:   \n",
       "\n",
       "                                                   text  rating      name  \\\n",
       "0     This is Phineas. He's a mystical boy. Only eve...    13.0   Phineas   \n",
       "1     This is Tilly. She's just checking pup on you....    13.0     Tilly   \n",
       "2     This is Archie. He is a rare Norwegian Pouncin...    12.0    Archie   \n",
       "3     This is Darla. She commenced a snooze mid meal...    13.0     Darla   \n",
       "4     This is Franklin. He would like you to stop ca...    12.0  Franklin   \n",
       "...                                                 ...     ...       ...   \n",
       "2351  Here we have a 1949 1st generation vulpix. Enj...     5.0       NaN   \n",
       "2352  This is a purebred Piers Morgan. Loves to Netf...     6.0       NaN   \n",
       "2353  Here is a very happy pup. Big fan of well-main...     9.0       NaN   \n",
       "2354  This is a western brown Mitsubishi terrier. Up...     7.0       NaN   \n",
       "2355  Here we have a Japanese Irish Setter. Lost eye...     8.0       NaN   \n",
       "\n",
       "     dog_stages dog_sex  favorites  retweets  \\\n",
       "0           NaN    male    33698.0    6970.0   \n",
       "1           NaN  female    29228.0    5273.0   \n",
       "2           NaN    male    21976.0    3464.0   \n",
       "3           NaN  female    36793.0    7193.0   \n",
       "4           NaN    male    35184.0    7718.0   \n",
       "...         ...     ...        ...       ...   \n",
       "2351        NaN     NaN       88.0      36.0   \n",
       "2352        NaN    male      246.0     115.0   \n",
       "2353        NaN     NaN      100.0      36.0   \n",
       "2354        NaN     NaN      112.0      39.0   \n",
       "2355        NaN     NaN     2283.0     419.0   \n",
       "\n",
       "                                              jpg_url  img_num  \\\n",
       "0     https://pbs.twimg.com/media/DGKD1-bXoAAIAUK.jpg      1.0   \n",
       "1     https://pbs.twimg.com/media/DGGmoV4XsAAUL6n.jpg      1.0   \n",
       "2     https://pbs.twimg.com/media/DGBdLU1WsAANxJ9.jpg      1.0   \n",
       "3     https://pbs.twimg.com/media/DF_q7IAWsAEuuN8.jpg      1.0   \n",
       "4     https://pbs.twimg.com/media/DF6hr6BUMAAzZgT.jpg      2.0   \n",
       "...                                               ...      ...   \n",
       "2351  https://pbs.twimg.com/media/CT5IQmsXIAAKY4A.jpg      1.0   \n",
       "2352  https://pbs.twimg.com/media/CT5Dr8HUEAA-lEu.jpg      1.0   \n",
       "2353  https://pbs.twimg.com/media/CT4521TWwAEvMyu.jpg      1.0   \n",
       "2354  https://pbs.twimg.com/media/CT42GRgUYAA5iDo.jpg      1.0   \n",
       "2355  https://pbs.twimg.com/media/CT4udn0WwAA0aMy.jpg      1.0   \n",
       "\n",
       "                          p1   p1_conf p1_dog                  p2   p2_conf  \\\n",
       "0                     orange  0.097049  False               bagel  0.085851   \n",
       "1                  chihuahua  0.323581   True            pekinese  0.090647   \n",
       "2                  chihuahua  0.716012   True            malamute  0.078253   \n",
       "3                paper_towel  0.170278  False  labrador_retriever  0.168086   \n",
       "4                     basset  0.555712   True    english_springer  0.225770   \n",
       "...                      ...       ...    ...                 ...       ...   \n",
       "2351      miniature_pinscher  0.560311   True          rottweiler  0.243682   \n",
       "2352     rhodesian_ridgeback  0.408143   True             redbone  0.360687   \n",
       "2353         german_shepherd  0.596461   True            malinois  0.138584   \n",
       "2354                 redbone  0.506826   True  miniature_pinscher  0.074192   \n",
       "2355  welsh_springer_spaniel  0.465074   True              collie  0.156665   \n",
       "\n",
       "     p2_dog                           p3   p3_conf p3_dog  \n",
       "0     False                       banana  0.076110  False  \n",
       "1      True                     papillon  0.068957   True  \n",
       "2      True                       kelpie  0.031379   True  \n",
       "3      True                      spatula  0.040836  False  \n",
       "4      True  german_short-haired_pointer  0.175219   True  \n",
       "...     ...                          ...       ...    ...  \n",
       "2351   True                     doberman  0.154629   True  \n",
       "2352   True           miniature_pinscher  0.222752   True  \n",
       "2353   True                   bloodhound  0.116197   True  \n",
       "2354   True          rhodesian_ridgeback  0.072010   True  \n",
       "2355   True            shetland_sheepdog  0.061428   True  \n",
       "\n",
       "[2097 rows x 20 columns]"
      ]
     },
     "execution_count": 216,
     "metadata": {},
     "output_type": "execute_result"
    }
   ],
   "source": [
    "df_master_copy"
   ]
  },
  {
   "cell_type": "code",
   "execution_count": 217,
   "metadata": {},
   "outputs": [
    {
     "name": "stdout",
     "output_type": "stream",
     "text": [
      "<class 'pandas.core.frame.DataFrame'>\n",
      "Int64Index: 2097 entries, 0 to 2355\n",
      "Data columns (total 20 columns):\n",
      " #   Column      Non-Null Count  Dtype   \n",
      "---  ------      --------------  -----   \n",
      " 0   tweet_id    2097 non-null   object  \n",
      " 1   timestamp   2097 non-null   object  \n",
      " 2   text        2097 non-null   object  \n",
      " 3   rating      2097 non-null   float64 \n",
      " 4   name        1390 non-null   object  \n",
      " 5   dog_stages  353 non-null    category\n",
      " 6   dog_sex     2097 non-null   object  \n",
      " 7   favorites   2089 non-null   float64 \n",
      " 8   retweets    2089 non-null   float64 \n",
      " 9   jpg_url     1971 non-null   object  \n",
      " 10  img_num     1971 non-null   float64 \n",
      " 11  p1          1971 non-null   object  \n",
      " 12  p1_conf     1971 non-null   float64 \n",
      " 13  p1_dog      1971 non-null   object  \n",
      " 14  p2          1971 non-null   object  \n",
      " 15  p2_conf     1971 non-null   float64 \n",
      " 16  p2_dog      1971 non-null   object  \n",
      " 17  p3          1971 non-null   object  \n",
      " 18  p3_conf     1971 non-null   float64 \n",
      " 19  p3_dog      1971 non-null   object  \n",
      "dtypes: category(1), float64(7), object(12)\n",
      "memory usage: 329.9+ KB\n"
     ]
    }
   ],
   "source": [
    "df_master_copy.info()"
   ]
  },
  {
   "cell_type": "markdown",
   "metadata": {},
   "source": [
    "<a id='storing'></a>\n",
    "## Storing Data"
   ]
  },
  {
   "cell_type": "code",
   "execution_count": 218,
   "metadata": {},
   "outputs": [],
   "source": [
    "# We now store the clean master copy in CSV file with name 'twitter_archive_master.csv'\n",
    "df_master_copy.to_csv('twitter_archive_master.csv')"
   ]
  },
  {
   "cell_type": "markdown",
   "metadata": {},
   "source": [
    "<a id='analyzing'></a>\n",
    "## Analyzing, and visualizing data"
   ]
  },
  {
   "cell_type": "code",
   "execution_count": 219,
   "metadata": {},
   "outputs": [],
   "source": [
    "# learned from source:https://stackoverflow.com/questions/35634238/how-to-save-a-pandas-dataframe-table-as-a-png\n",
    "table = df_master_copy.describe()\n",
    "df_styled = table.style.background_gradient() #adding a gradient based on values in cell\n",
    "dfi.export(df_styled,\"table1.png\")"
   ]
  },
  {
   "cell_type": "code",
   "execution_count": 238,
   "metadata": {},
   "outputs": [
    {
     "data": {
      "text/html": [
       "<style  type=\"text/css\" >\n",
       "#T_a6496e43_32d3_11ed_918a_4c1d9616b6e6row0_col0,#T_a6496e43_32d3_11ed_918a_4c1d9616b6e6row0_col3,#T_a6496e43_32d3_11ed_918a_4c1d9616b6e6row0_col4,#T_a6496e43_32d3_11ed_918a_4c1d9616b6e6row0_col5,#T_a6496e43_32d3_11ed_918a_4c1d9616b6e6row0_col6,#T_a6496e43_32d3_11ed_918a_4c1d9616b6e6row7_col1,#T_a6496e43_32d3_11ed_918a_4c1d9616b6e6row7_col2{\n",
       "            background-color:  #023858;\n",
       "            color:  #f1f1f1;\n",
       "            background-color:  #023858;\n",
       "            color:  #f1f1f1;\n",
       "            background-color:  #023858;\n",
       "            color:  #f1f1f1;\n",
       "        }#T_a6496e43_32d3_11ed_918a_4c1d9616b6e6row0_col1,#T_a6496e43_32d3_11ed_918a_4c1d9616b6e6row2_col0,#T_a6496e43_32d3_11ed_918a_4c1d9616b6e6row5_col2{\n",
       "            background-color:  #fdf5fa;\n",
       "            color:  #000000;\n",
       "            background-color:  #fdf5fa;\n",
       "            color:  #000000;\n",
       "            background-color:  #fdf5fa;\n",
       "            color:  #000000;\n",
       "        }#T_a6496e43_32d3_11ed_918a_4c1d9616b6e6row0_col2{\n",
       "            background-color:  #fbf3f9;\n",
       "            color:  #000000;\n",
       "            background-color:  #fbf3f9;\n",
       "            color:  #000000;\n",
       "            background-color:  #fbf3f9;\n",
       "            color:  #000000;\n",
       "        }#T_a6496e43_32d3_11ed_918a_4c1d9616b6e6row1_col0,#T_a6496e43_32d3_11ed_918a_4c1d9616b6e6row4_col0,#T_a6496e43_32d3_11ed_918a_4c1d9616b6e6row4_col2,#T_a6496e43_32d3_11ed_918a_4c1d9616b6e6row5_col0,#T_a6496e43_32d3_11ed_918a_4c1d9616b6e6row6_col0{\n",
       "            background-color:  #fef6fb;\n",
       "            color:  #000000;\n",
       "            background-color:  #fef6fb;\n",
       "            color:  #000000;\n",
       "            background-color:  #fef6fb;\n",
       "            color:  #000000;\n",
       "        }#T_a6496e43_32d3_11ed_918a_4c1d9616b6e6row1_col1,#T_a6496e43_32d3_11ed_918a_4c1d9616b6e6row2_col2{\n",
       "            background-color:  #f7f0f7;\n",
       "            color:  #000000;\n",
       "            background-color:  #f7f0f7;\n",
       "            color:  #000000;\n",
       "            background-color:  #f7f0f7;\n",
       "            color:  #000000;\n",
       "        }#T_a6496e43_32d3_11ed_918a_4c1d9616b6e6row1_col2{\n",
       "            background-color:  #faf3f9;\n",
       "            color:  #000000;\n",
       "            background-color:  #faf3f9;\n",
       "            color:  #000000;\n",
       "            background-color:  #faf3f9;\n",
       "            color:  #000000;\n",
       "        }#T_a6496e43_32d3_11ed_918a_4c1d9616b6e6row1_col3,#T_a6496e43_32d3_11ed_918a_4c1d9616b6e6row1_col4,#T_a6496e43_32d3_11ed_918a_4c1d9616b6e6row1_col5,#T_a6496e43_32d3_11ed_918a_4c1d9616b6e6row1_col6,#T_a6496e43_32d3_11ed_918a_4c1d9616b6e6row2_col3,#T_a6496e43_32d3_11ed_918a_4c1d9616b6e6row2_col4,#T_a6496e43_32d3_11ed_918a_4c1d9616b6e6row2_col5,#T_a6496e43_32d3_11ed_918a_4c1d9616b6e6row2_col6,#T_a6496e43_32d3_11ed_918a_4c1d9616b6e6row3_col0,#T_a6496e43_32d3_11ed_918a_4c1d9616b6e6row3_col1,#T_a6496e43_32d3_11ed_918a_4c1d9616b6e6row3_col2,#T_a6496e43_32d3_11ed_918a_4c1d9616b6e6row3_col3,#T_a6496e43_32d3_11ed_918a_4c1d9616b6e6row3_col4,#T_a6496e43_32d3_11ed_918a_4c1d9616b6e6row3_col5,#T_a6496e43_32d3_11ed_918a_4c1d9616b6e6row3_col6,#T_a6496e43_32d3_11ed_918a_4c1d9616b6e6row4_col3,#T_a6496e43_32d3_11ed_918a_4c1d9616b6e6row4_col4,#T_a6496e43_32d3_11ed_918a_4c1d9616b6e6row4_col5,#T_a6496e43_32d3_11ed_918a_4c1d9616b6e6row4_col6,#T_a6496e43_32d3_11ed_918a_4c1d9616b6e6row5_col3,#T_a6496e43_32d3_11ed_918a_4c1d9616b6e6row5_col4,#T_a6496e43_32d3_11ed_918a_4c1d9616b6e6row5_col5,#T_a6496e43_32d3_11ed_918a_4c1d9616b6e6row5_col6,#T_a6496e43_32d3_11ed_918a_4c1d9616b6e6row6_col3,#T_a6496e43_32d3_11ed_918a_4c1d9616b6e6row6_col4,#T_a6496e43_32d3_11ed_918a_4c1d9616b6e6row6_col5,#T_a6496e43_32d3_11ed_918a_4c1d9616b6e6row6_col6,#T_a6496e43_32d3_11ed_918a_4c1d9616b6e6row7_col3,#T_a6496e43_32d3_11ed_918a_4c1d9616b6e6row7_col4,#T_a6496e43_32d3_11ed_918a_4c1d9616b6e6row7_col5,#T_a6496e43_32d3_11ed_918a_4c1d9616b6e6row7_col6{\n",
       "            background-color:  #fff7fb;\n",
       "            color:  #000000;\n",
       "            background-color:  #fff7fb;\n",
       "            color:  #000000;\n",
       "            background-color:  #fff7fb;\n",
       "            color:  #000000;\n",
       "        }#T_a6496e43_32d3_11ed_918a_4c1d9616b6e6row2_col1{\n",
       "            background-color:  #f4edf6;\n",
       "            color:  #000000;\n",
       "            background-color:  #f4edf6;\n",
       "            color:  #000000;\n",
       "            background-color:  #f4edf6;\n",
       "            color:  #000000;\n",
       "        }#T_a6496e43_32d3_11ed_918a_4c1d9616b6e6row4_col1{\n",
       "            background-color:  #fef6fa;\n",
       "            color:  #000000;\n",
       "            background-color:  #fef6fa;\n",
       "            color:  #000000;\n",
       "            background-color:  #fef6fa;\n",
       "            color:  #000000;\n",
       "        }#T_a6496e43_32d3_11ed_918a_4c1d9616b6e6row5_col1{\n",
       "            background-color:  #fbf4f9;\n",
       "            color:  #000000;\n",
       "            background-color:  #fbf4f9;\n",
       "            color:  #000000;\n",
       "            background-color:  #fbf4f9;\n",
       "            color:  #000000;\n",
       "        }#T_a6496e43_32d3_11ed_918a_4c1d9616b6e6row6_col1{\n",
       "            background-color:  #f5eef6;\n",
       "            color:  #000000;\n",
       "            background-color:  #f5eef6;\n",
       "            color:  #000000;\n",
       "            background-color:  #f5eef6;\n",
       "            color:  #000000;\n",
       "        }#T_a6496e43_32d3_11ed_918a_4c1d9616b6e6row6_col2{\n",
       "            background-color:  #faf2f8;\n",
       "            color:  #000000;\n",
       "            background-color:  #faf2f8;\n",
       "            color:  #000000;\n",
       "            background-color:  #faf2f8;\n",
       "            color:  #000000;\n",
       "        }#T_a6496e43_32d3_11ed_918a_4c1d9616b6e6row7_col0{\n",
       "            background-color:  #045f95;\n",
       "            color:  #f1f1f1;\n",
       "            background-color:  #045f95;\n",
       "            color:  #f1f1f1;\n",
       "            background-color:  #045f95;\n",
       "            color:  #f1f1f1;\n",
       "        }</style><table id=\"T_a6496e43_32d3_11ed_918a_4c1d9616b6e6\" ><thead>    <tr>        <th class=\"blank level0\" ></th>        <th class=\"col_heading level0 col0\" >rating</th>        <th class=\"col_heading level0 col1\" >favorites</th>        <th class=\"col_heading level0 col2\" >retweets</th>        <th class=\"col_heading level0 col3\" >img_num</th>        <th class=\"col_heading level0 col4\" >p1_conf</th>        <th class=\"col_heading level0 col5\" >p2_conf</th>        <th class=\"col_heading level0 col6\" >p3_conf</th>    </tr></thead><tbody>\n",
       "                <tr>\n",
       "                        <th id=\"T_a6496e43_32d3_11ed_918a_4c1d9616b6e6level0_row0\" class=\"row_heading level0 row0\" >count</th>\n",
       "                        <td id=\"T_a6496e43_32d3_11ed_918a_4c1d9616b6e6row0_col0\" class=\"data row0 col0\" >2097.000000</td>\n",
       "                        <td id=\"T_a6496e43_32d3_11ed_918a_4c1d9616b6e6row0_col1\" class=\"data row0 col1\" >2089.000000</td>\n",
       "                        <td id=\"T_a6496e43_32d3_11ed_918a_4c1d9616b6e6row0_col2\" class=\"data row0 col2\" >2089.000000</td>\n",
       "                        <td id=\"T_a6496e43_32d3_11ed_918a_4c1d9616b6e6row0_col3\" class=\"data row0 col3\" >1971.000000</td>\n",
       "                        <td id=\"T_a6496e43_32d3_11ed_918a_4c1d9616b6e6row0_col4\" class=\"data row0 col4\" >1971.000000</td>\n",
       "                        <td id=\"T_a6496e43_32d3_11ed_918a_4c1d9616b6e6row0_col5\" class=\"data row0 col5\" >1971.000000</td>\n",
       "                        <td id=\"T_a6496e43_32d3_11ed_918a_4c1d9616b6e6row0_col6\" class=\"data row0 col6\" >1971.000000</td>\n",
       "            </tr>\n",
       "            <tr>\n",
       "                        <th id=\"T_a6496e43_32d3_11ed_918a_4c1d9616b6e6level0_row1\" class=\"row_heading level0 row1\" >mean</th>\n",
       "                        <td id=\"T_a6496e43_32d3_11ed_918a_4c1d9616b6e6row1_col0\" class=\"data row1 col0\" >11.703573</td>\n",
       "                        <td id=\"T_a6496e43_32d3_11ed_918a_4c1d9616b6e6row1_col1\" class=\"data row1 col1\" >7750.666826</td>\n",
       "                        <td id=\"T_a6496e43_32d3_11ed_918a_4c1d9616b6e6row1_col2\" class=\"data row1 col2\" >2293.539014</td>\n",
       "                        <td id=\"T_a6496e43_32d3_11ed_918a_4c1d9616b6e6row1_col3\" class=\"data row1 col3\" >1.201928</td>\n",
       "                        <td id=\"T_a6496e43_32d3_11ed_918a_4c1d9616b6e6row1_col4\" class=\"data row1 col4\" >0.594558</td>\n",
       "                        <td id=\"T_a6496e43_32d3_11ed_918a_4c1d9616b6e6row1_col5\" class=\"data row1 col5\" >0.134585</td>\n",
       "                        <td id=\"T_a6496e43_32d3_11ed_918a_4c1d9616b6e6row1_col6\" class=\"data row1 col6\" >0.060166</td>\n",
       "            </tr>\n",
       "            <tr>\n",
       "                        <th id=\"T_a6496e43_32d3_11ed_918a_4c1d9616b6e6level0_row2\" class=\"row_heading level0 row2\" >std</th>\n",
       "                        <td id=\"T_a6496e43_32d3_11ed_918a_4c1d9616b6e6row2_col0\" class=\"data row2 col0\" >39.763207</td>\n",
       "                        <td id=\"T_a6496e43_32d3_11ed_918a_4c1d9616b6e6row2_col1\" class=\"data row2 col1\" >11288.441074</td>\n",
       "                        <td id=\"T_a6496e43_32d3_11ed_918a_4c1d9616b6e6row2_col2\" class=\"data row2 col2\" >4019.846308</td>\n",
       "                        <td id=\"T_a6496e43_32d3_11ed_918a_4c1d9616b6e6row2_col3\" class=\"data row2 col3\" >0.559020</td>\n",
       "                        <td id=\"T_a6496e43_32d3_11ed_918a_4c1d9616b6e6row2_col4\" class=\"data row2 col4\" >0.272126</td>\n",
       "                        <td id=\"T_a6496e43_32d3_11ed_918a_4c1d9616b6e6row2_col5\" class=\"data row2 col5\" >0.101053</td>\n",
       "                        <td id=\"T_a6496e43_32d3_11ed_918a_4c1d9616b6e6row2_col6\" class=\"data row2 col6\" >0.050942</td>\n",
       "            </tr>\n",
       "            <tr>\n",
       "                        <th id=\"T_a6496e43_32d3_11ed_918a_4c1d9616b6e6level0_row3\" class=\"row_heading level0 row3\" >min</th>\n",
       "                        <td id=\"T_a6496e43_32d3_11ed_918a_4c1d9616b6e6row3_col0\" class=\"data row3 col0\" >0.000000</td>\n",
       "                        <td id=\"T_a6496e43_32d3_11ed_918a_4c1d9616b6e6row3_col1\" class=\"data row3 col1\" >66.000000</td>\n",
       "                        <td id=\"T_a6496e43_32d3_11ed_918a_4c1d9616b6e6row3_col2\" class=\"data row3 col2\" >11.000000</td>\n",
       "                        <td id=\"T_a6496e43_32d3_11ed_918a_4c1d9616b6e6row3_col3\" class=\"data row3 col3\" >1.000000</td>\n",
       "                        <td id=\"T_a6496e43_32d3_11ed_918a_4c1d9616b6e6row3_col4\" class=\"data row3 col4\" >0.044333</td>\n",
       "                        <td id=\"T_a6496e43_32d3_11ed_918a_4c1d9616b6e6row3_col5\" class=\"data row3 col5\" >0.000000</td>\n",
       "                        <td id=\"T_a6496e43_32d3_11ed_918a_4c1d9616b6e6row3_col6\" class=\"data row3 col6\" >0.000000</td>\n",
       "            </tr>\n",
       "            <tr>\n",
       "                        <th id=\"T_a6496e43_32d3_11ed_918a_4c1d9616b6e6level0_row4\" class=\"row_heading level0 row4\" >25%</th>\n",
       "                        <td id=\"T_a6496e43_32d3_11ed_918a_4c1d9616b6e6row4_col0\" class=\"data row4 col0\" >10.000000</td>\n",
       "                        <td id=\"T_a6496e43_32d3_11ed_918a_4c1d9616b6e6row4_col1\" class=\"data row4 col1\" >1711.000000</td>\n",
       "                        <td id=\"T_a6496e43_32d3_11ed_918a_4c1d9616b6e6row4_col2\" class=\"data row4 col2\" >509.000000</td>\n",
       "                        <td id=\"T_a6496e43_32d3_11ed_918a_4c1d9616b6e6row4_col3\" class=\"data row4 col3\" >1.000000</td>\n",
       "                        <td id=\"T_a6496e43_32d3_11ed_918a_4c1d9616b6e6row4_col4\" class=\"data row4 col4\" >0.363091</td>\n",
       "                        <td id=\"T_a6496e43_32d3_11ed_918a_4c1d9616b6e6row4_col5\" class=\"data row4 col5\" >0.053398</td>\n",
       "                        <td id=\"T_a6496e43_32d3_11ed_918a_4c1d9616b6e6row4_col6\" class=\"data row4 col6\" >0.016081</td>\n",
       "            </tr>\n",
       "            <tr>\n",
       "                        <th id=\"T_a6496e43_32d3_11ed_918a_4c1d9616b6e6level0_row5\" class=\"row_heading level0 row5\" >50%</th>\n",
       "                        <td id=\"T_a6496e43_32d3_11ed_918a_4c1d9616b6e6row5_col0\" class=\"data row5 col0\" >11.000000</td>\n",
       "                        <td id=\"T_a6496e43_32d3_11ed_918a_4c1d9616b6e6row5_col1\" class=\"data row5 col1\" >3524.000000</td>\n",
       "                        <td id=\"T_a6496e43_32d3_11ed_918a_4c1d9616b6e6row5_col2\" class=\"data row5 col2\" >1110.000000</td>\n",
       "                        <td id=\"T_a6496e43_32d3_11ed_918a_4c1d9616b6e6row5_col3\" class=\"data row5 col3\" >1.000000</td>\n",
       "                        <td id=\"T_a6496e43_32d3_11ed_918a_4c1d9616b6e6row5_col4\" class=\"data row5 col4\" >0.587764</td>\n",
       "                        <td id=\"T_a6496e43_32d3_11ed_918a_4c1d9616b6e6row5_col5\" class=\"data row5 col5\" >0.117397</td>\n",
       "                        <td id=\"T_a6496e43_32d3_11ed_918a_4c1d9616b6e6row5_col6\" class=\"data row5 col6\" >0.049444</td>\n",
       "            </tr>\n",
       "            <tr>\n",
       "                        <th id=\"T_a6496e43_32d3_11ed_918a_4c1d9616b6e6level0_row6\" class=\"row_heading level0 row6\" >75%</th>\n",
       "                        <td id=\"T_a6496e43_32d3_11ed_918a_4c1d9616b6e6row6_col0\" class=\"data row6 col0\" >12.000000</td>\n",
       "                        <td id=\"T_a6496e43_32d3_11ed_918a_4c1d9616b6e6row6_col1\" class=\"data row6 col1\" >9647.000000</td>\n",
       "                        <td id=\"T_a6496e43_32d3_11ed_918a_4c1d9616b6e6row6_col2\" class=\"data row6 col2\" >2609.000000</td>\n",
       "                        <td id=\"T_a6496e43_32d3_11ed_918a_4c1d9616b6e6row6_col3\" class=\"data row6 col3\" >1.000000</td>\n",
       "                        <td id=\"T_a6496e43_32d3_11ed_918a_4c1d9616b6e6row6_col4\" class=\"data row6 col4\" >0.847827</td>\n",
       "                        <td id=\"T_a6496e43_32d3_11ed_918a_4c1d9616b6e6row6_col5\" class=\"data row6 col5\" >0.195566</td>\n",
       "                        <td id=\"T_a6496e43_32d3_11ed_918a_4c1d9616b6e6row6_col6\" class=\"data row6 col6\" >0.091538</td>\n",
       "            </tr>\n",
       "            <tr>\n",
       "                        <th id=\"T_a6496e43_32d3_11ed_918a_4c1d9616b6e6level0_row7\" class=\"row_heading level0 row7\" >max</th>\n",
       "                        <td id=\"T_a6496e43_32d3_11ed_918a_4c1d9616b6e6row7_col0\" class=\"data row7 col0\" >1776.000000</td>\n",
       "                        <td id=\"T_a6496e43_32d3_11ed_918a_4c1d9616b6e6row7_col1\" class=\"data row7 col1\" >144273.000000</td>\n",
       "                        <td id=\"T_a6496e43_32d3_11ed_918a_4c1d9616b6e6row7_col2\" class=\"data row7 col2\" >70344.000000</td>\n",
       "                        <td id=\"T_a6496e43_32d3_11ed_918a_4c1d9616b6e6row7_col3\" class=\"data row7 col3\" >4.000000</td>\n",
       "                        <td id=\"T_a6496e43_32d3_11ed_918a_4c1d9616b6e6row7_col4\" class=\"data row7 col4\" >1.000000</td>\n",
       "                        <td id=\"T_a6496e43_32d3_11ed_918a_4c1d9616b6e6row7_col5\" class=\"data row7 col5\" >0.488014</td>\n",
       "                        <td id=\"T_a6496e43_32d3_11ed_918a_4c1d9616b6e6row7_col6\" class=\"data row7 col6\" >0.273419</td>\n",
       "            </tr>\n",
       "    </tbody></table>"
      ],
      "text/plain": [
       "<pandas.io.formats.style.Styler at 0x20002f29220>"
      ]
     },
     "execution_count": 238,
     "metadata": {},
     "output_type": "execute_result"
    }
   ],
   "source": [
    "df_styled"
   ]
  },
  {
   "cell_type": "markdown",
   "metadata": {},
   "source": [
    "* The descriptive statistics above shows that on average dogs have a rating score of 10. However, 75% of them are rated 12 with the maximun been 1776. The favorite tweet count has a maximun of \t144273 while the minimum is 0, and retweets in the maximum of 70344 and a minimum of 1 retweet.\n",
    "* There are quite disturbing issues about the confidence intervals because we can see that the values are very high in p2_conf\tand p3_conf which signals some outliers."
   ]
  },
  {
   "cell_type": "code",
   "execution_count": 221,
   "metadata": {},
   "outputs": [
    {
     "data": {
      "text/plain": [
       "(2097, 20)"
      ]
     },
     "execution_count": 221,
     "metadata": {},
     "output_type": "execute_result"
    }
   ],
   "source": [
    "df_master_copy.shape"
   ]
  },
  {
   "cell_type": "code",
   "execution_count": 222,
   "metadata": {},
   "outputs": [
    {
     "data": {
      "text/html": [
       "<div>\n",
       "<style scoped>\n",
       "    .dataframe tbody tr th:only-of-type {\n",
       "        vertical-align: middle;\n",
       "    }\n",
       "\n",
       "    .dataframe tbody tr th {\n",
       "        vertical-align: top;\n",
       "    }\n",
       "\n",
       "    .dataframe thead th {\n",
       "        text-align: right;\n",
       "    }\n",
       "</style>\n",
       "<table border=\"1\" class=\"dataframe\">\n",
       "  <thead>\n",
       "    <tr style=\"text-align: right;\">\n",
       "      <th></th>\n",
       "      <th>rating</th>\n",
       "      <th>favorites</th>\n",
       "      <th>retweets</th>\n",
       "      <th>img_num</th>\n",
       "      <th>p1_conf</th>\n",
       "      <th>p2_conf</th>\n",
       "      <th>p3_conf</th>\n",
       "    </tr>\n",
       "  </thead>\n",
       "  <tbody>\n",
       "    <tr>\n",
       "      <th>rating</th>\n",
       "      <td>1.000000</td>\n",
       "      <td>0.021164</td>\n",
       "      <td>0.022089</td>\n",
       "      <td>-0.000584</td>\n",
       "      <td>-0.007203</td>\n",
       "      <td>-0.014793</td>\n",
       "      <td>-0.006673</td>\n",
       "    </tr>\n",
       "    <tr>\n",
       "      <th>favorites</th>\n",
       "      <td>0.021164</td>\n",
       "      <td>1.000000</td>\n",
       "      <td>0.925923</td>\n",
       "      <td>0.130846</td>\n",
       "      <td>0.069602</td>\n",
       "      <td>-0.016250</td>\n",
       "      <td>-0.046251</td>\n",
       "    </tr>\n",
       "    <tr>\n",
       "      <th>retweets</th>\n",
       "      <td>0.022089</td>\n",
       "      <td>0.925923</td>\n",
       "      <td>1.000000</td>\n",
       "      <td>0.105046</td>\n",
       "      <td>0.047250</td>\n",
       "      <td>-0.014086</td>\n",
       "      <td>-0.038331</td>\n",
       "    </tr>\n",
       "    <tr>\n",
       "      <th>img_num</th>\n",
       "      <td>-0.000584</td>\n",
       "      <td>0.130846</td>\n",
       "      <td>0.105046</td>\n",
       "      <td>1.000000</td>\n",
       "      <td>0.202765</td>\n",
       "      <td>-0.156895</td>\n",
       "      <td>-0.137720</td>\n",
       "    </tr>\n",
       "    <tr>\n",
       "      <th>p1_conf</th>\n",
       "      <td>-0.007203</td>\n",
       "      <td>0.069602</td>\n",
       "      <td>0.047250</td>\n",
       "      <td>0.202765</td>\n",
       "      <td>1.000000</td>\n",
       "      <td>-0.510649</td>\n",
       "      <td>-0.707916</td>\n",
       "    </tr>\n",
       "    <tr>\n",
       "      <th>p2_conf</th>\n",
       "      <td>-0.014793</td>\n",
       "      <td>-0.016250</td>\n",
       "      <td>-0.014086</td>\n",
       "      <td>-0.156895</td>\n",
       "      <td>-0.510649</td>\n",
       "      <td>1.000000</td>\n",
       "      <td>0.480698</td>\n",
       "    </tr>\n",
       "    <tr>\n",
       "      <th>p3_conf</th>\n",
       "      <td>-0.006673</td>\n",
       "      <td>-0.046251</td>\n",
       "      <td>-0.038331</td>\n",
       "      <td>-0.137720</td>\n",
       "      <td>-0.707916</td>\n",
       "      <td>0.480698</td>\n",
       "      <td>1.000000</td>\n",
       "    </tr>\n",
       "  </tbody>\n",
       "</table>\n",
       "</div>"
      ],
      "text/plain": [
       "             rating  favorites  retweets   img_num   p1_conf   p2_conf  \\\n",
       "rating     1.000000   0.021164  0.022089 -0.000584 -0.007203 -0.014793   \n",
       "favorites  0.021164   1.000000  0.925923  0.130846  0.069602 -0.016250   \n",
       "retweets   0.022089   0.925923  1.000000  0.105046  0.047250 -0.014086   \n",
       "img_num   -0.000584   0.130846  0.105046  1.000000  0.202765 -0.156895   \n",
       "p1_conf   -0.007203   0.069602  0.047250  0.202765  1.000000 -0.510649   \n",
       "p2_conf   -0.014793  -0.016250 -0.014086 -0.156895 -0.510649  1.000000   \n",
       "p3_conf   -0.006673  -0.046251 -0.038331 -0.137720 -0.707916  0.480698   \n",
       "\n",
       "            p3_conf  \n",
       "rating    -0.006673  \n",
       "favorites -0.046251  \n",
       "retweets  -0.038331  \n",
       "img_num   -0.137720  \n",
       "p1_conf   -0.707916  \n",
       "p2_conf    0.480698  \n",
       "p3_conf    1.000000  "
      ]
     },
     "execution_count": 222,
     "metadata": {},
     "output_type": "execute_result"
    }
   ],
   "source": [
    "# Now let look for relationship in the data\n",
    "correlation = df_master_copy.corr()\n",
    "correlation"
   ]
  },
  {
   "cell_type": "code",
   "execution_count": 223,
   "metadata": {
    "scrolled": true
   },
   "outputs": [
    {
     "data": {
      "image/png": "[encoded data removed]",
      "text/plain": [
       "<Figure size 720x720 with 2 Axes>"
      ]
     },
     "metadata": {
      "needs_background": "light"
     },
     "output_type": "display_data"
    }
   ],
   "source": [
    "fig, ax = plt.subplots(figsize=(10,10)) \n",
    "sns.heatmap(correlation, annot=True, linewidths=.8, fmt= '.1f',ax=ax)\n",
    "plt.title('Heat Map showing Correlation')\n",
    "plt.show()"
   ]
  },
  {
   "cell_type": "markdown",
   "metadata": {},
   "source": [
    "* We the heat map above shows strong correlation between  favorites and retweets, negative correlation is seen between p1 and p3, and also between p1 and p2. "
   ]
  },
  {
   "cell_type": "code",
   "execution_count": 237,
   "metadata": {},
   "outputs": [
    {
     "data": {
      "image/png": "[encoded data removed]",
      "text/plain": [
       "<Figure size 720x576 with 1 Axes>"
      ]
     },
     "metadata": {
      "needs_background": "light"
     },
     "output_type": "display_data"
    },
    {
     "data": {
      "text/html": [
       "<div>\n",
       "<style scoped>\n",
       "    .dataframe tbody tr th:only-of-type {\n",
       "        vertical-align: middle;\n",
       "    }\n",
       "\n",
       "    .dataframe tbody tr th {\n",
       "        vertical-align: top;\n",
       "    }\n",
       "\n",
       "    .dataframe thead th {\n",
       "        text-align: right;\n",
       "    }\n",
       "</style>\n",
       "<table border=\"1\" class=\"dataframe\">\n",
       "  <thead>\n",
       "    <tr style=\"text-align: right;\">\n",
       "      <th></th>\n",
       "      <th>favorites</th>\n",
       "    </tr>\n",
       "    <tr>\n",
       "      <th>retweets</th>\n",
       "      <th></th>\n",
       "    </tr>\n",
       "  </thead>\n",
       "  <tbody>\n",
       "    <tr>\n",
       "      <th>11.0</th>\n",
       "      <td>66.0</td>\n",
       "    </tr>\n",
       "    <tr>\n",
       "      <th>19.0</th>\n",
       "      <td>90.0</td>\n",
       "    </tr>\n",
       "    <tr>\n",
       "      <th>24.0</th>\n",
       "      <td>221.0</td>\n",
       "    </tr>\n",
       "    <tr>\n",
       "      <th>28.0</th>\n",
       "      <td>213.0</td>\n",
       "    </tr>\n",
       "    <tr>\n",
       "      <th>30.0</th>\n",
       "      <td>93.0</td>\n",
       "    </tr>\n",
       "    <tr>\n",
       "      <th>...</th>\n",
       "      <td>...</td>\n",
       "    </tr>\n",
       "    <tr>\n",
       "      <th>37270.0</th>\n",
       "      <td>92511.0</td>\n",
       "    </tr>\n",
       "    <tr>\n",
       "      <th>39762.0</th>\n",
       "      <td>123697.0</td>\n",
       "    </tr>\n",
       "    <tr>\n",
       "      <th>51436.0</th>\n",
       "      <td>111218.0</td>\n",
       "    </tr>\n",
       "    <tr>\n",
       "      <th>52643.0</th>\n",
       "      <td>106821.0</td>\n",
       "    </tr>\n",
       "    <tr>\n",
       "      <th>70344.0</th>\n",
       "      <td>144273.0</td>\n",
       "    </tr>\n",
       "  </tbody>\n",
       "</table>\n",
       "<p>1602 rows × 1 columns</p>\n",
       "</div>"
      ],
      "text/plain": [
       "          favorites\n",
       "retweets           \n",
       "11.0           66.0\n",
       "19.0           90.0\n",
       "24.0          221.0\n",
       "28.0          213.0\n",
       "30.0           93.0\n",
       "...             ...\n",
       "37270.0     92511.0\n",
       "39762.0    123697.0\n",
       "51436.0    111218.0\n",
       "52643.0    106821.0\n",
       "70344.0    144273.0\n",
       "\n",
       "[1602 rows x 1 columns]"
      ]
     },
     "execution_count": 237,
     "metadata": {},
     "output_type": "execute_result"
    }
   ],
   "source": [
    "# Lets plot this relationship using a scatter plot\n",
    "label = ['Line of Best fit']\n",
    "plt.figure(figsize=(10,8))\n",
    "plt.scatter(df_master_copy['favorites'], df_master_copy['retweets'])\n",
    "sns.regplot(x='favorites', y='retweets', data=df_master_copy)\n",
    "plt.xlabel('Favorites', size=10)\n",
    "plt.ylabel('Retweets', size=10)\n",
    "plt.title('Chart Showing Correlationship Between Retweets and favorites', size=12)\n",
    "plt.legend(label)\n",
    "plt.show()\n",
    "df_master_copy.groupby(['retweets'])[['favorites']].sum()"
   ]
  },
  {
   "cell_type": "markdown",
   "metadata": {},
   "source": [
    "* The scatter plot goes further to show the strong relation ship between favorite and retweet. As the values for favoites increase so do retweets, all moving towards the positive side of the chart, indication a strong positive correlation."
   ]
  },
  {
   "cell_type": "markdown",
   "metadata": {},
   "source": [
    "# What categories of Dog have the highest rating"
   ]
  },
  {
   "cell_type": "code",
   "execution_count": 236,
   "metadata": {},
   "outputs": [
    {
     "data": {
      "text/html": [
       "<div>\n",
       "<style scoped>\n",
       "    .dataframe tbody tr th:only-of-type {\n",
       "        vertical-align: middle;\n",
       "    }\n",
       "\n",
       "    .dataframe tbody tr th {\n",
       "        vertical-align: top;\n",
       "    }\n",
       "\n",
       "    .dataframe thead th {\n",
       "        text-align: right;\n",
       "    }\n",
       "</style>\n",
       "<table border=\"1\" class=\"dataframe\">\n",
       "  <thead>\n",
       "    <tr style=\"text-align: right;\">\n",
       "      <th></th>\n",
       "      <th>rating</th>\n",
       "    </tr>\n",
       "    <tr>\n",
       "      <th>dog_stages</th>\n",
       "      <th></th>\n",
       "    </tr>\n",
       "  </thead>\n",
       "  <tbody>\n",
       "    <tr>\n",
       "      <th>doggo</th>\n",
       "      <td>80</td>\n",
       "    </tr>\n",
       "    <tr>\n",
       "      <th>floofer</th>\n",
       "      <td>4</td>\n",
       "    </tr>\n",
       "    <tr>\n",
       "      <th>pupper</th>\n",
       "      <td>240</td>\n",
       "    </tr>\n",
       "    <tr>\n",
       "      <th>puppo</th>\n",
       "      <td>29</td>\n",
       "    </tr>\n",
       "  </tbody>\n",
       "</table>\n",
       "</div>"
      ],
      "text/plain": [
       "            rating\n",
       "dog_stages        \n",
       "doggo           80\n",
       "floofer          4\n",
       "pupper         240\n",
       "puppo           29"
      ]
     },
     "execution_count": 236,
     "metadata": {},
     "output_type": "execute_result"
    },
    {
     "data": {
      "image/png": "[encoded data removed]",
      "text/plain": [
       "<Figure size 720x720 with 1 Axes>"
      ]
     },
     "metadata": {
      "needs_background": "light"
     },
     "output_type": "display_data"
    }
   ],
   "source": [
    "df_master_copy['dog_stages'].value_counts().plot(kind='bar',  color=['lightblue','cyan','green','orange'], figsize = (10,10)).set_ylabel('Dog Rating')\n",
    "plt.xlabel('Dog Categories')\n",
    "plt.legend(fontsize=10)\n",
    "plt.title(\"The Most Rated Dog\")\n",
    "df_master_copy.groupby(['dog_stages'])[['rating']].count()"
   ]
  },
  {
   "cell_type": "markdown",
   "metadata": {},
   "source": [
    "* The graph above shows that Pupper dog category has the highest rating with a score of 258."
   ]
  },
  {
   "cell_type": "markdown",
   "metadata": {},
   "source": [
    "# What Gender of Dog Dominated the Data set"
   ]
  },
  {
   "cell_type": "code",
   "execution_count": 227,
   "metadata": {},
   "outputs": [
    {
     "data": {
      "text/html": [
       "<div>\n",
       "<style scoped>\n",
       "    .dataframe tbody tr th:only-of-type {\n",
       "        vertical-align: middle;\n",
       "    }\n",
       "\n",
       "    .dataframe tbody tr th {\n",
       "        vertical-align: top;\n",
       "    }\n",
       "\n",
       "    .dataframe thead th {\n",
       "        text-align: right;\n",
       "    }\n",
       "</style>\n",
       "<table border=\"1\" class=\"dataframe\">\n",
       "  <thead>\n",
       "    <tr style=\"text-align: right;\">\n",
       "      <th></th>\n",
       "      <th>dog_sex</th>\n",
       "    </tr>\n",
       "    <tr>\n",
       "      <th>dog_sex</th>\n",
       "      <th></th>\n",
       "    </tr>\n",
       "  </thead>\n",
       "  <tbody>\n",
       "    <tr>\n",
       "      <th>NaN</th>\n",
       "      <td>844</td>\n",
       "    </tr>\n",
       "    <tr>\n",
       "      <th>female</th>\n",
       "      <td>231</td>\n",
       "    </tr>\n",
       "    <tr>\n",
       "      <th>male</th>\n",
       "      <td>1022</td>\n",
       "    </tr>\n",
       "  </tbody>\n",
       "</table>\n",
       "</div>"
      ],
      "text/plain": [
       "         dog_sex\n",
       "dog_sex         \n",
       "NaN          844\n",
       "female       231\n",
       "male        1022"
      ]
     },
     "execution_count": 227,
     "metadata": {},
     "output_type": "execute_result"
    },
    {
     "data": {
      "image/png": "[encoded data removed]",
      "text/plain": [
       "<Figure size 720x360 with 1 Axes>"
      ]
     },
     "metadata": {
      "needs_background": "light"
     },
     "output_type": "display_data"
    }
   ],
   "source": [
    "gender = df_master_copy['dog_sex'].value_counts().index\n",
    "plt.figure(figsize=(10, 5))\n",
    "sns.countplot(data=df_master_copy, y='dog_sex', order=gender)\n",
    "plt.title('Dog Distribution by Gender')\n",
    "plt.xlabel('No. of Dogs')\n",
    "plt.ylabel('Sex');\n",
    "df_master_copy.groupby(['dog_sex'])[['dog_sex']].count()"
   ]
  },
  {
   "cell_type": "markdown",
   "metadata": {},
   "source": [
    "* Again, the graph above indicate that Male dogs dominated the dataset, with a good number of the gender not known."
   ]
  },
  {
   "cell_type": "markdown",
   "metadata": {},
   "source": [
    "# What Gender of Dog is Rated Most"
   ]
  },
  {
   "cell_type": "code",
   "execution_count": 235,
   "metadata": {},
   "outputs": [
    {
     "data": {
      "image/png": "[encoded data removed]",
      "text/plain": [
       "<Figure size 864x576 with 1 Axes>"
      ]
     },
     "metadata": {
      "needs_background": "light"
     },
     "output_type": "display_data"
    },
    {
     "data": {
      "text/html": [
       "<div>\n",
       "<style scoped>\n",
       "    .dataframe tbody tr th:only-of-type {\n",
       "        vertical-align: middle;\n",
       "    }\n",
       "\n",
       "    .dataframe tbody tr th {\n",
       "        vertical-align: top;\n",
       "    }\n",
       "\n",
       "    .dataframe thead th {\n",
       "        text-align: right;\n",
       "    }\n",
       "</style>\n",
       "<table border=\"1\" class=\"dataframe\">\n",
       "  <thead>\n",
       "    <tr style=\"text-align: right;\">\n",
       "      <th></th>\n",
       "      <th>rating</th>\n",
       "    </tr>\n",
       "    <tr>\n",
       "      <th>dog_sex</th>\n",
       "      <th></th>\n",
       "    </tr>\n",
       "  </thead>\n",
       "  <tbody>\n",
       "    <tr>\n",
       "      <th>NaN</th>\n",
       "      <td>11.010557</td>\n",
       "    </tr>\n",
       "    <tr>\n",
       "      <th>female</th>\n",
       "      <td>11.475427</td>\n",
       "    </tr>\n",
       "    <tr>\n",
       "      <th>male</th>\n",
       "      <td>12.327455</td>\n",
       "    </tr>\n",
       "  </tbody>\n",
       "</table>\n",
       "</div>"
      ],
      "text/plain": [
       "            rating\n",
       "dog_sex           \n",
       "NaN      11.010557\n",
       "female   11.475427\n",
       "male     12.327455"
      ]
     },
     "execution_count": 235,
     "metadata": {},
     "output_type": "execute_result"
    }
   ],
   "source": [
    "df_master_copy.groupby('dog_sex')['rating'].mean().plot(kind='bar', color=['#FFC0CB','#00008B','#FFC0CB'], figsize=(12,8));\n",
    "plt.xlabel(\"Sex\")\n",
    "plt.ylabel(\"Rating\")\n",
    "plt.title(\"Most Rated Dog by Sex\")\n",
    "plt.legend()\n",
    "plt.show()\n",
    "df_master_copy.groupby(['dog_sex'])[['rating']].mean()"
   ]
  },
  {
   "cell_type": "markdown",
   "metadata": {},
   "source": [
    "Male Dogs are slightly rated higher than their Female counter with and average rating of 12.3 to 11.4. Again we can see that a good number of the gender is unknown having score of 11.0 as well."
   ]
  },
  {
   "cell_type": "markdown",
   "metadata": {},
   "source": [
    "# What is the favourite Name for Dog "
   ]
  },
  {
   "cell_type": "code",
   "execution_count": 230,
   "metadata": {},
   "outputs": [
    {
     "data": {
      "image/png": "[encoded data removed]",
      "text/plain": [
       "<Figure size 648x360 with 1 Axes>"
      ]
     },
     "metadata": {
      "needs_background": "light"
     },
     "output_type": "display_data"
    }
   ],
   "source": [
    "name = df_master_copy['name'].value_counts().head(10).index\n",
    "plt.figure(figsize=(9, 5))\n",
    "sns.countplot(data=df_master_copy, y='name', order=name)\n",
    "plt.title('Top 10 Favorite Names for Dogs')\n",
    "plt.xlabel('No. of Occurance')\n",
    "plt.ylabel('Name');"
   ]
  },
  {
   "cell_type": "markdown",
   "metadata": {},
   "source": [
    "* Charlie and Lucy are the favorite names for dogs."
   ]
  },
  {
   "cell_type": "markdown",
   "metadata": {},
   "source": [
    "# What image of Dog occure most in the distribution"
   ]
  },
  {
   "cell_type": "code",
   "execution_count": 231,
   "metadata": {},
   "outputs": [
    {
     "data": {
      "text/plain": [
       "1.0    1692\n",
       "2.0     190\n",
       "3.0      59\n",
       "4.0      30\n",
       "Name: img_num, dtype: int64"
      ]
     },
     "execution_count": 231,
     "metadata": {},
     "output_type": "execute_result"
    }
   ],
   "source": [
    "df_master_copy.img_num.value_counts()"
   ]
  },
  {
   "cell_type": "code",
   "execution_count": 232,
   "metadata": {},
   "outputs": [
    {
     "data": {
      "text/html": [
       "<div>\n",
       "<style scoped>\n",
       "    .dataframe tbody tr th:only-of-type {\n",
       "        vertical-align: middle;\n",
       "    }\n",
       "\n",
       "    .dataframe tbody tr th {\n",
       "        vertical-align: top;\n",
       "    }\n",
       "\n",
       "    .dataframe thead th {\n",
       "        text-align: right;\n",
       "    }\n",
       "</style>\n",
       "<table border=\"1\" class=\"dataframe\">\n",
       "  <thead>\n",
       "    <tr style=\"text-align: right;\">\n",
       "      <th></th>\n",
       "      <th>img_num</th>\n",
       "    </tr>\n",
       "    <tr>\n",
       "      <th>img_num</th>\n",
       "      <th></th>\n",
       "    </tr>\n",
       "  </thead>\n",
       "  <tbody>\n",
       "    <tr>\n",
       "      <th>1.0</th>\n",
       "      <td>1692</td>\n",
       "    </tr>\n",
       "    <tr>\n",
       "      <th>2.0</th>\n",
       "      <td>190</td>\n",
       "    </tr>\n",
       "    <tr>\n",
       "      <th>3.0</th>\n",
       "      <td>59</td>\n",
       "    </tr>\n",
       "    <tr>\n",
       "      <th>4.0</th>\n",
       "      <td>30</td>\n",
       "    </tr>\n",
       "  </tbody>\n",
       "</table>\n",
       "</div>"
      ],
      "text/plain": [
       "         img_num\n",
       "img_num         \n",
       "1.0         1692\n",
       "2.0          190\n",
       "3.0           59\n",
       "4.0           30"
      ]
     },
     "execution_count": 232,
     "metadata": {},
     "output_type": "execute_result"
    },
    {
     "data": {
      "image/png": "[encoded data removed]",
      "text/plain": [
       "<Figure size 648x360 with 1 Axes>"
      ]
     },
     "metadata": {
      "needs_background": "light"
     },
     "output_type": "display_data"
    }
   ],
   "source": [
    "plt.figure(figsize=(9, 5))\n",
    "df_master_copy['img_num'].value_counts().plot(kind='bar').set_ylabel('Frequency')\n",
    "plt.xlabel('Image')\n",
    "plt.legend()\n",
    "plt.title('Image Distribution')\n",
    "df_master_copy.groupby(['img_num'])[['img_num']].count()"
   ]
  },
  {
   "cell_type": "markdown",
   "metadata": {},
   "source": [
    "* The Statistics above shows that the image appeared most at a confidence level of one. It goes further to show the excellent work done by the nueral network use for the prediction."
   ]
  },
  {
   "cell_type": "code",
   "execution_count": 233,
   "metadata": {},
   "outputs": [
    {
     "data": {
      "text/html": [
       "<div>\n",
       "<style scoped>\n",
       "    .dataframe tbody tr th:only-of-type {\n",
       "        vertical-align: middle;\n",
       "    }\n",
       "\n",
       "    .dataframe tbody tr th {\n",
       "        vertical-align: top;\n",
       "    }\n",
       "\n",
       "    .dataframe thead th {\n",
       "        text-align: right;\n",
       "    }\n",
       "</style>\n",
       "<table border=\"1\" class=\"dataframe\">\n",
       "  <thead>\n",
       "    <tr style=\"text-align: right;\">\n",
       "      <th></th>\n",
       "      <th>favorites</th>\n",
       "      <th>retweets</th>\n",
       "    </tr>\n",
       "  </thead>\n",
       "  <tbody>\n",
       "    <tr>\n",
       "      <th>2017-08-01 16:23:56+00:</th>\n",
       "      <td>33698.0</td>\n",
       "      <td>6970.0</td>\n",
       "    </tr>\n",
       "    <tr>\n",
       "      <th>2017-08-01 00:17:27+00:</th>\n",
       "      <td>29228.0</td>\n",
       "      <td>5273.0</td>\n",
       "    </tr>\n",
       "    <tr>\n",
       "      <th>2017-07-31 00:18:03+00:</th>\n",
       "      <td>21976.0</td>\n",
       "      <td>3464.0</td>\n",
       "    </tr>\n",
       "    <tr>\n",
       "      <th>2017-07-30 15:58:51+00:</th>\n",
       "      <td>36793.0</td>\n",
       "      <td>7193.0</td>\n",
       "    </tr>\n",
       "    <tr>\n",
       "      <th>2017-07-29 16:00:24+00:</th>\n",
       "      <td>35184.0</td>\n",
       "      <td>7718.0</td>\n",
       "    </tr>\n",
       "    <tr>\n",
       "      <th>...</th>\n",
       "      <td>...</td>\n",
       "      <td>...</td>\n",
       "    </tr>\n",
       "    <tr>\n",
       "      <th>2015-11-16 00:24:50+00:</th>\n",
       "      <td>88.0</td>\n",
       "      <td>36.0</td>\n",
       "    </tr>\n",
       "    <tr>\n",
       "      <th>2015-11-16 00:04:52+00:</th>\n",
       "      <td>246.0</td>\n",
       "      <td>115.0</td>\n",
       "    </tr>\n",
       "    <tr>\n",
       "      <th>2015-11-15 23:21:54+00:</th>\n",
       "      <td>100.0</td>\n",
       "      <td>36.0</td>\n",
       "    </tr>\n",
       "    <tr>\n",
       "      <th>2015-11-15 23:05:30+00:</th>\n",
       "      <td>112.0</td>\n",
       "      <td>39.0</td>\n",
       "    </tr>\n",
       "    <tr>\n",
       "      <th>2015-11-15 22:32:08+00:</th>\n",
       "      <td>2283.0</td>\n",
       "      <td>419.0</td>\n",
       "    </tr>\n",
       "  </tbody>\n",
       "</table>\n",
       "<p>2097 rows × 2 columns</p>\n",
       "</div>"
      ],
      "text/plain": [
       "                         favorites  retweets\n",
       "2017-08-01 16:23:56+00:    33698.0    6970.0\n",
       "2017-08-01 00:17:27+00:    29228.0    5273.0\n",
       "2017-07-31 00:18:03+00:    21976.0    3464.0\n",
       "2017-07-30 15:58:51+00:    36793.0    7193.0\n",
       "2017-07-29 16:00:24+00:    35184.0    7718.0\n",
       "...                            ...       ...\n",
       "2015-11-16 00:24:50+00:       88.0      36.0\n",
       "2015-11-16 00:04:52+00:      246.0     115.0\n",
       "2015-11-15 23:21:54+00:      100.0      36.0\n",
       "2015-11-15 23:05:30+00:      112.0      39.0\n",
       "2015-11-15 22:32:08+00:     2283.0     419.0\n",
       "\n",
       "[2097 rows x 2 columns]"
      ]
     },
     "execution_count": 233,
     "metadata": {},
     "output_type": "execute_result"
    }
   ],
   "source": [
    "favorites = list(df_master_copy.favorites)\n",
    "retweets = list(df_master_copy.retweets)\n",
    "dtime = list(df_master_copy.timestamp)\n",
    "df = pd.DataFrame(list(zip( favorites, retweets )),\n",
    "\t\t\t\tindex = dtime,\n",
    "\t\t\t\tcolumns = [ 'favorites' , 'retweets' ])\n",
    "df\n"
   ]
  },
  {
   "cell_type": "code",
   "execution_count": 234,
   "metadata": {},
   "outputs": [
    {
     "data": {
      "image/png": "[encoded data removed]",
      "text/plain": [
       "<Figure size 720x576 with 1 Axes>"
      ]
     },
     "metadata": {
      "needs_background": "light"
     },
     "output_type": "display_data"
    }
   ],
   "source": [
    "text = \" \".join(df_master_copy['text'])\n",
    "img_mask = np.array(Image.open(\"dog.jpg\"))\n",
    "img_colors = ImageColorGenerator(img_mask)\n",
    "# Generate word cloud\n",
    "word_cloud = WordCloud(\n",
    "        width=3000,\n",
    "        height=2000,\n",
    "        mask=img_mask,\n",
    "        random_state=1,\n",
    "        background_color=\"salmon\",\n",
    "        colormap=\"Pastel1\",\n",
    "        collocations=False,\n",
    "        stopwords=STOPWORDS,\n",
    "        ).generate(text)\n",
    "    # Display the generated Word Cloud with a Dog Image\n",
    "plt.figure(figsize=(10, 8))    \n",
    "plt.imshow(word_cloud)\n",
    "plt.title('We Rate Dogs', size=15)\n",
    "plt.axis(\"off\")\n",
    "plt.show()"
   ]
  },
  {
   "cell_type": "markdown",
   "metadata": {},
   "source": [
    "<a id='reporting'></a>\n",
    "## Reporting "
   ]
  },
  {
   "cell_type": "markdown",
   "metadata": {},
   "source": [
    "- Data wrangling efforts as contained in the wrangle_report.\n",
    "- Data analyses and visualizations as contained in the act_report.\n"
   ]
  },
  {
   "cell_type": "markdown",
   "metadata": {},
   "source": [
    "<a id='conclusions'></a>\n",
    "## Conclusion\n",
    "* Data collection from three sources was collected and analysed based on a WeRateDogs Twitter account that rates people's dogs with a humorous comment about the dog.\n",
    "* Following the analysis perform on the data, some questions were ask to help us get insight, and is documented below:\n",
    "### What categories of Dog have the highest rating?\n",
    "* Pupper dog category had the highest rating with a score of 258.\n",
    "### What Gender of Dog Dominated the Data set?\n",
    "* Male dogs dominated the dataset, with a good number of the gender not known.\n",
    "### What Gender of Dog is Rated Most?\n",
    "* Female Dogs was observed to be slightly rated higher than their Male counter.\n",
    "### What is the favourite Name for Dog?\n",
    "* Dog name Charlie was the favorited name for dogs as shown in the analysis.\n",
    "### What image of Dog occurred most in the distribution?\n",
    "* The Statistics shown in our analysis shows that the image appeared most at a confidence level of 1.\n",
    "## Recommendation\n",
    "- The WeRateDog is a good source for data science project, and further research can be done in the predictive modelling of the dataset."
   ]
  },
  {
   "cell_type": "code",
   "execution_count": null,
   "metadata": {},
   "outputs": [],
   "source": []
  }
 ],
 "metadata": {
  "kernelspec": {
   "display_name": "Python 3",
   "language": "python",
   "name": "python3"
  },
  "language_info": {
   "codemirror_mode": {
    "name": "ipython",
    "version": 3
   },
   "file_extension": ".py",
   "mimetype": "text/x-python",
   "name": "python",
   "nbconvert_exporter": "python",
   "pygments_lexer": "ipython3",
   "version": "3.8.5"
  }
 },
 "nbformat": 4,
 "nbformat_minor": 2
}
